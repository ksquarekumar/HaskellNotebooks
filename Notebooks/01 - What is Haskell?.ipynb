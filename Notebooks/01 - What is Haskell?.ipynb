{
 "cells": [
  {
   "cell_type": "markdown",
   "metadata": {
    "toc": true
   },
   "source": [
    "<h1>Table of Contents<span class=\"tocSkip\"></span></h1>\n",
    "<div class=\"toc\"><ul class=\"toc-item\"><li><span><a href=\"#Purely-Functional\" data-toc-modified-id=\"Purely-Functional-1\"><span class=\"toc-item-num\">1&nbsp;&nbsp;</span>Purely Functional</a></span><ul class=\"toc-item\"><li><span><a href=\"#Examples\" data-toc-modified-id=\"Examples-1.1\"><span class=\"toc-item-num\">1.1&nbsp;&nbsp;</span>Examples</a></span></li></ul></li><li><span><a href=\"#Statically-Typed\" data-toc-modified-id=\"Statically-Typed-2\"><span class=\"toc-item-num\">2&nbsp;&nbsp;</span>Statically Typed</a></span><ul class=\"toc-item\"><li><span><a href=\"#Types-in-Haskell\" data-toc-modified-id=\"Types-in-Haskell-2.1\"><span class=\"toc-item-num\">2.1&nbsp;&nbsp;</span>Types in Haskell</a></span></li></ul></li><li><span><a href=\"#Lazy\" data-toc-modified-id=\"Lazy-3\"><span class=\"toc-item-num\">3&nbsp;&nbsp;</span>Lazy</a></span></li></ul></div>"
   ]
  },
  {
   "cell_type": "markdown",
   "metadata": {},
   "source": [
    "# Haskell Features\n",
    "---\n",
    "1. Purely functional\n",
    "2. Statically Typed\n",
    "3. Lazy"
   ]
  },
  {
   "cell_type": "markdown",
   "metadata": {},
   "source": [
    "## Purely Functional\n",
    "---\n",
    "1. Every input has a corresponding output\n",
    "\n",
    "```\n",
    "f(x)=x^2+1\n",
    "g(x)=x-1\n",
    "g(f(x)) = x^2\n",
    "```\n",
    "\n",
    "2. Functions have no side effects, i.e. \n",
    "    * it will never modify a global variable.\n",
    "    * Order is irrelevant\n",
    "    * Concurrency is Easy"
   ]
  },
  {
   "cell_type": "markdown",
   "metadata": {
    "ExecuteTime": {
     "end_time": "2019-02-24T10:48:14.345765Z",
     "start_time": "2019-02-24T10:48:14.341Z"
    }
   },
   "source": [
    "### Examples\n",
    "\n",
    "---\n",
    "if `f` is a function from set `A` to set `B` i.e `f :: A → B`, the domain, codomain and the ranges are:\n",
    "```haskell\n",
    "domain(f)   = A\n",
    "codomain(f) = B\n",
    "range(f)    ⊆ B\n",
    "```\n",
    "---\n",
    "QuickSort in Haskell\n",
    "```haskell\n",
    "qsort []     = []\n",
    "\n",
    "qsort (p:xs) = (qsort lesser) ++ [p] ++ (qsort greater)\n",
    "    where\n",
    "        lesser  = filter (< p) xs\n",
    "        greater = filter (>= p) xs\n",
    "```\n",
    "**No variable assignments,**\n",
    "\n",
    "**No array indices,**\n",
    "\n",
    "**No memory management!**\n",
    "\n",
    "---\n",
    "\n",
    "**No Side Effects**: When this function runs on a List, we get back an Int. No more, no less.\n",
    "\n",
    "```haskell\n",
    "count :: List -> Int\n",
    "```\n",
    "v/s\n",
    "\n",
    "```cpp\n",
    "int count( List l ) { ... }\n",
    "```\n",
    "The Equivalent `C++` however doesn't promise integrity. Maybe it's doing file IO or updating a global variable. You can't trust the code won't burn down your house."
   ]
  },
  {
   "cell_type": "markdown",
   "metadata": {},
   "source": [
    "## Statically Typed\n",
    "---\n",
    "`f x = x² + 1`\n",
    "\n",
    "`f :: Int → Int`\n",
    "\n",
    "* There is never confusion about types (Bool, Int, Char, etc)\n",
    "* Strong formalism. The proof is the code.\n",
    "* If your code compiles, you're 99% done"
   ]
  },
  {
   "cell_type": "markdown",
   "metadata": {},
   "source": [
    "### Types in Haskell\n",
    "---\n",
    "Every function in haskell has a Type signature.\n",
    "\n",
    "```haskell\n",
    "foo :: Int -> String\n",
    "```\n",
    "I don't know what foo means, but I know what it does!"
   ]
  },
  {
   "cell_type": "markdown",
   "metadata": {},
   "source": [
    "## Lazy\n",
    "---\n",
    "![Lazy](http://www.shuklan.com/haskell/L01_files/lazy.jpg)\n",
    "---\n",
    "* Nothing is evaluated unless necessary\n",
    "```haskell\n",
    "head (sort ls)\n",
    "```\n",
    "    * The list will only be sorted enough to find the minimum\n",
    "\n",
    "* Allows infinite data structures\n",
    "```haskell\n",
    "[1..]\n",
    "```"
   ]
  }
 ],
 "metadata": {
  "kernelspec": {
   "display_name": "Haskell",
   "language": "haskell",
   "name": "haskell"
  },
  "language_info": {
   "codemirror_mode": "ihaskell",
   "file_extension": ".hs",
   "name": "haskell",
   "pygments_lexer": "Haskell",
   "version": "8.6.3"
  },
  "nbTranslate": {
   "displayLangs": [
    "*"
   ],
   "hotkey": "alt-t",
   "langInMainMenu": true,
   "sourceLang": "en",
   "targetLang": "fr",
   "useGoogleTranslate": true
  },
  "toc": {
   "base_numbering": 1,
   "nav_menu": {},
   "number_sections": true,
   "sideBar": true,
   "skip_h1_title": true,
   "title_cell": "Table of Contents",
   "title_sidebar": "Contents",
   "toc_cell": true,
   "toc_position": {},
   "toc_section_display": true,
   "toc_window_display": false
  }
 },
 "nbformat": 4,
 "nbformat_minor": 2
}
