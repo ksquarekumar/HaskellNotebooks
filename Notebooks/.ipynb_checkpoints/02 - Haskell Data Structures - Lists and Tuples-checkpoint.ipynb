{
 "cells": [
  {
   "cell_type": "markdown",
   "metadata": {
    "toc": true
   },
   "source": [
    "<h1>Table of Contents<span class=\"tocSkip\"></span></h1>\n",
    "<div class=\"toc\"><ul class=\"toc-item\"><li><span><a href=\"#Jumping-into-GHCi\" data-toc-modified-id=\"Jumping-into-GHCi-1\"><span class=\"toc-item-num\">1&nbsp;&nbsp;</span>Jumping into GHCi</a></span><ul class=\"toc-item\"><li><span><a href=\"#Functions-are-everywhere-!\" data-toc-modified-id=\"Functions-are-everywhere-!-1.1\"><span class=\"toc-item-num\">1.1&nbsp;&nbsp;</span>Functions are everywhere !</a></span></li><li><span><a href=\"#Bool\" data-toc-modified-id=\"Bool-1.2\"><span class=\"toc-item-num\">1.2&nbsp;&nbsp;</span>Bool</a></span></li><li><span><a href=\"#if-...-then-...-else-...\" data-toc-modified-id=\"if-...-then-...-else-...-1.3\"><span class=\"toc-item-num\">1.3&nbsp;&nbsp;</span><strong>if ... then ... else ...</strong></a></span></li></ul></li><li><span><a href=\"#Lists\" data-toc-modified-id=\"Lists-2\"><span class=\"toc-item-num\">2&nbsp;&nbsp;</span>Lists</a></span><ul class=\"toc-item\"><li><ul class=\"toc-item\"><li><span><a href=\"#Enumeration\" data-toc-modified-id=\"Enumeration-2.0.1\"><span class=\"toc-item-num\">2.0.1&nbsp;&nbsp;</span>Enumeration</a></span></li><li><span><a href=\"#List-operations\" data-toc-modified-id=\"List-operations-2.0.2\"><span class=\"toc-item-num\">2.0.2&nbsp;&nbsp;</span>List operations</a></span></li></ul></li><li><span><a href=\"#retreival\" data-toc-modified-id=\"retreival-2.1\"><span class=\"toc-item-num\">2.1&nbsp;&nbsp;</span>retreival</a></span></li><li><span><a href=\"#Strings\" data-toc-modified-id=\"Strings-2.2\"><span class=\"toc-item-num\">2.2&nbsp;&nbsp;</span>Strings</a></span></li><li><span><a href=\"#Useful-List-Functions\" data-toc-modified-id=\"Useful-List-Functions-2.3\"><span class=\"toc-item-num\">2.3&nbsp;&nbsp;</span>Useful List Functions</a></span><ul class=\"toc-item\"><li><span><a href=\"#Exercise:-Reverse-a-List\" data-toc-modified-id=\"Exercise:-Reverse-a-List-2.3.1\"><span class=\"toc-item-num\">2.3.1&nbsp;&nbsp;</span>Exercise: Reverse a List</a></span><ul class=\"toc-item\"><li><span><a href=\"#With-GHCi\" data-toc-modified-id=\"With-GHCi-2.3.1.1\"><span class=\"toc-item-num\">2.3.1.1&nbsp;&nbsp;</span>With GHCi</a></span></li></ul></li></ul></li><li><span><a href=\"#List-Comprehensions\" data-toc-modified-id=\"List-Comprehensions-2.4\"><span class=\"toc-item-num\">2.4&nbsp;&nbsp;</span>List Comprehensions</a></span></li></ul></li><li><span><a href=\"#Tuples\" data-toc-modified-id=\"Tuples-3\"><span class=\"toc-item-num\">3&nbsp;&nbsp;</span>Tuples</a></span></li><li><span><a href=\"#Exercise\" data-toc-modified-id=\"Exercise-4\"><span class=\"toc-item-num\">4&nbsp;&nbsp;</span>Exercise</a></span></li></ul></div>"
   ]
  },
  {
   "cell_type": "markdown",
   "metadata": {},
   "source": [
    "Using [Hoogle](http://www.haskell.org/hoogle/)"
   ]
  },
  {
   "cell_type": "code",
   "execution_count": 1,
   "metadata": {
    "ExecuteTime": {
     "end_time": "2019-02-24T12:13:32.463295Z",
     "start_time": "2019-02-24T12:13:29.281Z"
    }
   },
   "outputs": [
    {
     "data": {},
     "metadata": {},
     "output_type": "display_data"
    }
   ],
   "source": [
    ":hoogle reverse"
   ]
  },
  {
   "cell_type": "markdown",
   "metadata": {
    "ExecuteTime": {
     "end_time": "2019-02-24T11:00:17.649633Z",
     "start_time": "2019-02-24T11:00:17.645Z"
    }
   },
   "source": [
    "# `([\"lists\", \"tuples\"], \"and data types\")`"
   ]
  },
  {
   "cell_type": "markdown",
   "metadata": {},
   "source": [
    "## Jumping into GHCi\n",
    "---\n",
    "* GHC is a Haskell compiler, and GHCi is the interactive environment for writing Haskell code.\n",
    "\n",
    "```haskell\n",
    "Prelude> 4317 * 103\n",
    "444651\n",
    "```\n",
    "\n",
    "```haskell\n",
    "Prelude> let x = 3.0\n",
    "Prelude> let y = 4.0\n",
    "Prelude> sqrt( x^2 + y^2 )\n",
    "5.0\n",
    "```\n",
    "\n",
    "* Haskell allows you to infix some symbols for your convenience. You can write 100 `mod` 3 instead of `mod` 100 3. Also, unlike some other languages, **Haskell statements do not end with a semi-colon**.\n",
    "\n",
    "* The only boolean data types are `True` and `False`. Unlike some other languages, the number `0` **does not mean** `False`, and the number `1` **does not mean** `True`.\n",
    "\n"
   ]
  },
  {
   "cell_type": "code",
   "execution_count": 2,
   "metadata": {
    "ExecuteTime": {
     "end_time": "2019-02-24T12:13:35.143014Z",
     "start_time": "2019-02-24T12:13:34.804Z"
    }
   },
   "outputs": [
    {
     "data": {
      "text/plain": [
       "1308051"
      ]
     },
     "metadata": {},
     "output_type": "display_data"
    }
   ],
   "source": [
    "4317 * 303"
   ]
  },
  {
   "cell_type": "code",
   "execution_count": 3,
   "metadata": {
    "ExecuteTime": {
     "end_time": "2019-02-24T12:13:35.613013Z",
     "start_time": "2019-02-24T12:13:35.114Z"
    }
   },
   "outputs": [
    {
     "data": {
      "text/plain": [
       "3.773592452822642"
      ]
     },
     "metadata": {},
     "output_type": "display_data"
    }
   ],
   "source": [
    "let x = 2.0\n",
    "let y = 3.2\n",
    "sqrt(x^2 + y^2)"
   ]
  },
  {
   "cell_type": "markdown",
   "metadata": {
    "ExecuteTime": {
     "end_time": "2019-02-24T11:08:53.217434Z",
     "start_time": "2019-02-24T11:08:53.213Z"
    }
   },
   "source": [
    "### Functions are everywhere !"
   ]
  },
  {
   "cell_type": "code",
   "execution_count": 4,
   "metadata": {
    "ExecuteTime": {
     "end_time": "2019-02-24T12:13:35.836052Z",
     "start_time": "2019-02-24T12:13:35.502Z"
    }
   },
   "outputs": [
    {
     "data": {
      "text/plain": [
       "5"
      ]
     },
     "metadata": {},
     "output_type": "display_data"
    }
   ],
   "source": [
    "(+) 2 3"
   ]
  },
  {
   "cell_type": "code",
   "execution_count": 5,
   "metadata": {
    "ExecuteTime": {
     "end_time": "2019-02-24T12:13:36.069964Z",
     "start_time": "2019-02-24T12:13:35.695Z"
    }
   },
   "outputs": [
    {
     "data": {
      "text/plain": [
       "8"
      ]
     },
     "metadata": {},
     "output_type": "display_data"
    }
   ],
   "source": [
    "(^) 2 3"
   ]
  },
  {
   "cell_type": "markdown",
   "metadata": {
    "ExecuteTime": {
     "end_time": "2019-02-24T11:11:26.377448Z",
     "start_time": "2019-02-24T11:11:26.372Z"
    }
   },
   "source": [
    "### Bool"
   ]
  },
  {
   "cell_type": "code",
   "execution_count": 1,
   "metadata": {
    "ExecuteTime": {
     "end_time": "2019-02-25T17:13:39.767110Z",
     "start_time": "2019-02-25T17:13:39.359Z"
    }
   },
   "outputs": [
    {
     "data": {
      "text/html": [
       "<style>/* Styles used for the Hoogle display in the pager */\n",
       ".hoogle-doc {\n",
       "display: block;\n",
       "padding-bottom: 1.3em;\n",
       "padding-left: 0.4em;\n",
       "}\n",
       ".hoogle-code {\n",
       "display: block;\n",
       "font-family: monospace;\n",
       "white-space: pre;\n",
       "}\n",
       ".hoogle-text {\n",
       "display: block;\n",
       "}\n",
       ".hoogle-name {\n",
       "color: green;\n",
       "font-weight: bold;\n",
       "}\n",
       ".hoogle-head {\n",
       "font-weight: bold;\n",
       "}\n",
       ".hoogle-sub {\n",
       "display: block;\n",
       "margin-left: 0.4em;\n",
       "}\n",
       ".hoogle-package {\n",
       "font-weight: bold;\n",
       "font-style: italic;\n",
       "}\n",
       ".hoogle-module {\n",
       "font-weight: bold;\n",
       "}\n",
       ".hoogle-class {\n",
       "font-weight: bold;\n",
       "}\n",
       ".get-type {\n",
       "color: green;\n",
       "font-weight: bold;\n",
       "font-family: monospace;\n",
       "display: block;\n",
       "white-space: pre-wrap;\n",
       "}\n",
       ".show-type {\n",
       "color: green;\n",
       "font-weight: bold;\n",
       "font-family: monospace;\n",
       "margin-left: 1em;\n",
       "}\n",
       ".mono {\n",
       "font-family: monospace;\n",
       "display: block;\n",
       "}\n",
       ".err-msg {\n",
       "color: red;\n",
       "font-style: italic;\n",
       "font-family: monospace;\n",
       "white-space: pre;\n",
       "display: block;\n",
       "}\n",
       "#unshowable {\n",
       "color: red;\n",
       "font-weight: bold;\n",
       "}\n",
       ".err-msg.in.collapse {\n",
       "padding-top: 0.7em;\n",
       "}\n",
       ".highlight-code {\n",
       "white-space: pre;\n",
       "font-family: monospace;\n",
       "}\n",
       ".suggestion-warning { \n",
       "font-weight: bold;\n",
       "color: rgb(200, 130, 0);\n",
       "}\n",
       ".suggestion-error { \n",
       "font-weight: bold;\n",
       "color: red;\n",
       "}\n",
       ".suggestion-name {\n",
       "font-weight: bold;\n",
       "}\n",
       "</style><div class=\"suggestion-name\" style=\"clear:both;\">Evaluate</div><div class=\"suggestion-row\" style=\"float: left;\"><div class=\"suggestion-warning\">Found:</div><div class=\"highlight-code\" id=\"haskell\">True && False</div></div><div class=\"suggestion-row\" style=\"float: left;\"><div class=\"suggestion-warning\">Why Not:</div><div class=\"highlight-code\" id=\"haskell\">False</div></div>"
      ],
      "text/plain": [
       "Line 1: Evaluate\n",
       "Found:\n",
       "True && False\n",
       "Why not:\n",
       "False"
      ]
     },
     "metadata": {},
     "output_type": "display_data"
    },
    {
     "data": {
      "text/plain": [
       "False"
      ]
     },
     "metadata": {},
     "output_type": "display_data"
    }
   ],
   "source": [
    "(True && False) || False"
   ]
  },
  {
   "cell_type": "code",
   "execution_count": 2,
   "metadata": {
    "ExecuteTime": {
     "end_time": "2019-02-25T17:13:39.983735Z",
     "start_time": "2019-02-25T17:13:39.554Z"
    }
   },
   "outputs": [
    {
     "data": {
      "text/plain": [
       "False"
      ]
     },
     "metadata": {},
     "output_type": "display_data"
    }
   ],
   "source": [
    "False"
   ]
  },
  {
   "cell_type": "code",
   "execution_count": 3,
   "metadata": {
    "ExecuteTime": {
     "end_time": "2019-02-25T17:13:40.604646Z",
     "start_time": "2019-02-25T17:13:40.489Z"
    }
   },
   "outputs": [
    {
     "data": {
      "text/html": [
       "<style>/* Styles used for the Hoogle display in the pager */\n",
       ".hoogle-doc {\n",
       "display: block;\n",
       "padding-bottom: 1.3em;\n",
       "padding-left: 0.4em;\n",
       "}\n",
       ".hoogle-code {\n",
       "display: block;\n",
       "font-family: monospace;\n",
       "white-space: pre;\n",
       "}\n",
       ".hoogle-text {\n",
       "display: block;\n",
       "}\n",
       ".hoogle-name {\n",
       "color: green;\n",
       "font-weight: bold;\n",
       "}\n",
       ".hoogle-head {\n",
       "font-weight: bold;\n",
       "}\n",
       ".hoogle-sub {\n",
       "display: block;\n",
       "margin-left: 0.4em;\n",
       "}\n",
       ".hoogle-package {\n",
       "font-weight: bold;\n",
       "font-style: italic;\n",
       "}\n",
       ".hoogle-module {\n",
       "font-weight: bold;\n",
       "}\n",
       ".hoogle-class {\n",
       "font-weight: bold;\n",
       "}\n",
       ".get-type {\n",
       "color: green;\n",
       "font-weight: bold;\n",
       "font-family: monospace;\n",
       "display: block;\n",
       "white-space: pre-wrap;\n",
       "}\n",
       ".show-type {\n",
       "color: green;\n",
       "font-weight: bold;\n",
       "font-family: monospace;\n",
       "margin-left: 1em;\n",
       "}\n",
       ".mono {\n",
       "font-family: monospace;\n",
       "display: block;\n",
       "}\n",
       ".err-msg {\n",
       "color: red;\n",
       "font-style: italic;\n",
       "font-family: monospace;\n",
       "white-space: pre;\n",
       "display: block;\n",
       "}\n",
       "#unshowable {\n",
       "color: red;\n",
       "font-weight: bold;\n",
       "}\n",
       ".err-msg.in.collapse {\n",
       "padding-top: 0.7em;\n",
       "}\n",
       ".highlight-code {\n",
       "white-space: pre;\n",
       "font-family: monospace;\n",
       "}\n",
       ".suggestion-warning { \n",
       "font-weight: bold;\n",
       "color: rgb(200, 130, 0);\n",
       "}\n",
       ".suggestion-error { \n",
       "font-weight: bold;\n",
       "color: red;\n",
       "}\n",
       ".suggestion-name {\n",
       "font-weight: bold;\n",
       "}\n",
       "</style><span class='err-msg'>&lt;interactive&gt;:1:9: error:<br/>    • No instance for (Num Bool) arising from the literal ‘1’<br/>    • In the second argument of ‘(&amp;&amp;)’, namely ‘1’<br/>      In the expression: True &amp;&amp; 1<br/>      In an equation for ‘it’: it = True &amp;&amp; 1</span>"
      ],
      "text/plain": [
       "<interactive>:1:9: error:\n",
       "    • No instance for (Num Bool) arising from the literal ‘1’\n",
       "    • In the second argument of ‘(&&)’, namely ‘1’\n",
       "      In the expression: True && 1\n",
       "      In an equation for ‘it’: it = True && 1"
      ]
     },
     "metadata": {},
     "output_type": "display_data"
    }
   ],
   "source": [
    "--gotcha!\n",
    "True && 1"
   ]
  },
  {
   "cell_type": "code",
   "execution_count": 4,
   "metadata": {
    "ExecuteTime": {
     "end_time": "2019-02-25T17:13:41.546417Z",
     "start_time": "2019-02-25T17:13:41.325Z"
    }
   },
   "outputs": [
    {
     "data": {
      "text/plain": [
       "True"
      ]
     },
     "metadata": {},
     "output_type": "display_data"
    }
   ],
   "source": [
    "30 < 31"
   ]
  },
  {
   "cell_type": "code",
   "execution_count": 5,
   "metadata": {
    "ExecuteTime": {
     "end_time": "2019-02-25T17:13:41.828719Z",
     "start_time": "2019-02-25T17:13:41.608Z"
    }
   },
   "outputs": [
    {
     "data": {
      "text/plain": [
       "True"
      ]
     },
     "metadata": {},
     "output_type": "display_data"
    }
   ],
   "source": [
    "(<) 30 31"
   ]
  },
  {
   "cell_type": "markdown",
   "metadata": {
    "ExecuteTime": {
     "end_time": "2019-02-24T11:11:41.686644Z",
     "start_time": "2019-02-24T11:11:41.682Z"
    }
   },
   "source": [
    "### **if ... then ... else ...**\n",
    "---\n",
    "* Even an if-statement is a function. 'not' is a function that takes in a Bool and negates it."
   ]
  },
  {
   "cell_type": "code",
   "execution_count": 6,
   "metadata": {
    "ExecuteTime": {
     "end_time": "2019-02-25T17:13:43.385653Z",
     "start_time": "2019-02-25T17:13:43.058Z"
    }
   },
   "outputs": [
    {
     "data": {
      "text/html": [
       "<style>/* Styles used for the Hoogle display in the pager */\n",
       ".hoogle-doc {\n",
       "display: block;\n",
       "padding-bottom: 1.3em;\n",
       "padding-left: 0.4em;\n",
       "}\n",
       ".hoogle-code {\n",
       "display: block;\n",
       "font-family: monospace;\n",
       "white-space: pre;\n",
       "}\n",
       ".hoogle-text {\n",
       "display: block;\n",
       "}\n",
       ".hoogle-name {\n",
       "color: green;\n",
       "font-weight: bold;\n",
       "}\n",
       ".hoogle-head {\n",
       "font-weight: bold;\n",
       "}\n",
       ".hoogle-sub {\n",
       "display: block;\n",
       "margin-left: 0.4em;\n",
       "}\n",
       ".hoogle-package {\n",
       "font-weight: bold;\n",
       "font-style: italic;\n",
       "}\n",
       ".hoogle-module {\n",
       "font-weight: bold;\n",
       "}\n",
       ".hoogle-class {\n",
       "font-weight: bold;\n",
       "}\n",
       ".get-type {\n",
       "color: green;\n",
       "font-weight: bold;\n",
       "font-family: monospace;\n",
       "display: block;\n",
       "white-space: pre-wrap;\n",
       "}\n",
       ".show-type {\n",
       "color: green;\n",
       "font-weight: bold;\n",
       "font-family: monospace;\n",
       "margin-left: 1em;\n",
       "}\n",
       ".mono {\n",
       "font-family: monospace;\n",
       "display: block;\n",
       "}\n",
       ".err-msg {\n",
       "color: red;\n",
       "font-style: italic;\n",
       "font-family: monospace;\n",
       "white-space: pre;\n",
       "display: block;\n",
       "}\n",
       "#unshowable {\n",
       "color: red;\n",
       "font-weight: bold;\n",
       "}\n",
       ".err-msg.in.collapse {\n",
       "padding-top: 0.7em;\n",
       "}\n",
       ".highlight-code {\n",
       "white-space: pre;\n",
       "font-family: monospace;\n",
       "}\n",
       ".suggestion-warning { \n",
       "font-weight: bold;\n",
       "color: rgb(200, 130, 0);\n",
       "}\n",
       ".suggestion-error { \n",
       "font-weight: bold;\n",
       "color: red;\n",
       "}\n",
       ".suggestion-name {\n",
       "font-weight: bold;\n",
       "}\n",
       "</style><div class=\"suggestion-name\" style=\"clear:both;\">Redundant if</div><div class=\"suggestion-row\" style=\"float: left;\"><div class=\"suggestion-warning\">Found:</div><div class=\"highlight-code\" id=\"haskell\">if p > 9000 then True else False</div></div><div class=\"suggestion-row\" style=\"float: left;\"><div class=\"suggestion-warning\">Why Not:</div><div class=\"highlight-code\" id=\"haskell\">p > 9000</div></div>"
      ],
      "text/plain": [
       "Line 1: Redundant if\n",
       "Found:\n",
       "if p > 9000 then True else False\n",
       "Why not:\n",
       "p > 9000"
      ]
     },
     "metadata": {},
     "output_type": "display_data"
    },
    {
     "data": {
      "text/plain": [
       "True"
      ]
     },
     "metadata": {},
     "output_type": "display_data"
    }
   ],
   "source": [
    "let royal p = if p>9000 then True else False\n",
    "royal 9001"
   ]
  },
  {
   "cell_type": "markdown",
   "metadata": {
    "ExecuteTime": {
     "end_time": "2019-02-24T11:10:21.192494Z",
     "start_time": "2019-02-24T11:10:21.066Z"
    }
   },
   "source": [
    "**Re-using code is easy**"
   ]
  },
  {
   "cell_type": "code",
   "execution_count": 7,
   "metadata": {
    "ExecuteTime": {
     "end_time": "2019-02-25T17:13:44.841353Z",
     "start_time": "2019-02-25T17:13:44.513Z"
    }
   },
   "outputs": [
    {
     "data": {
      "text/plain": [
       "False"
      ]
     },
     "metadata": {},
     "output_type": "display_data"
    }
   ],
   "source": [
    "let peasant p = not (royal p)\n",
    "peasant 9001"
   ]
  },
  {
   "cell_type": "markdown",
   "metadata": {},
   "source": [
    "## Lists\n",
    "---\n",
    "The most common data type in Haskell,\n",
    "\n",
    "[☺, ☹, ☺]\n",
    "\n",
    "* elements are comma-separated\n",
    "* surrounded by square brackets [ ... ]\n",
    "* an empty list is simply []\n",
    "\n",
    "* **The elements must be of the same type**"
   ]
  },
  {
   "cell_type": "code",
   "execution_count": 8,
   "metadata": {
    "ExecuteTime": {
     "end_time": "2019-02-25T17:13:49.988791Z",
     "start_time": "2019-02-25T17:13:49.769Z"
    }
   },
   "outputs": [
    {
     "data": {
      "text/plain": [
       "[3,1,5,3]"
      ]
     },
     "metadata": {},
     "output_type": "display_data"
    }
   ],
   "source": [
    "[3,1,5,3]"
   ]
  },
  {
   "cell_type": "code",
   "execution_count": 9,
   "metadata": {
    "ExecuteTime": {
     "end_time": "2019-02-25T17:13:50.207588Z",
     "start_time": "2019-02-25T17:13:49.946Z"
    }
   },
   "outputs": [
    {
     "data": {
      "text/plain": [
       "[\"list\",\"of\",\"strings\"]"
      ]
     },
     "metadata": {},
     "output_type": "display_data"
    }
   ],
   "source": [
    "[\"list\",\"of\",\"strings\"]"
   ]
  },
  {
   "cell_type": "code",
   "execution_count": 10,
   "metadata": {
    "ExecuteTime": {
     "end_time": "2019-02-25T17:13:50.317294Z",
     "start_time": "2019-02-25T17:13:50.135Z"
    }
   },
   "outputs": [
    {
     "data": {
      "text/html": [
       "<style>/* Styles used for the Hoogle display in the pager */\n",
       ".hoogle-doc {\n",
       "display: block;\n",
       "padding-bottom: 1.3em;\n",
       "padding-left: 0.4em;\n",
       "}\n",
       ".hoogle-code {\n",
       "display: block;\n",
       "font-family: monospace;\n",
       "white-space: pre;\n",
       "}\n",
       ".hoogle-text {\n",
       "display: block;\n",
       "}\n",
       ".hoogle-name {\n",
       "color: green;\n",
       "font-weight: bold;\n",
       "}\n",
       ".hoogle-head {\n",
       "font-weight: bold;\n",
       "}\n",
       ".hoogle-sub {\n",
       "display: block;\n",
       "margin-left: 0.4em;\n",
       "}\n",
       ".hoogle-package {\n",
       "font-weight: bold;\n",
       "font-style: italic;\n",
       "}\n",
       ".hoogle-module {\n",
       "font-weight: bold;\n",
       "}\n",
       ".hoogle-class {\n",
       "font-weight: bold;\n",
       "}\n",
       ".get-type {\n",
       "color: green;\n",
       "font-weight: bold;\n",
       "font-family: monospace;\n",
       "display: block;\n",
       "white-space: pre-wrap;\n",
       "}\n",
       ".show-type {\n",
       "color: green;\n",
       "font-weight: bold;\n",
       "font-family: monospace;\n",
       "margin-left: 1em;\n",
       "}\n",
       ".mono {\n",
       "font-family: monospace;\n",
       "display: block;\n",
       "}\n",
       ".err-msg {\n",
       "color: red;\n",
       "font-style: italic;\n",
       "font-family: monospace;\n",
       "white-space: pre;\n",
       "display: block;\n",
       "}\n",
       "#unshowable {\n",
       "color: red;\n",
       "font-weight: bold;\n",
       "}\n",
       ".err-msg.in.collapse {\n",
       "padding-top: 0.7em;\n",
       "}\n",
       ".highlight-code {\n",
       "white-space: pre;\n",
       "font-family: monospace;\n",
       "}\n",
       ".suggestion-warning { \n",
       "font-weight: bold;\n",
       "color: rgb(200, 130, 0);\n",
       "}\n",
       ".suggestion-error { \n",
       "font-weight: bold;\n",
       "color: red;\n",
       "}\n",
       ".suggestion-name {\n",
       "font-weight: bold;\n",
       "}\n",
       "</style><span class='err-msg'>&lt;interactive&gt;:1:2: error:<br/>    • No instance for (Num String) arising from the literal ‘1’<br/>    • In the expression: 1<br/>      In the expression: [1, 2, 3, \"a\", ....]<br/>      In an equation for ‘it’: it = [1, 2, 3, ....]</span>"
      ],
      "text/plain": [
       "<interactive>:1:2: error:\n",
       "    • No instance for (Num String) arising from the literal ‘1’\n",
       "    • In the expression: 1\n",
       "      In the expression: [1, 2, 3, \"a\", ....]\n",
       "      In an equation for ‘it’: it = [1, 2, 3, ....]"
      ]
     },
     "metadata": {},
     "output_type": "display_data"
    }
   ],
   "source": [
    "[1,2,3,\"a\",\"bb\",\"ccc\"]"
   ]
  },
  {
   "cell_type": "markdown",
   "metadata": {},
   "source": [
    "#### Enumeration\n",
    "---\n",
    "Start at 1, end at 10\n",
    "```haskell\n",
    "Prelude> [1..10]\n",
    "[1,2,3,4,5,6,7,8,9,10]\n",
    "```\n",
    "Start at 1, count up by 0.25, end at 4\n",
    "```haskell\n",
    "Prelude> [1, 1.25 .. 4.0]\n",
    "[1.0,1.25,1.5,1.75,2.0,2.25,2.5,2.75,3.0,3.25,3.5,3.75,4.0]\n",
    "```\n",
    "\n",
    " * The '..' notation reads our mind and creates a list with the elements interpolated.\n",
    " * The Construct (:) function is more effecient than the Concatenation function due to the implementation. If you're constructing a huge list, use the construct (:) function."
   ]
  },
  {
   "cell_type": "code",
   "execution_count": 11,
   "metadata": {
    "ExecuteTime": {
     "end_time": "2019-02-25T17:13:50.720508Z",
     "start_time": "2019-02-25T17:13:50.499Z"
    }
   },
   "outputs": [
    {
     "data": {
      "text/plain": [
       "[1,2,3,4,5,6,7,8,9,10]"
      ]
     },
     "metadata": {},
     "output_type": "display_data"
    }
   ],
   "source": [
    "[1..10]"
   ]
  },
  {
   "cell_type": "code",
   "execution_count": 12,
   "metadata": {
    "ExecuteTime": {
     "end_time": "2019-02-25T17:13:51.223071Z",
     "start_time": "2019-02-25T17:13:50.978Z"
    }
   },
   "outputs": [
    {
     "data": {
      "text/plain": [
       "[1.0,1.25,1.5,1.75,2.0,2.25,2.5,2.75,3.0,3.25,3.5,3.75,4.0]"
      ]
     },
     "metadata": {},
     "output_type": "display_data"
    }
   ],
   "source": [
    "[1, 1.25 .. 4.0]"
   ]
  },
  {
   "cell_type": "markdown",
   "metadata": {},
   "source": [
    "#### List operations\n",
    "---\n",
    "Concatenation (++)\n",
    "```haskell\n",
    "Prelude> let l1 = [1,2,3]\n",
    "Prelude> let l2 = [4,5,6]\n",
    "Prelude> l1 ++ l2\n",
    "[1,2,3,4,5,6]\n",
    "```\n",
    "Construct (:)\n",
    "```haskell\n",
    "Prelude> 0 : [1,2,3]\n",
    "[0,1,2,3]\n",
    "```\n",
    "**Almost Everything is a function**\n",
    "\n",
    "```haskell\n",
    "Prelude> let l1 = [1,2,3]\n",
    "Prelude> let l2 = [4,5,6]\n",
    "Prelude> (++) l1 l2\n",
    "[1,2,3,4,5,6]\n",
    "\n",
    "Prelude> (:) 0 [1,2,3]\n",
    "[0,1,2,3]\n",
    "```\n",
    "In fact, a list is formally defined like this\n",
    "\n",
    "```haskell\n",
    "Prelude> [1,2,3] == (:) 1 ((:) 2 ((:) 3 []))\n",
    "True\n",
    "--looks gross, we'll put that away!\n",
    "```"
   ]
  },
  {
   "cell_type": "code",
   "execution_count": 13,
   "metadata": {
    "ExecuteTime": {
     "end_time": "2019-02-25T17:13:52.933394Z",
     "start_time": "2019-02-25T17:13:52.495Z"
    }
   },
   "outputs": [
    {
     "data": {
      "text/plain": [
       "[1,2,3,2,3,4]"
      ]
     },
     "metadata": {},
     "output_type": "display_data"
    }
   ],
   "source": [
    "let l1  = [1,2,3]\n",
    "let l2  = [2,3,4]\n",
    "l1 ++ l2"
   ]
  },
  {
   "cell_type": "code",
   "execution_count": 14,
   "metadata": {
    "ExecuteTime": {
     "end_time": "2019-02-25T17:13:53.151843Z",
     "start_time": "2019-02-25T17:13:52.732Z"
    }
   },
   "outputs": [
    {
     "data": {
      "text/plain": [
       "[0,1,2,3]"
      ]
     },
     "metadata": {},
     "output_type": "display_data"
    }
   ],
   "source": [
    "0 : [1,2,3]"
   ]
  },
  {
   "cell_type": "code",
   "execution_count": 15,
   "metadata": {
    "ExecuteTime": {
     "end_time": "2019-02-25T17:13:53.372249Z",
     "start_time": "2019-02-25T17:13:53.090Z"
    }
   },
   "outputs": [
    {
     "data": {
      "text/plain": [
       "[1,2,3,2,3,4]"
      ]
     },
     "metadata": {},
     "output_type": "display_data"
    }
   ],
   "source": [
    "(++) l1 l2"
   ]
  },
  {
   "cell_type": "code",
   "execution_count": 16,
   "metadata": {
    "ExecuteTime": {
     "end_time": "2019-02-25T17:13:53.592132Z",
     "start_time": "2019-02-25T17:13:53.366Z"
    }
   },
   "outputs": [
    {
     "data": {
      "text/plain": [
       "[0,1,2,3]"
      ]
     },
     "metadata": {},
     "output_type": "display_data"
    }
   ],
   "source": [
    "(:) 0 [1,2,3]"
   ]
  },
  {
   "cell_type": "code",
   "execution_count": 17,
   "metadata": {
    "ExecuteTime": {
     "end_time": "2019-02-25T17:13:54.036708Z",
     "start_time": "2019-02-25T17:13:53.813Z"
    }
   },
   "outputs": [
    {
     "data": {
      "text/html": [
       "<style>/* Styles used for the Hoogle display in the pager */\n",
       ".hoogle-doc {\n",
       "display: block;\n",
       "padding-bottom: 1.3em;\n",
       "padding-left: 0.4em;\n",
       "}\n",
       ".hoogle-code {\n",
       "display: block;\n",
       "font-family: monospace;\n",
       "white-space: pre;\n",
       "}\n",
       ".hoogle-text {\n",
       "display: block;\n",
       "}\n",
       ".hoogle-name {\n",
       "color: green;\n",
       "font-weight: bold;\n",
       "}\n",
       ".hoogle-head {\n",
       "font-weight: bold;\n",
       "}\n",
       ".hoogle-sub {\n",
       "display: block;\n",
       "margin-left: 0.4em;\n",
       "}\n",
       ".hoogle-package {\n",
       "font-weight: bold;\n",
       "font-style: italic;\n",
       "}\n",
       ".hoogle-module {\n",
       "font-weight: bold;\n",
       "}\n",
       ".hoogle-class {\n",
       "font-weight: bold;\n",
       "}\n",
       ".get-type {\n",
       "color: green;\n",
       "font-weight: bold;\n",
       "font-family: monospace;\n",
       "display: block;\n",
       "white-space: pre-wrap;\n",
       "}\n",
       ".show-type {\n",
       "color: green;\n",
       "font-weight: bold;\n",
       "font-family: monospace;\n",
       "margin-left: 1em;\n",
       "}\n",
       ".mono {\n",
       "font-family: monospace;\n",
       "display: block;\n",
       "}\n",
       ".err-msg {\n",
       "color: red;\n",
       "font-style: italic;\n",
       "font-family: monospace;\n",
       "white-space: pre;\n",
       "display: block;\n",
       "}\n",
       "#unshowable {\n",
       "color: red;\n",
       "font-weight: bold;\n",
       "}\n",
       ".err-msg.in.collapse {\n",
       "padding-top: 0.7em;\n",
       "}\n",
       ".highlight-code {\n",
       "white-space: pre;\n",
       "font-family: monospace;\n",
       "}\n",
       ".suggestion-warning { \n",
       "font-weight: bold;\n",
       "color: rgb(200, 130, 0);\n",
       "}\n",
       ".suggestion-error { \n",
       "font-weight: bold;\n",
       "color: red;\n",
       "}\n",
       ".suggestion-name {\n",
       "font-weight: bold;\n",
       "}\n",
       "</style><div class=\"suggestion-name\" style=\"clear:both;\">Use list literal</div><div class=\"suggestion-row\" style=\"float: left;\"><div class=\"suggestion-warning\">Found:</div><div class=\"highlight-code\" id=\"haskell\">(:) 1 ((:) 2 ((:) 3 []))</div></div><div class=\"suggestion-row\" style=\"float: left;\"><div class=\"suggestion-warning\">Why Not:</div><div class=\"highlight-code\" id=\"haskell\">[1, 2, 3]</div></div>"
      ],
      "text/plain": [
       "Line 1: Use list literal\n",
       "Found:\n",
       "(:) 1 ((:) 2 ((:) 3 []))\n",
       "Why not:\n",
       "[1, 2, 3]"
      ]
     },
     "metadata": {},
     "output_type": "display_data"
    },
    {
     "data": {
      "text/plain": [
       "True"
      ]
     },
     "metadata": {},
     "output_type": "display_data"
    }
   ],
   "source": [
    "[1,2,3] == (:) 1 ((:) 2 ((:) 3 []))"
   ]
  },
  {
   "cell_type": "markdown",
   "metadata": {},
   "source": [
    "### retreival\n",
    "---\n",
    "\n",
    "`(!!)` to return the element at index"
   ]
  },
  {
   "cell_type": "code",
   "execution_count": 18,
   "metadata": {
    "ExecuteTime": {
     "end_time": "2019-02-25T17:14:28.484599Z",
     "start_time": "2019-02-25T17:14:28.265Z"
    }
   },
   "outputs": [
    {
     "data": {
      "text/plain": [
       "'B'"
      ]
     },
     "metadata": {},
     "output_type": "display_data"
    }
   ],
   "source": [
    "\"Steve Buscemi\" !! 6"
   ]
  },
  {
   "cell_type": "markdown",
   "metadata": {},
   "source": [
    "### Strings\n",
    "---\n",
    "A String is just a list of characters.\n",
    "* A String is surrounded by double-quotation marks, and a Char is surrounded by single-quotation marks.\n",
    "```haskell\n",
    "Prelude> \"wahoo\" == ['w', 'a', 'h', 'o', 'o']\n",
    "True\n",
    "```\n",
    "So (++) and (:) work on strings too."
   ]
  },
  {
   "cell_type": "code",
   "execution_count": 23,
   "metadata": {
    "ExecuteTime": {
     "end_time": "2019-02-24T12:13:41.380994Z",
     "start_time": "2019-02-24T12:13:40.848Z"
    }
   },
   "outputs": [
    {
     "data": {
      "text/plain": [
       "\"wahoo, yahoo\""
      ]
     },
     "metadata": {},
     "output_type": "display_data"
    }
   ],
   "source": [
    "let str1 = \"wahoo\"\n",
    "let str2 = \"yahoo\"\n",
    "\n",
    "(++) ((++) str1 \", \") str2"
   ]
  },
  {
   "cell_type": "code",
   "execution_count": 24,
   "metadata": {
    "ExecuteTime": {
     "end_time": "2019-02-24T12:13:41.603851Z",
     "start_time": "2019-02-24T12:13:41.036Z"
    }
   },
   "outputs": [
    {
     "data": {
      "text/plain": [
       "\"! wahoo\""
      ]
     },
     "metadata": {},
     "output_type": "display_data"
    }
   ],
   "source": [
    "(:) '!' \" wahoo\""
   ]
  },
  {
   "cell_type": "code",
   "execution_count": 25,
   "metadata": {
    "ExecuteTime": {
     "end_time": "2019-02-24T12:13:41.830982Z",
     "start_time": "2019-02-24T12:13:41.267Z"
    }
   },
   "outputs": [
    {
     "data": {
      "text/html": [
       "<style>/* Styles used for the Hoogle display in the pager */\n",
       ".hoogle-doc {\n",
       "display: block;\n",
       "padding-bottom: 1.3em;\n",
       "padding-left: 0.4em;\n",
       "}\n",
       ".hoogle-code {\n",
       "display: block;\n",
       "font-family: monospace;\n",
       "white-space: pre;\n",
       "}\n",
       ".hoogle-text {\n",
       "display: block;\n",
       "}\n",
       ".hoogle-name {\n",
       "color: green;\n",
       "font-weight: bold;\n",
       "}\n",
       ".hoogle-head {\n",
       "font-weight: bold;\n",
       "}\n",
       ".hoogle-sub {\n",
       "display: block;\n",
       "margin-left: 0.4em;\n",
       "}\n",
       ".hoogle-package {\n",
       "font-weight: bold;\n",
       "font-style: italic;\n",
       "}\n",
       ".hoogle-module {\n",
       "font-weight: bold;\n",
       "}\n",
       ".hoogle-class {\n",
       "font-weight: bold;\n",
       "}\n",
       ".get-type {\n",
       "color: green;\n",
       "font-weight: bold;\n",
       "font-family: monospace;\n",
       "display: block;\n",
       "white-space: pre-wrap;\n",
       "}\n",
       ".show-type {\n",
       "color: green;\n",
       "font-weight: bold;\n",
       "font-family: monospace;\n",
       "margin-left: 1em;\n",
       "}\n",
       ".mono {\n",
       "font-family: monospace;\n",
       "display: block;\n",
       "}\n",
       ".err-msg {\n",
       "color: red;\n",
       "font-style: italic;\n",
       "font-family: monospace;\n",
       "white-space: pre;\n",
       "display: block;\n",
       "}\n",
       "#unshowable {\n",
       "color: red;\n",
       "font-weight: bold;\n",
       "}\n",
       ".err-msg.in.collapse {\n",
       "padding-top: 0.7em;\n",
       "}\n",
       ".highlight-code {\n",
       "white-space: pre;\n",
       "font-family: monospace;\n",
       "}\n",
       ".suggestion-warning { \n",
       "font-weight: bold;\n",
       "color: rgb(200, 130, 0);\n",
       "}\n",
       ".suggestion-error { \n",
       "font-weight: bold;\n",
       "color: red;\n",
       "}\n",
       ".suggestion-name {\n",
       "font-weight: bold;\n",
       "}\n",
       "</style><div class=\"suggestion-name\" style=\"clear:both;\">Use null</div><div class=\"suggestion-row\" style=\"float: left;\"><div class=\"suggestion-warning\">Found:</div><div class=\"highlight-code\" id=\"haskell\">\"\" == []</div></div><div class=\"suggestion-row\" style=\"float: left;\"><div class=\"suggestion-warning\">Why Not:</div><div class=\"highlight-code\" id=\"haskell\">null \"\"</div></div>"
      ],
      "text/plain": [
       "Line 1: Use null\n",
       "Found:\n",
       "\"\" == []\n",
       "Why not:\n",
       "null \"\""
      ]
     },
     "metadata": {},
     "output_type": "display_data"
    },
    {
     "data": {
      "text/plain": [
       "True"
      ]
     },
     "metadata": {},
     "output_type": "display_data"
    }
   ],
   "source": [
    "\"\" == []"
   ]
  },
  {
   "cell_type": "code",
   "execution_count": 26,
   "metadata": {
    "ExecuteTime": {
     "end_time": "2019-02-24T12:13:42.055598Z",
     "start_time": "2019-02-24T12:13:41.463Z"
    }
   },
   "outputs": [
    {
     "data": {
      "text/plain": [
       "True"
      ]
     },
     "metadata": {},
     "output_type": "display_data"
    }
   ],
   "source": [
    "'a':\"bc\" == ['a', 'b', 'c']"
   ]
  },
  {
   "cell_type": "code",
   "execution_count": 27,
   "metadata": {
    "ExecuteTime": {
     "end_time": "2019-02-24T12:13:42.169739Z",
     "start_time": "2019-02-24T12:13:41.690Z"
    }
   },
   "outputs": [
    {
     "data": {
      "text/html": [
       "<style>/* Styles used for the Hoogle display in the pager */\n",
       ".hoogle-doc {\n",
       "display: block;\n",
       "padding-bottom: 1.3em;\n",
       "padding-left: 0.4em;\n",
       "}\n",
       ".hoogle-code {\n",
       "display: block;\n",
       "font-family: monospace;\n",
       "white-space: pre;\n",
       "}\n",
       ".hoogle-text {\n",
       "display: block;\n",
       "}\n",
       ".hoogle-name {\n",
       "color: green;\n",
       "font-weight: bold;\n",
       "}\n",
       ".hoogle-head {\n",
       "font-weight: bold;\n",
       "}\n",
       ".hoogle-sub {\n",
       "display: block;\n",
       "margin-left: 0.4em;\n",
       "}\n",
       ".hoogle-package {\n",
       "font-weight: bold;\n",
       "font-style: italic;\n",
       "}\n",
       ".hoogle-module {\n",
       "font-weight: bold;\n",
       "}\n",
       ".hoogle-class {\n",
       "font-weight: bold;\n",
       "}\n",
       ".get-type {\n",
       "color: green;\n",
       "font-weight: bold;\n",
       "font-family: monospace;\n",
       "display: block;\n",
       "white-space: pre-wrap;\n",
       "}\n",
       ".show-type {\n",
       "color: green;\n",
       "font-weight: bold;\n",
       "font-family: monospace;\n",
       "margin-left: 1em;\n",
       "}\n",
       ".mono {\n",
       "font-family: monospace;\n",
       "display: block;\n",
       "}\n",
       ".err-msg {\n",
       "color: red;\n",
       "font-style: italic;\n",
       "font-family: monospace;\n",
       "white-space: pre;\n",
       "display: block;\n",
       "}\n",
       "#unshowable {\n",
       "color: red;\n",
       "font-weight: bold;\n",
       "}\n",
       ".err-msg.in.collapse {\n",
       "padding-top: 0.7em;\n",
       "}\n",
       ".highlight-code {\n",
       "white-space: pre;\n",
       "font-family: monospace;\n",
       "}\n",
       ".suggestion-warning { \n",
       "font-weight: bold;\n",
       "color: rgb(200, 130, 0);\n",
       "}\n",
       ".suggestion-error { \n",
       "font-weight: bold;\n",
       "color: red;\n",
       "}\n",
       ".suggestion-name {\n",
       "font-weight: bold;\n",
       "}\n",
       "</style><span class='err-msg'>&lt;interactive&gt;:1:1: error:<br/>    • No instance for (Num Char) arising from the literal ‘6’<br/>    • In the first argument of ‘(:)’, namely ‘6’<br/>      In the first argument of ‘(==)’, namely ‘6 : \"789\"’<br/>      In the expression: 6 : \"789\" == \"6789\"</span>"
      ],
      "text/plain": [
       "<interactive>:1:1: error:\n",
       "    • No instance for (Num Char) arising from the literal ‘6’\n",
       "    • In the first argument of ‘(:)’, namely ‘6’\n",
       "      In the first argument of ‘(==)’, namely ‘6 : \"789\"’\n",
       "      In the expression: 6 : \"789\" == \"6789\""
      ]
     },
     "metadata": {},
     "output_type": "display_data"
    }
   ],
   "source": [
    "6:\"789\" == \"6789\""
   ]
  },
  {
   "cell_type": "code",
   "execution_count": 28,
   "metadata": {
    "ExecuteTime": {
     "end_time": "2019-02-24T12:13:42.394895Z",
     "start_time": "2019-02-24T12:13:41.898Z"
    }
   },
   "outputs": [
    {
     "data": {
      "text/plain": [
       "True"
      ]
     },
     "metadata": {},
     "output_type": "display_data"
    }
   ],
   "source": [
    "'6':\"789\" == \"6789\""
   ]
  },
  {
   "cell_type": "markdown",
   "metadata": {
    "ExecuteTime": {
     "end_time": "2019-02-24T11:31:54.481104Z",
     "start_time": "2019-02-24T11:31:54.476Z"
    }
   },
   "source": [
    "### Useful List Functions\n",
    "---\n",
    "`head` returns the first element of a list\n",
    "\n",
    "`tail` returns the remaining elements of a list\n",
    "\n",
    "`last` returns the last element of a list\n",
    "\n",
    "`init` returns everything but the last element\n",
    "\n",
    "`length` takes a list and returns it's length\n",
    "\n",
    "`null` takes a list and checks if it's empty\n",
    "\n",
    "`take` takes a number and a list, and returns exactly the number of items from the list, pretty nifty when used with haskell's lazy schemes.\n",
    "\n",
    "`drop` is the opposite of `take` and will drop the number of elements from the beginning of the list.\n",
    "\n",
    "`reverse` will reverse the list, elementwise.\n",
    "\n",
    "`maximum` and `minimum` will return the largest and smallest values in an list, provided the types are Numeric(`Num`) or have Order(`Ord`).\n",
    "\n",
    "`sum` returns the sum of a list, has the same type constraints as `maximum` and `minimum`\n",
    "\n",
    "`product` returns the product of elements in a list\n",
    "\n",
    "`elem` takes an item and a list and checks if the items belongs to the list.\n",
    "\n",
    "`cycle` takes a list and cycles it infinitely or until specified by `take`\n",
    "\n",
    "`repeat` takes an element and spits out a list with just that element repeated infinitely, can be replaced with `replicate` for simpler use cases, as replicate does not need `take`.\n",
    "\n",
    "![©Miran Lipovača, Learn You a Haskell][LYAH]\n",
    "\n",
    "[LYAH]: http://www.shuklan.com/haskell/L02_files/listmonster.png \"©Miran Lipovača, Learn You a Haskell\""
   ]
  },
  {
   "cell_type": "markdown",
   "metadata": {},
   "source": [
    "#### Exercise: Reverse a List\n",
    "---\n",
    "Write a function to reverse a list"
   ]
  },
  {
   "cell_type": "code",
   "execution_count": 29,
   "metadata": {
    "ExecuteTime": {
     "end_time": "2019-02-24T12:13:42.773311Z",
     "start_time": "2019-02-24T12:13:42.544Z"
    }
   },
   "outputs": [
    {
     "data": {
      "text/plain": [
       "\"hayoob\""
      ]
     },
     "metadata": {},
     "output_type": "display_data"
    }
   ],
   "source": [
    "rev [] = []\n",
    "rev xs = last xs : rev (init xs)\n",
    "rev \"booyah\""
   ]
  },
  {
   "cell_type": "code",
   "execution_count": 30,
   "metadata": {
    "ExecuteTime": {
     "end_time": "2019-02-24T12:13:43.344238Z",
     "start_time": "2019-02-24T12:13:43.099Z"
    }
   },
   "outputs": [
    {
     "data": {
      "text/plain": [
       "\"hayoob\""
      ]
     },
     "metadata": {},
     "output_type": "display_data"
    }
   ],
   "source": [
    "rev2 [] = []\n",
    "rev2 xs = rev2 (tail xs) ++ [head xs]\n",
    "rev2 \"booyah\""
   ]
  },
  {
   "cell_type": "code",
   "execution_count": 31,
   "metadata": {
    "ExecuteTime": {
     "end_time": "2019-02-24T12:13:43.571893Z",
     "start_time": "2019-02-24T12:13:43.309Z"
    }
   },
   "outputs": [
    {
     "data": {
      "text/plain": [
       "\"hayoob\""
      ]
     },
     "metadata": {},
     "output_type": "display_data"
    }
   ],
   "source": [
    "rev3 [] = []\n",
    "rev3 (x:xs) = reverse xs ++ [x]\n",
    "rev3 \"booyah\""
   ]
  },
  {
   "cell_type": "markdown",
   "metadata": {},
   "source": [
    "##### With GHCi\n",
    "\n",
    "```haskell\n",
    "Prelude> :load myfunction.hs\n",
    "[1 of 1] Compiling Main             ( myfunction.hs, interpreted )\n",
    "Ok, modules loaded: Main.\n",
    "\n",
    "*Main> rev \"hello\"\n",
    "\"olleh\"\n",
    "```"
   ]
  },
  {
   "cell_type": "markdown",
   "metadata": {},
   "source": [
    "### List Comprehensions\n",
    "---\n",
    "Let S be a set, and p(x) be a predicate.\n",
    "\n",
    "Mathematically, we can write the following statement.\n",
    "\n",
    "$∀x∈S, p(x)$\n",
    "\n",
    "Haskell allows a similar notation\n",
    "\n",
    "`[ x | x ← S, p x ]`\n",
    "\n",
    "`←` is pronounced **\"drawn from\"**\n",
    "\n",
    "`p x` is called a **guard**\n",
    "\n",
    "Think of this as a for-loop, List comprehensions are an easy way to construct lists"
   ]
  },
  {
   "cell_type": "code",
   "execution_count": 35,
   "metadata": {
    "ExecuteTime": {
     "end_time": "2019-02-24T12:16:35.906835Z",
     "start_time": "2019-02-24T12:16:35.679Z"
    }
   },
   "outputs": [
    {
     "data": {
      "text/plain": [
       "[6,7,8,9,10,11,12,13,14,15]"
      ]
     },
     "metadata": {},
     "output_type": "display_data"
    }
   ],
   "source": [
    "[ x+5 | x <- [1..10]]"
   ]
  },
  {
   "cell_type": "code",
   "execution_count": 36,
   "metadata": {
    "ExecuteTime": {
     "end_time": "2019-02-24T12:17:14.137371Z",
     "start_time": "2019-02-24T12:17:13.903Z"
    }
   },
   "outputs": [
    {
     "data": {
      "text/plain": [
       "[2,5,10]"
      ]
     },
     "metadata": {},
     "output_type": "display_data"
    }
   ],
   "source": [
    "[ x | x <- [2..10], 10 `mod` x  == 0]"
   ]
  },
  {
   "cell_type": "code",
   "execution_count": 37,
   "metadata": {
    "ExecuteTime": {
     "end_time": "2019-02-24T12:17:33.164839Z",
     "start_time": "2019-02-24T12:17:32.934Z"
    }
   },
   "outputs": [
    {
     "data": {
      "text/plain": [
       "[\"red soldier\",\"red pyro\",\"red scout\",\"blue soldier\",\"blue pyro\",\"blue scout\"]"
      ]
     },
     "metadata": {},
     "output_type": "display_data"
    }
   ],
   "source": [
    "[ team ++ \" \" ++ player | \n",
    "             team   <- [\"red\", \"blue\"], \n",
    "             player <- [\"soldier\", \"pyro\", \"scout\"] ]"
   ]
  },
  {
   "cell_type": "markdown",
   "metadata": {
    "ExecuteTime": {
     "end_time": "2019-02-24T12:18:02.339203Z",
     "start_time": "2019-02-24T12:18:02.334Z"
    }
   },
   "source": [
    "## Tuples\n",
    "---\n",
    "* A tuple is a binding of data types\n",
    "\n",
    "* It's comma-separated, just like lists\n",
    "\n",
    "* A tuple is surrounded by ( ... )\n",
    "\n",
    "```haskell\n",
    "(1, 2)\n",
    "(\"lol\", \"wut\")\n",
    "(40, \"forty\")\n",
    "(\"Coins\", [1, 5, 10, 25])\n",
    "```\n",
    "\n",
    "`fst` retrieves the first element\n",
    "\n",
    "`snd` retrieves the second element\n",
    "\n",
    "```haskell\n",
    "Prelude> fst (1,2)\n",
    "1\n",
    "\n",
    "Prelude> snd (1,2)\n",
    "2\n",
    "```\n",
    "\n",
    "Tuples can contain different data types. This is useful for mapping one data to another. Note, a Tuple doesn't need to be just 2 elements.\n",
    "\n",
    "* **`fst` and `snd` only work with types with just two elements.**"
   ]
  },
  {
   "cell_type": "code",
   "execution_count": 39,
   "metadata": {
    "ExecuteTime": {
     "end_time": "2019-02-24T12:20:04.966472Z",
     "start_time": "2019-02-24T12:20:04.732Z"
    }
   },
   "outputs": [
    {
     "data": {
      "text/plain": [
       "[(1,False),(2,True),(3,False),(4,True)]"
      ]
     },
     "metadata": {},
     "output_type": "display_data"
    }
   ],
   "source": [
    "[ (n, even n) | n <- [1..4] ]"
   ]
  },
  {
   "cell_type": "code",
   "execution_count": 44,
   "metadata": {
    "ExecuteTime": {
     "end_time": "2019-02-24T12:21:25.604760Z",
     "start_time": "2019-02-24T12:21:25.362Z"
    }
   },
   "outputs": [
    {
     "data": {
      "text/plain": [
       "[(1,1,2),(1,2,5),(2,2,8),(1,3,10)]"
      ]
     },
     "metadata": {},
     "output_type": "display_data"
    }
   ],
   "source": [
    "[(a,b,c) |\n",
    "            c<-[1..10],\n",
    "            b<-[1..c],\n",
    "            a<-[1..b],\n",
    "            a^2 + b^2 == c]"
   ]
  },
  {
   "cell_type": "markdown",
   "metadata": {},
   "source": [
    "## Exercise\n",
    "---\n",
    "Write 2 different implementations of factorial"
   ]
  },
  {
   "cell_type": "code",
   "execution_count": 6,
   "metadata": {
    "ExecuteTime": {
     "end_time": "2019-02-24T14:05:01.450607Z",
     "start_time": "2019-02-24T14:05:01.229Z"
    }
   },
   "outputs": [
    {
     "data": {
      "text/plain": [
       "120"
      ]
     },
     "metadata": {},
     "output_type": "display_data"
    }
   ],
   "source": [
    "-- pattern matching with recursion\n",
    "fac1 :: Integer -> Integer\n",
    "fac1 0 = 1\n",
    "fac1 n | n > 0 = n * fac1 (n-1)\n",
    "\n",
    "fac1 5"
   ]
  },
  {
   "cell_type": "code",
   "execution_count": 7,
   "metadata": {
    "ExecuteTime": {
     "end_time": "2019-02-24T14:05:02.165664Z",
     "start_time": "2019-02-24T14:05:01.942Z"
    }
   },
   "outputs": [
    {
     "data": {
      "text/html": [
       "<style>/* Styles used for the Hoogle display in the pager */\n",
       ".hoogle-doc {\n",
       "display: block;\n",
       "padding-bottom: 1.3em;\n",
       "padding-left: 0.4em;\n",
       "}\n",
       ".hoogle-code {\n",
       "display: block;\n",
       "font-family: monospace;\n",
       "white-space: pre;\n",
       "}\n",
       ".hoogle-text {\n",
       "display: block;\n",
       "}\n",
       ".hoogle-name {\n",
       "color: green;\n",
       "font-weight: bold;\n",
       "}\n",
       ".hoogle-head {\n",
       "font-weight: bold;\n",
       "}\n",
       ".hoogle-sub {\n",
       "display: block;\n",
       "margin-left: 0.4em;\n",
       "}\n",
       ".hoogle-package {\n",
       "font-weight: bold;\n",
       "font-style: italic;\n",
       "}\n",
       ".hoogle-module {\n",
       "font-weight: bold;\n",
       "}\n",
       ".hoogle-class {\n",
       "font-weight: bold;\n",
       "}\n",
       ".get-type {\n",
       "color: green;\n",
       "font-weight: bold;\n",
       "font-family: monospace;\n",
       "display: block;\n",
       "white-space: pre-wrap;\n",
       "}\n",
       ".show-type {\n",
       "color: green;\n",
       "font-weight: bold;\n",
       "font-family: monospace;\n",
       "margin-left: 1em;\n",
       "}\n",
       ".mono {\n",
       "font-family: monospace;\n",
       "display: block;\n",
       "}\n",
       ".err-msg {\n",
       "color: red;\n",
       "font-style: italic;\n",
       "font-family: monospace;\n",
       "white-space: pre;\n",
       "display: block;\n",
       "}\n",
       "#unshowable {\n",
       "color: red;\n",
       "font-weight: bold;\n",
       "}\n",
       ".err-msg.in.collapse {\n",
       "padding-top: 0.7em;\n",
       "}\n",
       ".highlight-code {\n",
       "white-space: pre;\n",
       "font-family: monospace;\n",
       "}\n",
       ".suggestion-warning { \n",
       "font-weight: bold;\n",
       "color: rgb(200, 130, 0);\n",
       "}\n",
       ".suggestion-error { \n",
       "font-weight: bold;\n",
       "color: red;\n",
       "}\n",
       ".suggestion-name {\n",
       "font-weight: bold;\n",
       "}\n",
       "</style><div class=\"suggestion-name\" style=\"clear:both;\">Use product</div><div class=\"suggestion-row\" style=\"float: left;\"><div class=\"suggestion-warning\">Found:</div><div class=\"highlight-code\" id=\"haskell\">foldl (*) 1</div></div><div class=\"suggestion-row\" style=\"float: left;\"><div class=\"suggestion-warning\">Why Not:</div><div class=\"highlight-code\" id=\"haskell\">product</div></div>"
      ],
      "text/plain": [
       "Line 1: Use product\n",
       "Found:\n",
       "foldl (*) 1\n",
       "Why not:\n",
       "product"
      ]
     },
     "metadata": {},
     "output_type": "display_data"
    },
    {
     "data": {
      "text/plain": [
       "120"
      ]
     },
     "metadata": {},
     "output_type": "display_data"
    }
   ],
   "source": [
    "-- iteratively with partial function\n",
    "fac2 n = foldl (*) 1 [1..n]\n",
    "fac2 5"
   ]
  }
 ],
 "metadata": {
  "kernelspec": {
   "display_name": "Haskell",
   "language": "haskell",
   "name": "haskell"
  },
  "language_info": {
   "codemirror_mode": "ihaskell",
   "file_extension": ".hs",
   "name": "haskell",
   "pygments_lexer": "Haskell",
   "version": "8.6.3"
  },
  "nbTranslate": {
   "displayLangs": [
    "*"
   ],
   "hotkey": "alt-t",
   "langInMainMenu": true,
   "sourceLang": "en",
   "targetLang": "fr",
   "useGoogleTranslate": true
  },
  "toc": {
   "base_numbering": 1,
   "nav_menu": {},
   "number_sections": true,
   "sideBar": true,
   "skip_h1_title": true,
   "title_cell": "Table of Contents",
   "title_sidebar": "Contents",
   "toc_cell": true,
   "toc_position": {},
   "toc_section_display": true,
   "toc_window_display": false
  }
 },
 "nbformat": 4,
 "nbformat_minor": 2
}
