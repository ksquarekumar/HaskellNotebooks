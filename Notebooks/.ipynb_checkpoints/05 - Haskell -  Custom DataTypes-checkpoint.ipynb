{
 "cells": [
  {
   "cell_type": "markdown",
   "metadata": {},
   "source": [
    "# Make Your Own Data Type"
   ]
  },
  {
   "cell_type": "markdown",
   "metadata": {
    "toc": true
   },
   "source": [
    "<h1>Table of Contents<span class=\"tocSkip\"></span></h1>\n",
    "<div class=\"toc\"><ul class=\"toc-item\"><li><span><a href=\"#Recap:-Data-Types\" data-toc-modified-id=\"Recap:-Data-Types-1\"><span class=\"toc-item-num\">1&nbsp;&nbsp;</span>Recap: Data Types</a></span></li><li><span><a href=\"#Reasons-to-make-your-own-Data-Types\" data-toc-modified-id=\"Reasons-to-make-your-own-Data-Types-2\"><span class=\"toc-item-num\">2&nbsp;&nbsp;</span>Reasons to make your own Data Types</a></span></li><li><span><a href=\"#The-data-keyword\" data-toc-modified-id=\"The-data-keyword-3\"><span class=\"toc-item-num\">3&nbsp;&nbsp;</span>The <code>data</code> keyword</a></span><ul class=\"toc-item\"><li><span><a href=\"#Records\" data-toc-modified-id=\"Records-3.1\"><span class=\"toc-item-num\">3.1&nbsp;&nbsp;</span>Records</a></span><ul class=\"toc-item\"><li><span><a href=\"#Lazily-Dealing-with-Records\" data-toc-modified-id=\"Lazily-Dealing-with-Records-3.1.1\"><span class=\"toc-item-num\">3.1.1&nbsp;&nbsp;</span>Lazily Dealing with Records</a></span></li></ul></li></ul></li><li><span><a href=\"#Type-Parameters\" data-toc-modified-id=\"Type-Parameters-4\"><span class=\"toc-item-num\">4&nbsp;&nbsp;</span>Type Parameters</a></span></li><li><span><a href=\"#Modules\" data-toc-modified-id=\"Modules-5\"><span class=\"toc-item-num\">5&nbsp;&nbsp;</span>Modules</a></span></li><li><span><a href=\"#More-on-Types\" data-toc-modified-id=\"More-on-Types-6\"><span class=\"toc-item-num\">6&nbsp;&nbsp;</span>More on Types</a></span><ul class=\"toc-item\"><li><span><a href=\"#Derived-Instances\" data-toc-modified-id=\"Derived-Instances-6.1\"><span class=\"toc-item-num\">6.1&nbsp;&nbsp;</span>Derived Instances</a></span></li><li><span><a href=\"#Type-Synonyms\" data-toc-modified-id=\"Type-Synonyms-6.2\"><span class=\"toc-item-num\">6.2&nbsp;&nbsp;</span>Type Synonyms</a></span></li><li><span><a href=\"#Creating-and-Instancing-with-TypeClasses\" data-toc-modified-id=\"Creating-and-Instancing-with-TypeClasses-6.3\"><span class=\"toc-item-num\">6.3&nbsp;&nbsp;</span>Creating and Instancing with TypeClasses</a></span></li><li><span><a href=\"#Functor-typeclass\" data-toc-modified-id=\"Functor-typeclass-6.4\"><span class=\"toc-item-num\">6.4&nbsp;&nbsp;</span><code>Functor</code> typeclass</a></span></li><li><span><a href=\"#Kinds\" data-toc-modified-id=\"Kinds-6.5\"><span class=\"toc-item-num\">6.5&nbsp;&nbsp;</span>Kinds</a></span></li></ul></li></ul></div>"
   ]
  },
  {
   "cell_type": "markdown",
   "metadata": {
    "ExecuteTime": {
     "end_time": "2019-02-25T10:11:21.538507Z",
     "start_time": "2019-02-25T10:11:21.534Z"
    }
   },
   "source": [
    "## Recap: Data Types\n",
    "---\n",
    "```haskell\n",
    "Bool = False | True\n",
    "Int = -231 ... -1 | 0 | 1 ... 231-1\n",
    "[Char] = [] | Char : [Char]\n",
    "Double\n",
    "```"
   ]
  },
  {
   "cell_type": "markdown",
   "metadata": {
    "ExecuteTime": {
     "end_time": "2019-02-25T10:12:36.750787Z",
     "start_time": "2019-02-25T10:12:36.747Z"
    }
   },
   "source": [
    "## Reasons to make your own Data Types\n",
    "---\n",
    "* for well structured code\n",
    "* for better readability\n",
    "* for improving type safety"
   ]
  },
  {
   "cell_type": "markdown",
   "metadata": {},
   "source": [
    "## The `data` keyword\n",
    "---\n",
    "* used to define new data types mostly using existing ones as building blocks. \n",
    "\n",
    "An example\n",
    "\n",
    "```haskell\n",
    "data MetricUnit = Meter | Liter | KiloGram\n",
    "```\n",
    "\n",
    "here `MetricUnit` is the `type` constructor, and everything that follows after the `=` sign are called `value` constructors. So with this declaration we get one constructor for the data type and three constructors for the values it can hold.\n",
    "\n",
    "As usual with Haskell, the case of the first letter is important: type names and constructor functions **must start with capital letters**. Other than this syntactic detail, constructor functions work pretty much like the \"conventional\" functions we have met so far. "
   ]
  },
  {
   "cell_type": "code",
   "execution_count": 1,
   "metadata": {
    "ExecuteTime": {
     "end_time": "2019-02-25T10:33:14.917408Z",
     "start_time": "2019-02-25T10:33:14.685Z"
    }
   },
   "outputs": [
    {
     "data": {
      "text/html": [
       "<style>/* Styles used for the Hoogle display in the pager */\n",
       ".hoogle-doc {\n",
       "display: block;\n",
       "padding-bottom: 1.3em;\n",
       "padding-left: 0.4em;\n",
       "}\n",
       ".hoogle-code {\n",
       "display: block;\n",
       "font-family: monospace;\n",
       "white-space: pre;\n",
       "}\n",
       ".hoogle-text {\n",
       "display: block;\n",
       "}\n",
       ".hoogle-name {\n",
       "color: green;\n",
       "font-weight: bold;\n",
       "}\n",
       ".hoogle-head {\n",
       "font-weight: bold;\n",
       "}\n",
       ".hoogle-sub {\n",
       "display: block;\n",
       "margin-left: 0.4em;\n",
       "}\n",
       ".hoogle-package {\n",
       "font-weight: bold;\n",
       "font-style: italic;\n",
       "}\n",
       ".hoogle-module {\n",
       "font-weight: bold;\n",
       "}\n",
       ".hoogle-class {\n",
       "font-weight: bold;\n",
       "}\n",
       ".get-type {\n",
       "color: green;\n",
       "font-weight: bold;\n",
       "font-family: monospace;\n",
       "display: block;\n",
       "white-space: pre-wrap;\n",
       "}\n",
       ".show-type {\n",
       "color: green;\n",
       "font-weight: bold;\n",
       "font-family: monospace;\n",
       "margin-left: 1em;\n",
       "}\n",
       ".mono {\n",
       "font-family: monospace;\n",
       "display: block;\n",
       "}\n",
       ".err-msg {\n",
       "color: red;\n",
       "font-style: italic;\n",
       "font-family: monospace;\n",
       "white-space: pre;\n",
       "display: block;\n",
       "}\n",
       "#unshowable {\n",
       "color: red;\n",
       "font-weight: bold;\n",
       "}\n",
       ".err-msg.in.collapse {\n",
       "padding-top: 0.7em;\n",
       "}\n",
       ".highlight-code {\n",
       "white-space: pre;\n",
       "font-family: monospace;\n",
       "}\n",
       ".suggestion-warning { \n",
       "font-weight: bold;\n",
       "color: rgb(200, 130, 0);\n",
       "}\n",
       ".suggestion-error { \n",
       "font-weight: bold;\n",
       "color: red;\n",
       "}\n",
       ".suggestion-name {\n",
       "font-weight: bold;\n",
       "}\n",
       "</style><span class='get-type'>Meter :: MetricUnit</span>"
      ],
      "text/plain": [
       "Meter :: MetricUnit"
      ]
     },
     "metadata": {},
     "output_type": "display_data"
    }
   ],
   "source": [
    "data MetricUnit = Meter | Liter | KiloGram\n",
    ":type Meter"
   ]
  },
  {
   "cell_type": "code",
   "execution_count": 2,
   "metadata": {
    "ExecuteTime": {
     "end_time": "2019-02-25T10:33:15.276623Z",
     "start_time": "2019-02-25T10:33:15.127Z"
    }
   },
   "outputs": [
    {
     "data": {
      "text/html": [
       "<style>/* Styles used for the Hoogle display in the pager */\n",
       ".hoogle-doc {\n",
       "display: block;\n",
       "padding-bottom: 1.3em;\n",
       "padding-left: 0.4em;\n",
       "}\n",
       ".hoogle-code {\n",
       "display: block;\n",
       "font-family: monospace;\n",
       "white-space: pre;\n",
       "}\n",
       ".hoogle-text {\n",
       "display: block;\n",
       "}\n",
       ".hoogle-name {\n",
       "color: green;\n",
       "font-weight: bold;\n",
       "}\n",
       ".hoogle-head {\n",
       "font-weight: bold;\n",
       "}\n",
       ".hoogle-sub {\n",
       "display: block;\n",
       "margin-left: 0.4em;\n",
       "}\n",
       ".hoogle-package {\n",
       "font-weight: bold;\n",
       "font-style: italic;\n",
       "}\n",
       ".hoogle-module {\n",
       "font-weight: bold;\n",
       "}\n",
       ".hoogle-class {\n",
       "font-weight: bold;\n",
       "}\n",
       ".get-type {\n",
       "color: green;\n",
       "font-weight: bold;\n",
       "font-family: monospace;\n",
       "display: block;\n",
       "white-space: pre-wrap;\n",
       "}\n",
       ".show-type {\n",
       "color: green;\n",
       "font-weight: bold;\n",
       "font-family: monospace;\n",
       "margin-left: 1em;\n",
       "}\n",
       ".mono {\n",
       "font-family: monospace;\n",
       "display: block;\n",
       "}\n",
       ".err-msg {\n",
       "color: red;\n",
       "font-style: italic;\n",
       "font-family: monospace;\n",
       "white-space: pre;\n",
       "display: block;\n",
       "}\n",
       "#unshowable {\n",
       "color: red;\n",
       "font-weight: bold;\n",
       "}\n",
       ".err-msg.in.collapse {\n",
       "padding-top: 0.7em;\n",
       "}\n",
       ".highlight-code {\n",
       "white-space: pre;\n",
       "font-family: monospace;\n",
       "}\n",
       ".suggestion-warning { \n",
       "font-weight: bold;\n",
       "color: rgb(200, 130, 0);\n",
       "}\n",
       ".suggestion-error { \n",
       "font-weight: bold;\n",
       "color: red;\n",
       "}\n",
       ".suggestion-name {\n",
       "font-weight: bold;\n",
       "}\n",
       "</style><span class='err-msg'>&lt;interactive&gt;:1:1: error:<br/>    • No instance for (Show MetricUnit) arising from a use of ‘print’<br/>    • In a stmt of an interactive GHCi command: print it</span>"
      ],
      "text/plain": [
       "<interactive>:1:1: error:\n",
       "    • No instance for (Show MetricUnit) arising from a use of ‘print’\n",
       "    • In a stmt of an interactive GHCi command: print it"
      ]
     },
     "metadata": {},
     "output_type": "display_data"
    }
   ],
   "source": [
    "-- our value type still lacks methods, like `show`\n",
    "Meter"
   ]
  },
  {
   "cell_type": "markdown",
   "metadata": {},
   "source": [
    "`deriving (Show)`\n",
    "\n",
    "* GHCi is trying to call the print function\n",
    "* print only works for things that derive Show\n",
    "* but our MetricUnit doesn't derive Show"
   ]
  },
  {
   "cell_type": "markdown",
   "metadata": {
    "ExecuteTime": {
     "end_time": "2019-02-25T10:18:55.570016Z",
     "start_time": "2019-02-25T10:18:55.566Z"
    }
   },
   "source": [
    "Another Problem,\n",
    "* Programs in haskell are always type safe\n",
    "* So the Types we defined above won't work with anything as no function accepts it IO"
   ]
  },
  {
   "cell_type": "markdown",
   "metadata": {},
   "source": [
    "So, let' make sime functions that can put our types to use."
   ]
  },
  {
   "cell_type": "code",
   "execution_count": 16,
   "metadata": {
    "ExecuteTime": {
     "end_time": "2019-02-25T10:22:52.658515Z",
     "start_time": "2019-02-25T10:22:52.546Z"
    },
    "deletable": false,
    "editable": false,
    "run_control": {
     "frozen": true
    }
   },
   "outputs": [],
   "source": [
    "-- without guards\n",
    "symbol :: MetricUnit -> String\n",
    "symbol Meter = \"m\"\n",
    "symbol Liter = \"L\"\n",
    "symbol KiloGram = \"kg\""
   ]
  },
  {
   "cell_type": "code",
   "execution_count": 3,
   "metadata": {
    "ExecuteTime": {
     "end_time": "2019-02-25T10:33:16.469658Z",
     "start_time": "2019-02-25T10:33:16.445Z"
    }
   },
   "outputs": [
    {
     "data": {
      "text/html": [
       "<style>/* Styles used for the Hoogle display in the pager */\n",
       ".hoogle-doc {\n",
       "display: block;\n",
       "padding-bottom: 1.3em;\n",
       "padding-left: 0.4em;\n",
       "}\n",
       ".hoogle-code {\n",
       "display: block;\n",
       "font-family: monospace;\n",
       "white-space: pre;\n",
       "}\n",
       ".hoogle-text {\n",
       "display: block;\n",
       "}\n",
       ".hoogle-name {\n",
       "color: green;\n",
       "font-weight: bold;\n",
       "}\n",
       ".hoogle-head {\n",
       "font-weight: bold;\n",
       "}\n",
       ".hoogle-sub {\n",
       "display: block;\n",
       "margin-left: 0.4em;\n",
       "}\n",
       ".hoogle-package {\n",
       "font-weight: bold;\n",
       "font-style: italic;\n",
       "}\n",
       ".hoogle-module {\n",
       "font-weight: bold;\n",
       "}\n",
       ".hoogle-class {\n",
       "font-weight: bold;\n",
       "}\n",
       ".get-type {\n",
       "color: green;\n",
       "font-weight: bold;\n",
       "font-family: monospace;\n",
       "display: block;\n",
       "white-space: pre-wrap;\n",
       "}\n",
       ".show-type {\n",
       "color: green;\n",
       "font-weight: bold;\n",
       "font-family: monospace;\n",
       "margin-left: 1em;\n",
       "}\n",
       ".mono {\n",
       "font-family: monospace;\n",
       "display: block;\n",
       "}\n",
       ".err-msg {\n",
       "color: red;\n",
       "font-style: italic;\n",
       "font-family: monospace;\n",
       "white-space: pre;\n",
       "display: block;\n",
       "}\n",
       "#unshowable {\n",
       "color: red;\n",
       "font-weight: bold;\n",
       "}\n",
       ".err-msg.in.collapse {\n",
       "padding-top: 0.7em;\n",
       "}\n",
       ".highlight-code {\n",
       "white-space: pre;\n",
       "font-family: monospace;\n",
       "}\n",
       ".suggestion-warning { \n",
       "font-weight: bold;\n",
       "color: rgb(200, 130, 0);\n",
       "}\n",
       ".suggestion-error { \n",
       "font-weight: bold;\n",
       "color: red;\n",
       "}\n",
       ".suggestion-name {\n",
       "font-weight: bold;\n",
       "}\n",
       "</style><span class='err-msg'>&lt;interactive&gt;:3:7: error:<br/>    • No instance for (Eq MetricUnit) arising from a use of ‘==’<br/>    • In the expression: x == Meter<br/>      In a stmt of a pattern guard for<br/>                     an equation for ‘symbol’:<br/>        x == Meter<br/>      In an equation for ‘symbol’:<br/>          symbol x<br/>            | x == Meter = \"m\"<br/>            | x == Liter = \"L\"<br/>            | x == KiloGram = \"kg\"</span>"
      ],
      "text/plain": [
       "<interactive>:3:7: error:\n",
       "    • No instance for (Eq MetricUnit) arising from a use of ‘==’\n",
       "    • In the expression: x == Meter\n",
       "      In a stmt of a pattern guard for\n",
       "                     an equation for ‘symbol’:\n",
       "        x == Meter\n",
       "      In an equation for ‘symbol’:\n",
       "          symbol x\n",
       "            | x == Meter = \"m\"\n",
       "            | x == Liter = \"L\"\n",
       "            | x == KiloGram = \"kg\""
      ]
     },
     "metadata": {},
     "output_type": "display_data"
    }
   ],
   "source": [
    "-- with guards\n",
    "symbol :: MetricUnit -> String\n",
    "symbol x\n",
    "    | x==Meter    = \"m\"\n",
    "    | x==Liter    = \"L\"\n",
    "    | x==KiloGram = \"kg\""
   ]
  },
  {
   "cell_type": "markdown",
   "metadata": {},
   "source": [
    "Notice the error, GHCi is complaining that we are using `==` without defining it."
   ]
  },
  {
   "cell_type": "code",
   "execution_count": 4,
   "metadata": {
    "ExecuteTime": {
     "end_time": "2019-02-25T10:33:17.338580Z",
     "start_time": "2019-02-25T10:33:17.223Z"
    }
   },
   "outputs": [],
   "source": [
    "data MetricUnit = Meter | Liter | KiloGram  deriving (Show, Eq)"
   ]
  },
  {
   "cell_type": "code",
   "execution_count": 5,
   "metadata": {
    "ExecuteTime": {
     "end_time": "2019-02-25T10:33:17.889928Z",
     "start_time": "2019-02-25T10:33:17.777Z"
    }
   },
   "outputs": [],
   "source": [
    "-- with guards\n",
    "symbol :: MetricUnit -> String\n",
    "symbol x\n",
    "    | x==Meter    = \"m\"\n",
    "    | x==Liter    = \"L\"\n",
    "    | x==KiloGram = \"kg\""
   ]
  },
  {
   "cell_type": "markdown",
   "metadata": {},
   "source": [
    "Let's write a `convert` function with our types.\n",
    "\n",
    "We will convert from `Metric` to `Imperial`, But this time it will be elegant and idiomatic!"
   ]
  },
  {
   "cell_type": "code",
   "execution_count": 6,
   "metadata": {
    "ExecuteTime": {
     "end_time": "2019-02-25T10:33:19.636107Z",
     "start_time": "2019-02-25T10:33:19.520Z"
    }
   },
   "outputs": [],
   "source": [
    "\n",
    "data MetricUnit = Meter\n",
    "                | Liter\n",
    "                | KiloGram\n",
    "                  deriving (Show, Eq)\n",
    "\n",
    "data ImperialUnit = Yard\n",
    "                  | Gallon\n",
    "                  | Pound\n",
    "                    deriving (Show, Eq)"
   ]
  },
  {
   "cell_type": "code",
   "execution_count": 7,
   "metadata": {
    "ExecuteTime": {
     "end_time": "2019-02-25T10:33:20.146345Z",
     "start_time": "2019-02-25T10:33:20.029Z"
    }
   },
   "outputs": [],
   "source": [
    "data Measurement = MetricMeasurement Double MetricUnit \n",
    "                 | ImperialMeasurement Double ImperialUnit \n",
    "                   deriving (Show)"
   ]
  },
  {
   "cell_type": "code",
   "execution_count": 8,
   "metadata": {
    "ExecuteTime": {
     "end_time": "2019-02-25T10:33:20.641998Z",
     "start_time": "2019-02-25T10:33:20.531Z"
    }
   },
   "outputs": [
    {
     "data": {
      "text/html": [
       "<style>/* Styles used for the Hoogle display in the pager */\n",
       ".hoogle-doc {\n",
       "display: block;\n",
       "padding-bottom: 1.3em;\n",
       "padding-left: 0.4em;\n",
       "}\n",
       ".hoogle-code {\n",
       "display: block;\n",
       "font-family: monospace;\n",
       "white-space: pre;\n",
       "}\n",
       ".hoogle-text {\n",
       "display: block;\n",
       "}\n",
       ".hoogle-name {\n",
       "color: green;\n",
       "font-weight: bold;\n",
       "}\n",
       ".hoogle-head {\n",
       "font-weight: bold;\n",
       "}\n",
       ".hoogle-sub {\n",
       "display: block;\n",
       "margin-left: 0.4em;\n",
       "}\n",
       ".hoogle-package {\n",
       "font-weight: bold;\n",
       "font-style: italic;\n",
       "}\n",
       ".hoogle-module {\n",
       "font-weight: bold;\n",
       "}\n",
       ".hoogle-class {\n",
       "font-weight: bold;\n",
       "}\n",
       ".get-type {\n",
       "color: green;\n",
       "font-weight: bold;\n",
       "font-family: monospace;\n",
       "display: block;\n",
       "white-space: pre-wrap;\n",
       "}\n",
       ".show-type {\n",
       "color: green;\n",
       "font-weight: bold;\n",
       "font-family: monospace;\n",
       "margin-left: 1em;\n",
       "}\n",
       ".mono {\n",
       "font-family: monospace;\n",
       "display: block;\n",
       "}\n",
       ".err-msg {\n",
       "color: red;\n",
       "font-style: italic;\n",
       "font-family: monospace;\n",
       "white-space: pre;\n",
       "display: block;\n",
       "}\n",
       "#unshowable {\n",
       "color: red;\n",
       "font-weight: bold;\n",
       "}\n",
       ".err-msg.in.collapse {\n",
       "padding-top: 0.7em;\n",
       "}\n",
       ".highlight-code {\n",
       "white-space: pre;\n",
       "font-family: monospace;\n",
       "}\n",
       ".suggestion-warning { \n",
       "font-weight: bold;\n",
       "color: rgb(200, 130, 0);\n",
       "}\n",
       ".suggestion-error { \n",
       "font-weight: bold;\n",
       "color: red;\n",
       "}\n",
       ".suggestion-name {\n",
       "font-weight: bold;\n",
       "}\n",
       "</style><span class='get-type'>(MetricMeasurement 3.1 Liter) :: Measurement</span>"
      ],
      "text/plain": [
       "(MetricMeasurement 3.1 Liter) :: Measurement"
      ]
     },
     "metadata": {},
     "output_type": "display_data"
    },
    {
     "data": {
      "text/html": [
       "<style>/* Styles used for the Hoogle display in the pager */\n",
       ".hoogle-doc {\n",
       "display: block;\n",
       "padding-bottom: 1.3em;\n",
       "padding-left: 0.4em;\n",
       "}\n",
       ".hoogle-code {\n",
       "display: block;\n",
       "font-family: monospace;\n",
       "white-space: pre;\n",
       "}\n",
       ".hoogle-text {\n",
       "display: block;\n",
       "}\n",
       ".hoogle-name {\n",
       "color: green;\n",
       "font-weight: bold;\n",
       "}\n",
       ".hoogle-head {\n",
       "font-weight: bold;\n",
       "}\n",
       ".hoogle-sub {\n",
       "display: block;\n",
       "margin-left: 0.4em;\n",
       "}\n",
       ".hoogle-package {\n",
       "font-weight: bold;\n",
       "font-style: italic;\n",
       "}\n",
       ".hoogle-module {\n",
       "font-weight: bold;\n",
       "}\n",
       ".hoogle-class {\n",
       "font-weight: bold;\n",
       "}\n",
       ".get-type {\n",
       "color: green;\n",
       "font-weight: bold;\n",
       "font-family: monospace;\n",
       "display: block;\n",
       "white-space: pre-wrap;\n",
       "}\n",
       ".show-type {\n",
       "color: green;\n",
       "font-weight: bold;\n",
       "font-family: monospace;\n",
       "margin-left: 1em;\n",
       "}\n",
       ".mono {\n",
       "font-family: monospace;\n",
       "display: block;\n",
       "}\n",
       ".err-msg {\n",
       "color: red;\n",
       "font-style: italic;\n",
       "font-family: monospace;\n",
       "white-space: pre;\n",
       "display: block;\n",
       "}\n",
       "#unshowable {\n",
       "color: red;\n",
       "font-weight: bold;\n",
       "}\n",
       ".err-msg.in.collapse {\n",
       "padding-top: 0.7em;\n",
       "}\n",
       ".highlight-code {\n",
       "white-space: pre;\n",
       "font-family: monospace;\n",
       "}\n",
       ".suggestion-warning { \n",
       "font-weight: bold;\n",
       "color: rgb(200, 130, 0);\n",
       "}\n",
       ".suggestion-error { \n",
       "font-weight: bold;\n",
       "color: red;\n",
       "}\n",
       ".suggestion-name {\n",
       "font-weight: bold;\n",
       "}\n",
       "</style><span class='get-type'>(ImperialMeasurement 200 Pound) :: Measurement</span>"
      ],
      "text/plain": [
       "(ImperialMeasurement 200 Pound) :: Measurement"
      ]
     },
     "metadata": {},
     "output_type": "display_data"
    }
   ],
   "source": [
    ":type (MetricMeasurement 3.1 Liter)\n",
    ":type (ImperialMeasurement 200 Pound)"
   ]
  },
  {
   "cell_type": "code",
   "execution_count": 9,
   "metadata": {
    "ExecuteTime": {
     "end_time": "2019-02-25T10:33:21.132689Z",
     "start_time": "2019-02-25T10:33:21.011Z"
    }
   },
   "outputs": [],
   "source": [
    "convert :: Measurement -> Measurement\n",
    "convert (MetricMeasurement x u)\n",
    "    | u==Meter    = ImperialMeasurement (1.0936*x) Yard\n",
    "    | u==Liter    = ImperialMeasurement (0.2642*x) Gallon\n",
    "    | u==KiloGram = ImperialMeasurement (2.2046*x) Pound\n",
    "\n",
    "convert (ImperialMeasurement x u)\n",
    "    | u==Yard   = MetricMeasurement (0.9144*x) Meter\n",
    "    | u==Gallon = MetricMeasurement (3.7854*x) Liter\n",
    "    | u==Pound  = MetricMeasurement (0.4536*x) KiloGram"
   ]
  },
  {
   "cell_type": "code",
   "execution_count": 13,
   "metadata": {
    "ExecuteTime": {
     "end_time": "2019-02-25T10:37:00.020732Z",
     "start_time": "2019-02-25T10:36:59.694Z"
    }
   },
   "outputs": [
    {
     "data": {
      "text/plain": [
       "ImperialMeasurement 2.1872 Yard"
      ]
     },
     "metadata": {},
     "output_type": "display_data"
    }
   ],
   "source": [
    "let m = MetricMeasurement 2 Meter\n",
    "convert m"
   ]
  },
  {
   "cell_type": "markdown",
   "metadata": {},
   "source": [
    "This function is very maintainable. It properly accepts a Measurement as an input, converts it, and returns a Measurement."
   ]
  },
  {
   "cell_type": "markdown",
   "metadata": {
    "heading_collapsed": true
   },
   "source": [
    "### Records\n",
    "---\n",
    "\n",
    "Instead of using this:\n",
    "```haskell\n",
    "data Person = Person String String Int Float String String deriving (Show)\n",
    "```\n",
    "to store a person's first name last name, age, height, phone-number and favorite song, which when done this way is quite cumbersome and unreadabale, we can use Haskell's record syntax to do it in a better way.\n",
    "\n",
    "```haskell\n",
    "data Person = Person { firstName :: String  \n",
    "                     , lastName :: String  \n",
    "                     , age :: Int  \n",
    "                     , height :: Float  \n",
    "                     , phoneNumber :: String  \n",
    "                     , song :: String  \n",
    "                     } deriving (Show)\n",
    "```\n",
    "\n",
    "Notice the use of curly brackets `{}` and `::`. When using records, Haskkell will automatically create retrieval functions for every field.\n",
    "\n",
    "```haskell\n",
    "Prelude> :t song\n",
    "song :: Person -> String\n",
    "```\n",
    "\n",
    "Another benefit is when outputting with the `show` method, the output is more readable, like so.\n",
    "\n",
    "data\n",
    "\n",
    "```haskell\n",
    "    data Car = Car String String Int deriving (Show)  \n",
    "\n",
    "    ghci> Car \"Ford\" \"Mustang\" 1967  \n",
    "    Car \"Ford\" \"Mustang\" 1967  \n",
    "```\n",
    "\n",
    "v/s record\n",
    "\n",
    "```haskell\n",
    "    data Car = Car {company :: String, model :: String, year :: Int} deriving (Show)  \n",
    "\n",
    "    ghci> Car {company=\"Ford\", model=\"Mustang\", year=1967}  \n",
    "    Car {company = \"Ford\", model = \"Mustang\", year = 1967} \n",
    "```\n",
    "\n",
    "Also, note that with records, when making a new entries, we don't have to necessarily put the fields in the proper order, as long as we list all of them. But if we don't use record syntax, we have to specify them in order."
   ]
  },
  {
   "cell_type": "markdown",
   "metadata": {
    "hidden": true
   },
   "source": [
    "#### Lazily Dealing with Records\n",
    "---\n",
    "\n",
    "Usually we create getter and setter functions to deal with records, we can do that in Haskell too.\n",
    "\n",
    "```haskell\n",
    "data Point = Point Double Double\n",
    "\n",
    "xval :: Point -> Double\n",
    "xval (Point x _) = x\n",
    "\n",
    "yval :: Point -> Double\n",
    "yval (Point _ y) = y\n",
    "```\n",
    "but, Haskell's laziness offers us a better way to do just that.\n",
    "\n",
    "```Haskell\n",
    "data Point = Point \n",
    "{ xval::Double, yval::Double }\n",
    "\n",
    "let a = Point 2 3\n",
    "\n",
    "let b = Point {xval = 2, yval = 3}\n",
    "\n",
    "```"
   ]
  },
  {
   "cell_type": "markdown",
   "metadata": {
    "ExecuteTime": {
     "end_time": "2019-02-25T11:36:24.805463Z",
     "start_time": "2019-02-25T11:36:24.801Z"
    }
   },
   "source": [
    "## Type Parameters\n",
    "---\n",
    "\n",
    "`:types` can have arguments too.\n",
    "\n",
    "\n",
    "```Haskell\n",
    "\n",
    "data ThreeThings a = ThreeThings a a a  deriving (Show)\n",
    "\n",
    "Prelude> ThreeThings 1 2 3\n",
    "ThreeThings 1 2 3\n",
    "\n",
    "Prelude> ThreeThings \"hello\" \"there\" \"lad\"\n",
    "ThreeThings \"hello\" \"there\" \"lad\"\n",
    "\n",
    "```\n",
    "\n",
    "Here, `ThreeThings` is bundle of three identical types"
   ]
  },
  {
   "cell_type": "markdown",
   "metadata": {
    "ExecuteTime": {
     "end_time": "2019-02-26T11:54:56.610797Z",
     "start_time": "2019-02-26T11:54:56.607Z"
    }
   },
   "source": [
    "* Here's another example:"
   ]
  },
  {
   "cell_type": "code",
   "execution_count": 7,
   "metadata": {
    "ExecuteTime": {
     "end_time": "2019-02-26T11:50:09.644871Z",
     "start_time": "2019-02-26T11:50:09.269Z"
    }
   },
   "outputs": [
    {
     "data": {
      "text/plain": [
       "\"This Ford Mustang was made in 1967\""
      ]
     },
     "metadata": {},
     "output_type": "display_data"
    }
   ],
   "source": [
    "-- fixed non-parametric\n",
    "data Car = Car{ company :: String\n",
    "              , model :: String\n",
    "              , year :: Int\n",
    "              } deriving (Show)\n",
    "              \n",
    "tellCar :: Car -> String  \n",
    "tellCar (Car {company = c, model = m, year = y}) = \"This \" ++ c ++ \" \" ++ m ++ \" was made in \" ++ show y\n",
    "\n",
    "let stang = Car {company=\"Ford\", model=\"Mustang\", year=1967}\n",
    "tellCar stang"
   ]
  },
  {
   "cell_type": "code",
   "execution_count": 16,
   "metadata": {
    "ExecuteTime": {
     "end_time": "2019-02-26T11:54:29.902967Z",
     "start_time": "2019-02-26T11:54:29.352Z"
    }
   },
   "outputs": [
    {
     "data": {
      "text/plain": [
       "\"This Ford Mustang was made in 1967\""
      ]
     },
     "metadata": {},
     "output_type": "display_data"
    },
    {
     "data": {
      "text/plain": [
       "\"This Ford Mustang was made in \\\"Nineteen Sixty 7\\\"\""
      ]
     },
     "metadata": {},
     "output_type": "display_data"
    }
   ],
   "source": [
    "-- parametric\n",
    "data TCar a b c = TCar{ company :: a  \n",
    "                      , model :: b  \n",
    "                      , year :: c   \n",
    "                      } deriving (Show)\n",
    "                      \n",
    "telltCar :: (Show a) => TCar String String a -> String\n",
    "telltCar (TCar {company = c, model = m, year = y}) = \"This \" ++ c ++ \" \" ++ m ++ \" was made in \" ++ show y\n",
    "\n",
    "let stang = TCar {company=\"Ford\", model=\"Mustang\", year=1967}\n",
    "telltCar stang\n",
    "\n",
    "let stanging = TCar {company=\"Ford\", model=\"Mustang\", year=\"Nineteen Sixty 7\"}\n",
    "telltCar stanging"
   ]
  },
  {
   "cell_type": "markdown",
   "metadata": {},
   "source": [
    "Another point worth noticing is that it's recommended in Haskell to not get overenthusiastic with parametric types in data declarations, as we end up writing more class constraints, even when it's clear that we won't be needing them. Even it the above example we were doing perfectly fine with `String String Int` and the added flexibility from `a b c` parameter-ising the records did'nt actually help all that much.\n",
    "\n",
    "So don't put type constraints into data declarations even if it seems to make sense, because you'll have to put them into the function type declarations either way.\n",
    "\n",
    "Let's implement a 3D vector type and add some operations for it. We'll be using a parameterized type because even though it will usually contain numeric types, it will still support several of them."
   ]
  },
  {
   "cell_type": "code",
   "execution_count": 18,
   "metadata": {
    "ExecuteTime": {
     "end_time": "2019-02-26T13:10:58.089577Z",
     "start_time": "2019-02-26T13:10:57.971Z"
    }
   },
   "outputs": [],
   "source": [
    "data Vector a = Vector a a a deriving (Show)  \n",
    "      \n",
    "vplus :: (Num t) => Vector t -> Vector t -> Vector t  \n",
    "(Vector i j k) `vplus` (Vector l m n) = Vector (i+l) (j+m) (k+n)  \n",
    "      \n",
    "vectMult :: (Num t) => Vector t -> t -> Vector t  \n",
    "(Vector i j k) `vectMult` m = Vector (i*m) (j*m) (k*m)  \n",
    "      \n",
    "scalarMult :: (Num t) => Vector t -> Vector t -> t  \n",
    "(Vector i j k) `scalarMult` (Vector l m n) = i*l + j*m + k*n  "
   ]
  },
  {
   "cell_type": "markdown",
   "metadata": {},
   "source": [
    "Notice how inspite of using parametric types, our functions still have to be constrained on `Num`, this erodes a lot of the benefits, that we could have gained. instead declaring it as `Num Num Num` would have been better both in terms of convenience and reuse."
   ]
  },
  {
   "cell_type": "markdown",
   "metadata": {},
   "source": [
    "## Modules\n",
    "---\n",
    "We can export useful code to a module, so that other projects can reuse them.\n",
    "\n",
    "* **your file name should be the same as your module name!**\n",
    "\n",
    "Example:\n",
    "\n",
    "```haskell\n",
    "\n",
    "module MyData\n",
    "    (MetricUnit(..),\n",
    "     ImperialUnit(..),\n",
    "     Measurement(..),\n",
    "     convert)\n",
    "where\n",
    "```\n",
    "\n",
    "By doing `MetricUnit(..)`, we are exporting all constructors for `MetricUnit`, it's the same as  writing `MetricUnit(Meter, Liter, KiloGram)`, on the other hand we could have also done `MetricUnit` without the `(..)` which would have then limited the reuse only through functions and types external to `MetricUnit`, which means no way to directly use `Meter` `Liter` or `Kilogram` value constructors.\n",
    "\n",
    "\n",
    "And now we can use `convert` from anywhere!\n",
    "\n",
    "```haskell\n",
    "\n",
    "-- OtherFile.hs\n",
    "import MyData\n",
    "\t    \n",
    "-- display a measurement in Metric\n",
    "reportMeasurement :: Measurement -> String\n",
    "\t    \n",
    "-- if metric, print out the measurement\n",
    "reportMeasurement (MyData.MetricMeasurement x u) \n",
    "    = (show x) ++ \" \" ++ (show u)\n",
    "    \n",
    "-- otherwise if imperial, convert the measurement and try again\n",
    "reportMeasurement m \n",
    "    = reportMeasurement (convert m)\t    \n",
    "```\n",
    "\n",
    "For `import` we can either do a straight `import foo` or an `import qulaified foo`, with qualified imports we have the ability to prevent namespace clashes, as function in the qualified import are now exposed as `foo.whatever` instead of `whatever`."
   ]
  },
  {
   "cell_type": "markdown",
   "metadata": {},
   "source": [
    "Exercise: \n",
    "\n",
    "* Create a binary tree data type of Int nodes\n",
    "* Write a function to sum all nodes in the tree\n",
    "```haskell\n",
    "data Tree = ... \n",
    "add :: Tree -> Int\n",
    "```\n",
    "---\n",
    "![Binary Tree](https://upload.wikimedia.org/wikipedia/commons/thumb/f/f7/Binary_tree.svg/800px-Binary_tree.svg.png \"Binary Tree\")"
   ]
  },
  {
   "cell_type": "code",
   "execution_count": 1,
   "metadata": {
    "ExecuteTime": {
     "end_time": "2019-02-25T12:59:24.312932Z",
     "start_time": "2019-02-25T12:59:24.061Z"
    }
   },
   "outputs": [],
   "source": [
    "import Data.Char\n",
    "data Tree a = Leaf a | Branch (Tree a) (Tree a) deriving (Show, Eq)\n",
    "newtype IntTree = Tree Int "
   ]
  },
  {
   "cell_type": "code",
   "execution_count": 2,
   "metadata": {
    "ExecuteTime": {
     "end_time": "2019-02-25T12:59:24.839770Z",
     "start_time": "2019-02-25T12:59:24.727Z"
    }
   },
   "outputs": [
    {
     "data": {
      "text/html": [
       "<style>/* Styles used for the Hoogle display in the pager */\n",
       ".hoogle-doc {\n",
       "display: block;\n",
       "padding-bottom: 1.3em;\n",
       "padding-left: 0.4em;\n",
       "}\n",
       ".hoogle-code {\n",
       "display: block;\n",
       "font-family: monospace;\n",
       "white-space: pre;\n",
       "}\n",
       ".hoogle-text {\n",
       "display: block;\n",
       "}\n",
       ".hoogle-name {\n",
       "color: green;\n",
       "font-weight: bold;\n",
       "}\n",
       ".hoogle-head {\n",
       "font-weight: bold;\n",
       "}\n",
       ".hoogle-sub {\n",
       "display: block;\n",
       "margin-left: 0.4em;\n",
       "}\n",
       ".hoogle-package {\n",
       "font-weight: bold;\n",
       "font-style: italic;\n",
       "}\n",
       ".hoogle-module {\n",
       "font-weight: bold;\n",
       "}\n",
       ".hoogle-class {\n",
       "font-weight: bold;\n",
       "}\n",
       ".get-type {\n",
       "color: green;\n",
       "font-weight: bold;\n",
       "font-family: monospace;\n",
       "display: block;\n",
       "white-space: pre-wrap;\n",
       "}\n",
       ".show-type {\n",
       "color: green;\n",
       "font-weight: bold;\n",
       "font-family: monospace;\n",
       "margin-left: 1em;\n",
       "}\n",
       ".mono {\n",
       "font-family: monospace;\n",
       "display: block;\n",
       "}\n",
       ".err-msg {\n",
       "color: red;\n",
       "font-style: italic;\n",
       "font-family: monospace;\n",
       "white-space: pre;\n",
       "display: block;\n",
       "}\n",
       "#unshowable {\n",
       "color: red;\n",
       "font-weight: bold;\n",
       "}\n",
       ".err-msg.in.collapse {\n",
       "padding-top: 0.7em;\n",
       "}\n",
       ".highlight-code {\n",
       "white-space: pre;\n",
       "font-family: monospace;\n",
       "}\n",
       ".suggestion-warning { \n",
       "font-weight: bold;\n",
       "color: rgb(200, 130, 0);\n",
       "}\n",
       ".suggestion-error { \n",
       "font-weight: bold;\n",
       "color: red;\n",
       "}\n",
       ".suggestion-name {\n",
       "font-weight: bold;\n",
       "}\n",
       "</style><span class='get-type'>a :: Tree Char</span>"
      ],
      "text/plain": [
       "a :: Tree Char"
      ]
     },
     "metadata": {},
     "output_type": "display_data"
    }
   ],
   "source": [
    "-- test\n",
    "a = Leaf 'a'\n",
    "b = Leaf 'b'\n",
    "c = Leaf 'c'\n",
    "d = Leaf 'd'\n",
    "\n",
    ":type a"
   ]
  },
  {
   "cell_type": "code",
   "execution_count": 3,
   "metadata": {
    "ExecuteTime": {
     "end_time": "2019-02-25T12:59:25.385038Z",
     "start_time": "2019-02-25T12:59:25.273Z"
    }
   },
   "outputs": [
    {
     "data": {
      "text/html": [
       "<style>/* Styles used for the Hoogle display in the pager */\n",
       ".hoogle-doc {\n",
       "display: block;\n",
       "padding-bottom: 1.3em;\n",
       "padding-left: 0.4em;\n",
       "}\n",
       ".hoogle-code {\n",
       "display: block;\n",
       "font-family: monospace;\n",
       "white-space: pre;\n",
       "}\n",
       ".hoogle-text {\n",
       "display: block;\n",
       "}\n",
       ".hoogle-name {\n",
       "color: green;\n",
       "font-weight: bold;\n",
       "}\n",
       ".hoogle-head {\n",
       "font-weight: bold;\n",
       "}\n",
       ".hoogle-sub {\n",
       "display: block;\n",
       "margin-left: 0.4em;\n",
       "}\n",
       ".hoogle-package {\n",
       "font-weight: bold;\n",
       "font-style: italic;\n",
       "}\n",
       ".hoogle-module {\n",
       "font-weight: bold;\n",
       "}\n",
       ".hoogle-class {\n",
       "font-weight: bold;\n",
       "}\n",
       ".get-type {\n",
       "color: green;\n",
       "font-weight: bold;\n",
       "font-family: monospace;\n",
       "display: block;\n",
       "white-space: pre-wrap;\n",
       "}\n",
       ".show-type {\n",
       "color: green;\n",
       "font-weight: bold;\n",
       "font-family: monospace;\n",
       "margin-left: 1em;\n",
       "}\n",
       ".mono {\n",
       "font-family: monospace;\n",
       "display: block;\n",
       "}\n",
       ".err-msg {\n",
       "color: red;\n",
       "font-style: italic;\n",
       "font-family: monospace;\n",
       "white-space: pre;\n",
       "display: block;\n",
       "}\n",
       "#unshowable {\n",
       "color: red;\n",
       "font-weight: bold;\n",
       "}\n",
       ".err-msg.in.collapse {\n",
       "padding-top: 0.7em;\n",
       "}\n",
       ".highlight-code {\n",
       "white-space: pre;\n",
       "font-family: monospace;\n",
       "}\n",
       ".suggestion-warning { \n",
       "font-weight: bold;\n",
       "color: rgb(200, 130, 0);\n",
       "}\n",
       ".suggestion-error { \n",
       "font-weight: bold;\n",
       "color: red;\n",
       "}\n",
       ".suggestion-name {\n",
       "font-weight: bold;\n",
       "}\n",
       "</style><span class='get-type'>ab :: Tree Char</span>"
      ],
      "text/plain": [
       "ab :: Tree Char"
      ]
     },
     "metadata": {},
     "output_type": "display_data"
    }
   ],
   "source": [
    "-- subtrees\n",
    "ab = Branch a b\n",
    "cd = Branch b c\n",
    "\n",
    ":type ab"
   ]
  },
  {
   "cell_type": "code",
   "execution_count": 4,
   "metadata": {
    "ExecuteTime": {
     "end_time": "2019-02-25T12:59:25.942632Z",
     "start_time": "2019-02-25T12:59:25.828Z"
    }
   },
   "outputs": [
    {
     "data": {
      "text/html": [
       "<style>/* Styles used for the Hoogle display in the pager */\n",
       ".hoogle-doc {\n",
       "display: block;\n",
       "padding-bottom: 1.3em;\n",
       "padding-left: 0.4em;\n",
       "}\n",
       ".hoogle-code {\n",
       "display: block;\n",
       "font-family: monospace;\n",
       "white-space: pre;\n",
       "}\n",
       ".hoogle-text {\n",
       "display: block;\n",
       "}\n",
       ".hoogle-name {\n",
       "color: green;\n",
       "font-weight: bold;\n",
       "}\n",
       ".hoogle-head {\n",
       "font-weight: bold;\n",
       "}\n",
       ".hoogle-sub {\n",
       "display: block;\n",
       "margin-left: 0.4em;\n",
       "}\n",
       ".hoogle-package {\n",
       "font-weight: bold;\n",
       "font-style: italic;\n",
       "}\n",
       ".hoogle-module {\n",
       "font-weight: bold;\n",
       "}\n",
       ".hoogle-class {\n",
       "font-weight: bold;\n",
       "}\n",
       ".get-type {\n",
       "color: green;\n",
       "font-weight: bold;\n",
       "font-family: monospace;\n",
       "display: block;\n",
       "white-space: pre-wrap;\n",
       "}\n",
       ".show-type {\n",
       "color: green;\n",
       "font-weight: bold;\n",
       "font-family: monospace;\n",
       "margin-left: 1em;\n",
       "}\n",
       ".mono {\n",
       "font-family: monospace;\n",
       "display: block;\n",
       "}\n",
       ".err-msg {\n",
       "color: red;\n",
       "font-style: italic;\n",
       "font-family: monospace;\n",
       "white-space: pre;\n",
       "display: block;\n",
       "}\n",
       "#unshowable {\n",
       "color: red;\n",
       "font-weight: bold;\n",
       "}\n",
       ".err-msg.in.collapse {\n",
       "padding-top: 0.7em;\n",
       "}\n",
       ".highlight-code {\n",
       "white-space: pre;\n",
       "font-family: monospace;\n",
       "}\n",
       ".suggestion-warning { \n",
       "font-weight: bold;\n",
       "color: rgb(200, 130, 0);\n",
       "}\n",
       ".suggestion-error { \n",
       "font-weight: bold;\n",
       "color: red;\n",
       "}\n",
       ".suggestion-name {\n",
       "font-weight: bold;\n",
       "}\n",
       "</style><span class='get-type'>abcd :: Tree Char</span>"
      ],
      "text/plain": [
       "abcd :: Tree Char"
      ]
     },
     "metadata": {},
     "output_type": "display_data"
    }
   ],
   "source": [
    "-- full tree\n",
    "abcd = Branch ab cd\n",
    ":type abcd"
   ]
  },
  {
   "cell_type": "code",
   "execution_count": 5,
   "metadata": {
    "ExecuteTime": {
     "end_time": "2019-02-25T12:59:26.599141Z",
     "start_time": "2019-02-25T12:59:26.345Z"
    }
   },
   "outputs": [
    {
     "data": {
      "text/plain": [
       "Branch (Branch (Leaf 'a') (Leaf 'b')) (Branch (Leaf 'b') (Leaf 'c'))"
      ]
     },
     "metadata": {},
     "output_type": "display_data"
    }
   ],
   "source": [
    "abcd"
   ]
  },
  {
   "cell_type": "code",
   "execution_count": 10,
   "metadata": {
    "ExecuteTime": {
     "end_time": "2019-02-25T13:01:06.402251Z",
     "start_time": "2019-02-25T13:01:06.179Z"
    }
   },
   "outputs": [
    {
     "data": {
      "text/plain": [
       "Branch (Branch (Leaf 'a') (Leaf 'b')) (Branch (Leaf 'b') (Leaf 'c'))"
      ]
     },
     "metadata": {},
     "output_type": "display_data"
    }
   ],
   "source": [
    "tMapTree :: (a -> b) -> (Tree a) -> (Tree b)\n",
    "tMapTree toTree (Leaf a) = Leaf (toTree a)\n",
    "tMapTree toTree (Branch a b) = Branch (tMapTree toTree a) (tMapTree toTree b)\n",
    "--test\n",
    "tMapTree chr (tMapTree ord abcd)"
   ]
  },
  {
   "cell_type": "code",
   "execution_count": 12,
   "metadata": {
    "ExecuteTime": {
     "end_time": "2019-02-25T13:02:24.527737Z",
     "start_time": "2019-02-25T13:02:24.415Z"
    }
   },
   "outputs": [],
   "source": [
    "tFoldTree :: (b -> b -> b) -> (a -> b) -> (Tree a) -> b\n",
    "tFoldTree op getparam (Leaf n) = getparam n\n",
    "tFoldTree op getparam (Branch a b) = op (tFoldTree op getparam a) (tFoldTree op getparam b)"
   ]
  },
  {
   "cell_type": "code",
   "execution_count": 38,
   "metadata": {
    "ExecuteTime": {
     "end_time": "2019-02-25T13:10:26.247306Z",
     "start_time": "2019-02-25T13:10:26.131Z"
    }
   },
   "outputs": [
    {
     "data": {
      "text/html": [
       "<style>/* Styles used for the Hoogle display in the pager */\n",
       ".hoogle-doc {\n",
       "display: block;\n",
       "padding-bottom: 1.3em;\n",
       "padding-left: 0.4em;\n",
       "}\n",
       ".hoogle-code {\n",
       "display: block;\n",
       "font-family: monospace;\n",
       "white-space: pre;\n",
       "}\n",
       ".hoogle-text {\n",
       "display: block;\n",
       "}\n",
       ".hoogle-name {\n",
       "color: green;\n",
       "font-weight: bold;\n",
       "}\n",
       ".hoogle-head {\n",
       "font-weight: bold;\n",
       "}\n",
       ".hoogle-sub {\n",
       "display: block;\n",
       "margin-left: 0.4em;\n",
       "}\n",
       ".hoogle-package {\n",
       "font-weight: bold;\n",
       "font-style: italic;\n",
       "}\n",
       ".hoogle-module {\n",
       "font-weight: bold;\n",
       "}\n",
       ".hoogle-class {\n",
       "font-weight: bold;\n",
       "}\n",
       ".get-type {\n",
       "color: green;\n",
       "font-weight: bold;\n",
       "font-family: monospace;\n",
       "display: block;\n",
       "white-space: pre-wrap;\n",
       "}\n",
       ".show-type {\n",
       "color: green;\n",
       "font-weight: bold;\n",
       "font-family: monospace;\n",
       "margin-left: 1em;\n",
       "}\n",
       ".mono {\n",
       "font-family: monospace;\n",
       "display: block;\n",
       "}\n",
       ".err-msg {\n",
       "color: red;\n",
       "font-style: italic;\n",
       "font-family: monospace;\n",
       "white-space: pre;\n",
       "display: block;\n",
       "}\n",
       "#unshowable {\n",
       "color: red;\n",
       "font-weight: bold;\n",
       "}\n",
       ".err-msg.in.collapse {\n",
       "padding-top: 0.7em;\n",
       "}\n",
       ".highlight-code {\n",
       "white-space: pre;\n",
       "font-family: monospace;\n",
       "}\n",
       ".suggestion-warning { \n",
       "font-weight: bold;\n",
       "color: rgb(200, 130, 0);\n",
       "}\n",
       ".suggestion-error { \n",
       "font-weight: bold;\n",
       "color: red;\n",
       "}\n",
       ".suggestion-name {\n",
       "font-weight: bold;\n",
       "}\n",
       "</style><span class='get-type'>xyzx :: forall a. Num a => Tree a</span>"
      ],
      "text/plain": [
       "xyzx :: forall a. Num a => Tree a"
      ]
     },
     "metadata": {},
     "output_type": "display_data"
    }
   ],
   "source": [
    "x = Leaf 1\n",
    "y = Leaf 2\n",
    "z = Leaf 3\n",
    "\n",
    "xy = Branch x y\n",
    "yz = Branch y z\n",
    "zx = Branch z x\n",
    "\n",
    "xyz = Branch xy yz\n",
    "yzx = Branch yz zx\n",
    "\n",
    "xyzx = Branch xyz yzx\n",
    "\n",
    ":type xyzx"
   ]
  },
  {
   "cell_type": "code",
   "execution_count": 45,
   "metadata": {
    "ExecuteTime": {
     "end_time": "2019-02-25T13:11:35.367776Z",
     "start_time": "2019-02-25T13:11:35.253Z"
    }
   },
   "outputs": [
    {
     "data": {
      "text/html": [
       "<style>/* Styles used for the Hoogle display in the pager */\n",
       ".hoogle-doc {\n",
       "display: block;\n",
       "padding-bottom: 1.3em;\n",
       "padding-left: 0.4em;\n",
       "}\n",
       ".hoogle-code {\n",
       "display: block;\n",
       "font-family: monospace;\n",
       "white-space: pre;\n",
       "}\n",
       ".hoogle-text {\n",
       "display: block;\n",
       "}\n",
       ".hoogle-name {\n",
       "color: green;\n",
       "font-weight: bold;\n",
       "}\n",
       ".hoogle-head {\n",
       "font-weight: bold;\n",
       "}\n",
       ".hoogle-sub {\n",
       "display: block;\n",
       "margin-left: 0.4em;\n",
       "}\n",
       ".hoogle-package {\n",
       "font-weight: bold;\n",
       "font-style: italic;\n",
       "}\n",
       ".hoogle-module {\n",
       "font-weight: bold;\n",
       "}\n",
       ".hoogle-class {\n",
       "font-weight: bold;\n",
       "}\n",
       ".get-type {\n",
       "color: green;\n",
       "font-weight: bold;\n",
       "font-family: monospace;\n",
       "display: block;\n",
       "white-space: pre-wrap;\n",
       "}\n",
       ".show-type {\n",
       "color: green;\n",
       "font-weight: bold;\n",
       "font-family: monospace;\n",
       "margin-left: 1em;\n",
       "}\n",
       ".mono {\n",
       "font-family: monospace;\n",
       "display: block;\n",
       "}\n",
       ".err-msg {\n",
       "color: red;\n",
       "font-style: italic;\n",
       "font-family: monospace;\n",
       "white-space: pre;\n",
       "display: block;\n",
       "}\n",
       "#unshowable {\n",
       "color: red;\n",
       "font-weight: bold;\n",
       "}\n",
       ".err-msg.in.collapse {\n",
       "padding-top: 0.7em;\n",
       "}\n",
       ".highlight-code {\n",
       "white-space: pre;\n",
       "font-family: monospace;\n",
       "}\n",
       ".suggestion-warning { \n",
       "font-weight: bold;\n",
       "color: rgb(200, 130, 0);\n",
       "}\n",
       ".suggestion-error { \n",
       "font-weight: bold;\n",
       "color: red;\n",
       "}\n",
       ".suggestion-name {\n",
       "font-weight: bold;\n",
       "}\n",
       "</style><div class=\"suggestion-name\" style=\"clear:both;\">Eta reduce</div><div class=\"suggestion-row\" style=\"float: left;\"><div class=\"suggestion-warning\">Found:</div><div class=\"highlight-code\" id=\"haskell\">sumTree a = tFoldTree (+) toInteger a</div></div><div class=\"suggestion-row\" style=\"float: left;\"><div class=\"suggestion-warning\">Why Not:</div><div class=\"highlight-code\" id=\"haskell\">sumTree = tFoldTree (+) toInteger</div></div>"
      ],
      "text/plain": [
       "Line 1: Eta reduce\n",
       "Found:\n",
       "sumTree a = tFoldTree (+) toInteger a\n",
       "Why not:\n",
       "sumTree = tFoldTree (+) toInteger"
      ]
     },
     "metadata": {},
     "output_type": "display_data"
    }
   ],
   "source": [
    "sumTree a = tFoldTree (+) toInteger a"
   ]
  },
  {
   "cell_type": "code",
   "execution_count": 46,
   "metadata": {
    "ExecuteTime": {
     "end_time": "2019-02-25T13:11:39.126730Z",
     "start_time": "2019-02-25T13:11:38.904Z"
    }
   },
   "outputs": [
    {
     "data": {
      "text/plain": [
       "17"
      ]
     },
     "metadata": {},
     "output_type": "display_data"
    }
   ],
   "source": [
    "sumTree xyzx"
   ]
  },
  {
   "cell_type": "markdown",
   "metadata": {},
   "source": [
    "## More on Types\n",
    "---"
   ]
  },
  {
   "cell_type": "markdown",
   "metadata": {},
   "source": [
    "### Derived Instances\n",
    "---\n",
    "\n",
    "Consider the following data type\n",
    "\n",
    "```haskell\n",
    "data Person = Person { firstName :: String  \n",
    "                     , lastName :: String  \n",
    "                     , age :: Int  \n",
    "                     } deriving (Eq)\n",
    "```\n",
    "it describes a Person, and assuming that no two persons can have the exact same combination of field values, it would make sense for us to be able to compare among variables with the `Person` Type. \n",
    "\n",
    "To do that we can derive from the `Eq` TypeClass, when we derive the `Eq` instance for a Type, Haskell will see if the value constructors (Only 1 here) and the data contained inside, matches by testing each pair of fields with `==` as long as the types of the field are part of the `Eq` class, which they are in this case (`String` and `Int`).\n",
    "\n",
    "deriving from the `Eq` class also allows us to use the `Person` type for all functions that have a class constraint of `Eq a`, (Person would be the `a` here), like `elem`"
   ]
  },
  {
   "cell_type": "code",
   "execution_count": 2,
   "metadata": {
    "ExecuteTime": {
     "end_time": "2019-02-26T14:52:22.188585Z",
     "start_time": "2019-02-26T14:52:21.627Z"
    }
   },
   "outputs": [],
   "source": [
    "-- another example\n",
    "data Person = Person { firstName :: String  \n",
    "                     , lastName :: String  \n",
    "                     , age :: Int  \n",
    "                     } deriving (Eq)\n",
    "                     \n",
    "let bRay = Person {firstName = \"Bubba\", lastName = \"Ray\", age = 49}\n",
    "let dJohn = Person {firstName = \"Doofus\", lastName = \"Johnson\", age = 21}\n",
    "let yHaw = Person {firstName = \"Yankee\", lastName = \"Hawthorne\", age = 31}\n",
    "let yyHaw = Person {firstName = \"Yankee\", lastName = \"Hawthorne\", age = 31}"
   ]
  },
  {
   "cell_type": "code",
   "execution_count": 3,
   "metadata": {
    "ExecuteTime": {
     "end_time": "2019-02-26T14:52:22.466900Z",
     "start_time": "2019-02-26T14:52:22.033Z"
    }
   },
   "outputs": [
    {
     "data": {
      "text/plain": [
       "True"
      ]
     },
     "metadata": {},
     "output_type": "display_data"
    }
   ],
   "source": [
    "yHaw == yyHaw"
   ]
  },
  {
   "cell_type": "code",
   "execution_count": 4,
   "metadata": {
    "ExecuteTime": {
     "end_time": "2019-02-26T14:52:22.795206Z",
     "start_time": "2019-02-26T14:52:22.384Z"
    }
   },
   "outputs": [
    {
     "data": {
      "text/plain": [
       "True"
      ]
     },
     "metadata": {},
     "output_type": "display_data"
    }
   ],
   "source": [
    "let bunch = [bRay, dJohn, yHaw]\n",
    "elem bRay bunch"
   ]
  },
  {
   "cell_type": "markdown",
   "metadata": {
    "ExecuteTime": {
     "end_time": "2019-02-26T11:28:17.456852Z",
     "start_time": "2019-02-26T11:28:17.452Z"
    }
   },
   "source": [
    "### Type Synonyms\n",
    "---\n",
    "\n",
    "Type synonyms don't really do anything per se, they're just about giving some types different names so that they make more sense to someone reading our code and documentation. It's just an alias.\n",
    "\n",
    "Here's how the standard library defines String as a synonym for [Char].\n",
    "\n",
    "```haskell\n",
    "type String = [Char] \n",
    "```\n",
    "\n",
    "Type synonyms can also be parameterized. If we want a type that represents an association list type but still want it to be general so it can use any type as the keys and values, we can do this:\n",
    "\n",
    "```haskell\n",
    "type AssocList k v = [(k,v)]\n",
    "```\n",
    "\n",
    "Now, a function that gets the value by a key in an association list can have a type of `(Eq k) => k -> AssocList k v -> Maybe v`. AssocList is a type constructor that takes two types and produces a concrete type, like `AssocList Int String`, for instance."
   ]
  },
  {
   "cell_type": "code",
   "execution_count": 41,
   "metadata": {
    "ExecuteTime": {
     "end_time": "2019-02-26T13:38:24.212873Z",
     "start_time": "2019-02-26T13:38:24.094Z"
    }
   },
   "outputs": [],
   "source": [
    "import qualified Data.Map as Map  \n",
    "   \n",
    "data LockerState = Taken | Free deriving (Show, Eq)\n",
    "type Code = String  \n",
    "type LockerMap = Map.Map Int (LockerState, Code) -- parametric"
   ]
  },
  {
   "cell_type": "code",
   "execution_count": 42,
   "metadata": {
    "ExecuteTime": {
     "end_time": "2019-02-26T13:38:26.010219Z",
     "start_time": "2019-02-26T13:38:25.895Z"
    }
   },
   "outputs": [],
   "source": [
    "lockerLookup :: Int -> LockerMap -> Either String Code  \n",
    "lockerLookup lockerNumber map =   \n",
    "    case Map.lookup lockerNumber map of   \n",
    "        Nothing -> Left $ \"Locker number \" ++ show lockerNumber ++ \" doesn't exist!\"  \n",
    "        Just (state, code) -> if state /= Taken   \n",
    "                                then Right code  \n",
    "                                else Left $ \"Locker \" ++ show lockerNumber ++ \" is already taken!\""
   ]
  },
  {
   "cell_type": "code",
   "execution_count": 43,
   "metadata": {
    "ExecuteTime": {
     "end_time": "2019-02-26T13:38:26.490694Z",
     "start_time": "2019-02-26T13:38:26.373Z"
    }
   },
   "outputs": [],
   "source": [
    "lockers :: LockerMap  \n",
    "lockers = Map.fromList   \n",
    "    [(100,(Taken,\"ZD39I\"))  \n",
    "    ,(101,(Free,\"JAH3I\"))  \n",
    "    ,(103,(Free,\"IQSA9\"))  \n",
    "    ,(105,(Free,\"QOTSA\"))  \n",
    "    ,(109,(Taken,\"893JJ\"))  \n",
    "    ,(110,(Taken,\"99292\"))  \n",
    "    ]"
   ]
  },
  {
   "cell_type": "code",
   "execution_count": 44,
   "metadata": {
    "ExecuteTime": {
     "end_time": "2019-02-26T13:38:26.989562Z",
     "start_time": "2019-02-26T13:38:26.769Z"
    }
   },
   "outputs": [
    {
     "data": {
      "text/plain": [
       "Right \"JAH3I\""
      ]
     },
     "metadata": {},
     "output_type": "display_data"
    }
   ],
   "source": [
    "lockerLookup 101 lockers"
   ]
  },
  {
   "cell_type": "code",
   "execution_count": 45,
   "metadata": {
    "ExecuteTime": {
     "end_time": "2019-02-26T13:38:27.731698Z",
     "start_time": "2019-02-26T13:38:27.511Z"
    }
   },
   "outputs": [
    {
     "data": {
      "text/plain": [
       "Left \"Locker number 111 doesn't exist!\""
      ]
     },
     "metadata": {},
     "output_type": "display_data"
    }
   ],
   "source": [
    "lockerLookup 111 lockers"
   ]
  },
  {
   "cell_type": "code",
   "execution_count": 46,
   "metadata": {
    "ExecuteTime": {
     "end_time": "2019-02-26T13:38:28.098016Z",
     "start_time": "2019-02-26T13:38:27.877Z"
    }
   },
   "outputs": [
    {
     "data": {
      "text/plain": [
       "Left \"Locker 110 is already taken!\""
      ]
     },
     "metadata": {},
     "output_type": "display_data"
    }
   ],
   "source": [
    "lockerLookup 110 lockers"
   ]
  },
  {
   "cell_type": "markdown",
   "metadata": {},
   "source": [
    "### Creating and Instancing with TypeClasses\n",
    "---\n",
    "\n",
    "Consider this,\n",
    "\n",
    "```haskell\n",
    "    class Eq a where  \n",
    "        (==) :: a -> a -> Bool  \n",
    "        (/=) :: a -> a -> Bool  \n",
    "        x == y = not (x /= y)  \n",
    "        x /= y = not (x == y)  \n",
    "```\n",
    "This is how `Eq` is defined in Haskell, so when we derive on `Eq` we say that two instances of `Eq` are equal if they are not different and are different if they are not equal. \n",
    "\n",
    "Once we have done this, we can then use these defined properties of `Eq` and take advantage of it's parametric typing, to instance `Eq` on top of other Types."
   ]
  },
  {
   "cell_type": "code",
   "execution_count": 11,
   "metadata": {
    "ExecuteTime": {
     "end_time": "2019-02-26T15:34:47.643969Z",
     "start_time": "2019-02-26T15:34:47.530Z"
    }
   },
   "outputs": [
    {
     "data": {
      "text/html": [
       "<style>/* Styles used for the Hoogle display in the pager */\n",
       ".hoogle-doc {\n",
       "display: block;\n",
       "padding-bottom: 1.3em;\n",
       "padding-left: 0.4em;\n",
       "}\n",
       ".hoogle-code {\n",
       "display: block;\n",
       "font-family: monospace;\n",
       "white-space: pre;\n",
       "}\n",
       ".hoogle-text {\n",
       "display: block;\n",
       "}\n",
       ".hoogle-name {\n",
       "color: green;\n",
       "font-weight: bold;\n",
       "}\n",
       ".hoogle-head {\n",
       "font-weight: bold;\n",
       "}\n",
       ".hoogle-sub {\n",
       "display: block;\n",
       "margin-left: 0.4em;\n",
       "}\n",
       ".hoogle-package {\n",
       "font-weight: bold;\n",
       "font-style: italic;\n",
       "}\n",
       ".hoogle-module {\n",
       "font-weight: bold;\n",
       "}\n",
       ".hoogle-class {\n",
       "font-weight: bold;\n",
       "}\n",
       ".get-type {\n",
       "color: green;\n",
       "font-weight: bold;\n",
       "font-family: monospace;\n",
       "display: block;\n",
       "white-space: pre-wrap;\n",
       "}\n",
       ".show-type {\n",
       "color: green;\n",
       "font-weight: bold;\n",
       "font-family: monospace;\n",
       "margin-left: 1em;\n",
       "}\n",
       ".mono {\n",
       "font-family: monospace;\n",
       "display: block;\n",
       "}\n",
       ".err-msg {\n",
       "color: red;\n",
       "font-style: italic;\n",
       "font-family: monospace;\n",
       "white-space: pre;\n",
       "display: block;\n",
       "}\n",
       "#unshowable {\n",
       "color: red;\n",
       "font-weight: bold;\n",
       "}\n",
       ".err-msg.in.collapse {\n",
       "padding-top: 0.7em;\n",
       "}\n",
       ".highlight-code {\n",
       "white-space: pre;\n",
       "font-family: monospace;\n",
       "}\n",
       ".suggestion-warning { \n",
       "font-weight: bold;\n",
       "color: rgb(200, 130, 0);\n",
       "}\n",
       ".suggestion-error { \n",
       "font-weight: bold;\n",
       "color: red;\n",
       "}\n",
       ".suggestion-name {\n",
       "font-weight: bold;\n",
       "}\n",
       "</style><span class='err-msg'>&lt;interactive&gt;:1:1: error:<br/>    • No instance for (Eq TrafficLight) arising from a use of ‘==’<br/>      There are instances for similar types: instance [safe] Eq IHaskell158.TrafficLight -- Defined at &lt;interactive&gt;:1:10<br/>    • In the expression: Red == Red<br/>      In an equation for ‘it’: it = Red == Red</span>"
      ],
      "text/plain": [
       "<interactive>:1:1: error:\n",
       "    • No instance for (Eq TrafficLight) arising from a use of ‘==’\n",
       "      There are instances for similar types: instance [safe] Eq Ghci158.TrafficLight -- Defined at <interactive>:1:10\n",
       "    • In the expression: Red == Red\n",
       "      In an equation for ‘it’: it = Red == Red"
      ]
     },
     "metadata": {},
     "output_type": "display_data"
    }
   ],
   "source": [
    "-- what happens without deriving Eq on Trafficlight ?\n",
    "data TrafficLight = Red | Yellow | Green\n",
    "Red == Red"
   ]
  },
  {
   "cell_type": "code",
   "execution_count": 12,
   "metadata": {
    "ExecuteTime": {
     "end_time": "2019-02-26T15:34:48.259806Z",
     "start_time": "2019-02-26T15:34:48.037Z"
    }
   },
   "outputs": [
    {
     "data": {
      "text/plain": [
       "True"
      ]
     },
     "metadata": {},
     "output_type": "display_data"
    }
   ],
   "source": [
    "-- it should work now\n",
    "instance Eq TrafficLight where\n",
    "    Red == Red = True\n",
    "    Green == Green = True\n",
    "    Yellow == Yellow = True\n",
    "    _ == _ = False\n",
    "    \n",
    "Red == Red"
   ]
  },
  {
   "cell_type": "markdown",
   "metadata": {},
   "source": [
    "So, `class` if for creating new TypeClasses and `instance` is for making out types instances of created TypeClasses, provided the class definition is open to accepting the type we are instancing for.\n",
    "\n",
    "For `Eq` it's facilitated by the `Eq a where` clause, which makes it work with our `TrafficLight` type. The use of `instance Eq TrafficLight where` allows `Eq` to substitute `TrafficLight` for `a`.\n",
    "\n",
    "But that only deals with the type, what about the methods? To allow `Eq` to truly work with `TrafficLight` we also have to fulfill the method requirements, for 'Eq' it means we must either fully specify `==` and `/=` on our `TrafficLight` Type.\n",
    "\n",
    "```haskell\n",
    "(==) :: a -> a -> Bool  \n",
    "(/=) :: a -> a -> Bool\n",
    "x == y = not (x /= y)  \n",
    "x /= y = not (x == y)\n",
    "```\n",
    "But since `Eq` defines both `==` and `/=` in terms of each other, we can do fine with defining either `==` or `/=`"
   ]
  },
  {
   "cell_type": "code",
   "execution_count": 16,
   "metadata": {
    "ExecuteTime": {
     "end_time": "2019-02-26T15:47:28.720988Z",
     "start_time": "2019-02-26T15:47:28.498Z"
    }
   },
   "outputs": [
    {
     "data": {
      "text/plain": [
       "Red light"
      ]
     },
     "metadata": {},
     "output_type": "display_data"
    }
   ],
   "source": [
    "-- show only needs to know what the string representation would be\n",
    "instance Show TrafficLight where  \n",
    "    show Red = \"Red light\"  \n",
    "    show Yellow = \"Yellow light\"  \n",
    "    show Green = \"Green light\"\n",
    "Red"
   ]
  },
  {
   "cell_type": "markdown",
   "metadata": {
    "ExecuteTime": {
     "end_time": "2019-02-26T15:46:50.089231Z",
     "start_time": "2019-02-26T15:46:49.870Z"
    }
   },
   "source": [
    "We can also make type subclasses by enforcing proper constraints, such that type being passed on to the class is a concrete type.\n",
    "\n",
    "consider this:\n",
    "\n",
    "```haskell\n",
    "class (Eq a) => Num a where  \n",
    "...    \n",
    "```\n",
    "Here we are creating a class `Num` on the precondition that for any concrete subtype `Num` `a` to be a member of `Num` it must first be instanceable on `Eq`.\n",
    "\n",
    "For non-concrete types like `Maybe` we have to use `Maybe a` as by itself `Maybe` is a type constructor and not a type, but `Maybe a` on the other hand is a type, just like `Maybe Int` or `Maybe Char` is, and so it's something that can be instanced to a `class`.\n",
    "\n",
    "```haskell\n",
    "instance Eq (Maybe m) where  \n",
    "    Just x == Just y = x == y  \n",
    "    Nothing == Nothing = True  \n",
    "    _ == _ = False \n",
    "```\n",
    "\n",
    "The above code is syntactically correct, but still has one problem, we are using `==` on the contents of `Maybe` without knowing what it may contain and whether that contained value can be used with `Eq`.\n",
    "\n",
    "```haskell\n",
    "instance (Eq m) => Eq (Maybe m) where  \n",
    "    Just x == Just y = x == y  \n",
    "    Nothing == Nothing = True  \n",
    "    _ == _ = False\n",
    "```\n",
    "To solve this, we have to add a class constraint on the instance declaration, specifying that we want all types of the form `Maybe m` to be part of the `Eq` typeclass, but only those types where the `m` (so what's contained inside the Maybe) is also a part of `Eq`.\n",
    "\n",
    "> Most of the times, class constraints in class declarations are used for making a typeclass a subclass of another typeclass and class constraints in instance declarations are used to express requirements about the contents of some type. For instance, here we required the contents of the `Maybe` to also be part of the `Eq` typeclass.\n",
    "\n",
    "> When making instances, if you see that a type is used as a concrete type in the type declarations (like the `a` in `a -> a -> Bool`), you have to supply type parameters and add parentheses so that you end up with a concrete type.\n",
    "\n",
    "If we want to see what the instances of a certain typeclass are, we just have to do `:info` YourTypeClass in GHCI. So typing `:info Num` will show which functions the typeclass defines and it will give you a list of the types in the typeclass. `:info` works for types and type constructors too."
   ]
  },
  {
   "cell_type": "code",
   "execution_count": 17,
   "metadata": {
    "ExecuteTime": {
     "end_time": "2019-02-26T17:45:24.414802Z",
     "start_time": "2019-02-26T17:45:24.220Z"
    }
   },
   "outputs": [
    {
     "data": {},
     "metadata": {},
     "output_type": "display_data"
    }
   ],
   "source": [
    ":info TrafficLight"
   ]
  },
  {
   "cell_type": "markdown",
   "metadata": {},
   "source": [
    "Example: A Yes-No typeclass"
   ]
  },
  {
   "cell_type": "code",
   "execution_count": 18,
   "metadata": {
    "ExecuteTime": {
     "end_time": "2019-02-26T17:46:24.793306Z",
     "start_time": "2019-02-26T17:46:24.658Z"
    }
   },
   "outputs": [],
   "source": [
    "class YesNo a where  \n",
    "    yesno :: a -> Bool"
   ]
  },
  {
   "cell_type": "markdown",
   "metadata": {},
   "source": [
    "The `YesNo` typeclass defines one function. That function takes one value of a type that can be considered to hold some concept of true-ness and tells us for sure if it's true or not. Notice that from the way we use the `a` in the function, `a` has to be a concrete type."
   ]
  },
  {
   "cell_type": "code",
   "execution_count": 80,
   "metadata": {
    "ExecuteTime": {
     "end_time": "2019-02-26T18:03:19.374926Z",
     "start_time": "2019-02-26T18:03:19.260Z"
    }
   },
   "outputs": [],
   "source": [
    "-- for numbers\n",
    "instance YesNo Integer where  \n",
    "    yesno 0 = False  \n",
    "    yesno _ = True"
   ]
  },
  {
   "cell_type": "code",
   "execution_count": 57,
   "metadata": {
    "ExecuteTime": {
     "end_time": "2019-02-26T17:57:08.236964Z",
     "start_time": "2019-02-26T17:57:08.123Z"
    }
   },
   "outputs": [],
   "source": [
    "-- for lists and strings\n",
    "instance YesNo [a] where  \n",
    "    yesno [] = False  \n",
    "    yesno _ = True  "
   ]
  },
  {
   "cell_type": "code",
   "execution_count": 58,
   "metadata": {
    "ExecuteTime": {
     "end_time": "2019-02-26T17:57:08.586755Z",
     "start_time": "2019-02-26T17:57:08.473Z"
    }
   },
   "outputs": [],
   "source": [
    "-- booleans, id is a function that just returns whatever it takes in\n",
    "instance YesNo Bool where  \n",
    "    yesno = id "
   ]
  },
  {
   "cell_type": "code",
   "execution_count": 59,
   "metadata": {
    "ExecuteTime": {
     "end_time": "2019-02-26T17:57:08.925056Z",
     "start_time": "2019-02-26T17:57:08.811Z"
    }
   },
   "outputs": [],
   "source": [
    "-- on Maybe\n",
    "instance YesNo (Maybe a) where  \n",
    "    yesno (Just _) = True  \n",
    "    yesno Nothing = False "
   ]
  },
  {
   "cell_type": "code",
   "execution_count": 60,
   "metadata": {
    "ExecuteTime": {
     "end_time": "2019-02-26T17:57:09.292610Z",
     "start_time": "2019-02-26T17:57:09.177Z"
    }
   },
   "outputs": [],
   "source": [
    "-- on our previously defined class\n",
    "instance YesNo TrafficLight where  \n",
    "    yesno Red = False  \n",
    "    yesno _ = True "
   ]
  },
  {
   "cell_type": "code",
   "execution_count": 61,
   "metadata": {
    "ExecuteTime": {
     "end_time": "2019-02-26T17:57:09.926749Z",
     "start_time": "2019-02-26T17:57:09.603Z"
    }
   },
   "outputs": [
    {
     "data": {
      "text/plain": [
       "(False,True,True)"
      ]
     },
     "metadata": {},
     "output_type": "display_data"
    }
   ],
   "source": [
    "(yesno [], yesno [1,2,3], yesno \"whatever\")"
   ]
  },
  {
   "cell_type": "code",
   "execution_count": 86,
   "metadata": {
    "ExecuteTime": {
     "end_time": "2019-02-26T18:04:05.457773Z",
     "start_time": "2019-02-26T18:04:05.132Z"
    }
   },
   "outputs": [
    {
     "data": {
      "text/plain": [
       "True"
      ]
     },
     "metadata": {},
     "output_type": "display_data"
    }
   ],
   "source": [
    "yesno $ toInteger 99"
   ]
  },
  {
   "cell_type": "markdown",
   "metadata": {
    "ExecuteTime": {
     "end_time": "2019-02-26T18:05:04.180469Z",
     "start_time": "2019-02-26T18:05:04.176Z"
    }
   },
   "source": [
    "### `Functor` typeclass\n",
    "---\n",
    "* for things that can be mapped over, this is how it's implemented\n",
    "\n",
    "```haskell\n",
    "class Functor f where  \n",
    "    fmap :: (a -> b) -> f a -> f b  \n",
    "```\n",
    "* We see that it defines one function, fmap, and doesn't provide any default implementation for it.\n",
    "\n",
    "> The type of `fmap` is interesting. In the definitions of typeclasses so far, the type variable that played the role of the type in the typeclass was a **concrete type**, like the `a` in `(==) :: (Eq a) => a -> a -> Bool`. But now, the `f` is not a concrete type *(a type that a value can hold, like `Int`, `Bool` or `Maybe String`)*, but a type constructor that takes one type parameter. A quick refresher example: `Maybe Int` is a concrete type, but `Maybe` is a type constructor that takes one type as the parameter. Anyway, we see that `fmap` takes a `function` from one `type` to another and *a `functor` applied with one type* and returns a *`functor` applied with another type*.\n",
    "\n",
    "`map` is just a `fmap` that works only on lists. Here's how the list is an instance of the `Functor` typeclass.\n",
    "\n",
    "```haskell\n",
    "instance Functor [] where  \n",
    "    fmap = map\n",
    "```\n",
    "> Notice how we didn't write instance `Functor [a] where`, because from `fmap :: (a -> b) -> f a -> f b`, we see that the `f` has to be a `type constructor` that takes one type. `[a]` is already a concrete type (of a list with any type inside it), while `[]` is a type constructor that takes one type and can produce types such as `[Int]`, `[String]` or even `[[String]]`.\n",
    "\n",
    "> *Types that can act like a box can be `functors`*. You can think of a list as a box that has an infinite amount of little compartments and they can all be empty, one can be full and the others empty or a number of them can be full. So, what else has the properties of being like a box? For one, the `Maybe a` type. In a way, it's like a box that can either hold nothing, in which case it has the value of `Nothing`, or it can hold one item, like `\"HAHA\"`, in which case it has a value of `Just \"HAHA\"`.\"\n",
    "\n",
    "> Another thing that can be mapped over and made an instance of Functor is our `Tree a` type. It can be thought of as a box in a way (holds several or no values) and the `Tree` type constructor takes exactly one type parameter. If you look at `fmap` as if it were a function made only for `Tree`, its type signature would look like `(a -> b) -> Tree a -> Tree b`."
   ]
  },
  {
   "cell_type": "code",
   "execution_count": 1,
   "metadata": {
    "ExecuteTime": {
     "end_time": "2019-02-26T19:28:45.180976Z",
     "start_time": "2019-02-26T19:28:44.750Z"
    }
   },
   "outputs": [
    {
     "data": {
      "text/plain": [
       "[2,4,6]"
      ]
     },
     "metadata": {},
     "output_type": "display_data"
    }
   ],
   "source": [
    "fmap (*2) [1..3]"
   ]
  },
  {
   "cell_type": "markdown",
   "metadata": {
    "ExecuteTime": {
     "end_time": "2019-02-26T19:28:48.002168Z",
     "start_time": "2019-02-26T19:28:47.995Z"
    }
   },
   "source": [
    "### Kinds\n",
    "---\n",
    "\n",
    "> values like `3`, `\"YEAH\"` or `takeWhile` (functions are also values, because we can pass them around and such) each have their own type. `Types` are little labels that values carry so that we can reason about the values. But types have their own little labels, called `kind`s. A `kind` is more or less the type of a type. This may sound a bit weird and confusing, but it's actually a really cool concept.\n"
   ]
  },
  {
   "cell_type": "code",
   "execution_count": 1,
   "metadata": {
    "ExecuteTime": {
     "end_time": "2019-02-26T19:44:07.062775Z",
     "start_time": "2019-02-26T19:44:06.900Z"
    }
   },
   "outputs": [
    {
     "data": {
      "text/html": [
       "<style>/* Styles used for the Hoogle display in the pager */\n",
       ".hoogle-doc {\n",
       "display: block;\n",
       "padding-bottom: 1.3em;\n",
       "padding-left: 0.4em;\n",
       "}\n",
       ".hoogle-code {\n",
       "display: block;\n",
       "font-family: monospace;\n",
       "white-space: pre;\n",
       "}\n",
       ".hoogle-text {\n",
       "display: block;\n",
       "}\n",
       ".hoogle-name {\n",
       "color: green;\n",
       "font-weight: bold;\n",
       "}\n",
       ".hoogle-head {\n",
       "font-weight: bold;\n",
       "}\n",
       ".hoogle-sub {\n",
       "display: block;\n",
       "margin-left: 0.4em;\n",
       "}\n",
       ".hoogle-package {\n",
       "font-weight: bold;\n",
       "font-style: italic;\n",
       "}\n",
       ".hoogle-module {\n",
       "font-weight: bold;\n",
       "}\n",
       ".hoogle-class {\n",
       "font-weight: bold;\n",
       "}\n",
       ".get-type {\n",
       "color: green;\n",
       "font-weight: bold;\n",
       "font-family: monospace;\n",
       "display: block;\n",
       "white-space: pre-wrap;\n",
       "}\n",
       ".show-type {\n",
       "color: green;\n",
       "font-weight: bold;\n",
       "font-family: monospace;\n",
       "margin-left: 1em;\n",
       "}\n",
       ".mono {\n",
       "font-family: monospace;\n",
       "display: block;\n",
       "}\n",
       ".err-msg {\n",
       "color: red;\n",
       "font-style: italic;\n",
       "font-family: monospace;\n",
       "white-space: pre;\n",
       "display: block;\n",
       "}\n",
       "#unshowable {\n",
       "color: red;\n",
       "font-weight: bold;\n",
       "}\n",
       ".err-msg.in.collapse {\n",
       "padding-top: 0.7em;\n",
       "}\n",
       ".highlight-code {\n",
       "white-space: pre;\n",
       "font-family: monospace;\n",
       "}\n",
       ".suggestion-warning { \n",
       "font-weight: bold;\n",
       "color: rgb(200, 130, 0);\n",
       "}\n",
       ".suggestion-error { \n",
       "font-weight: bold;\n",
       "color: red;\n",
       "}\n",
       ".suggestion-name {\n",
       "font-weight: bold;\n",
       "}\n",
       "</style><span class='get-type'>Int :: *</span>"
      ],
      "text/plain": [
       "Int :: *"
      ]
     },
     "metadata": {},
     "output_type": "display_data"
    }
   ],
   "source": [
    ":k Int"
   ]
  },
  {
   "cell_type": "markdown",
   "metadata": {},
   "source": [
    "What does that mean? A `*` means that the type is a **concrete type**. A concrete type is a type that doesn't take any type parameters and values can only have types that are concrete types."
   ]
  },
  {
   "cell_type": "code",
   "execution_count": 2,
   "metadata": {
    "ExecuteTime": {
     "end_time": "2019-02-26T19:44:07.469815Z",
     "start_time": "2019-02-26T19:44:07.344Z"
    }
   },
   "outputs": [
    {
     "data": {
      "text/html": [
       "<style>/* Styles used for the Hoogle display in the pager */\n",
       ".hoogle-doc {\n",
       "display: block;\n",
       "padding-bottom: 1.3em;\n",
       "padding-left: 0.4em;\n",
       "}\n",
       ".hoogle-code {\n",
       "display: block;\n",
       "font-family: monospace;\n",
       "white-space: pre;\n",
       "}\n",
       ".hoogle-text {\n",
       "display: block;\n",
       "}\n",
       ".hoogle-name {\n",
       "color: green;\n",
       "font-weight: bold;\n",
       "}\n",
       ".hoogle-head {\n",
       "font-weight: bold;\n",
       "}\n",
       ".hoogle-sub {\n",
       "display: block;\n",
       "margin-left: 0.4em;\n",
       "}\n",
       ".hoogle-package {\n",
       "font-weight: bold;\n",
       "font-style: italic;\n",
       "}\n",
       ".hoogle-module {\n",
       "font-weight: bold;\n",
       "}\n",
       ".hoogle-class {\n",
       "font-weight: bold;\n",
       "}\n",
       ".get-type {\n",
       "color: green;\n",
       "font-weight: bold;\n",
       "font-family: monospace;\n",
       "display: block;\n",
       "white-space: pre-wrap;\n",
       "}\n",
       ".show-type {\n",
       "color: green;\n",
       "font-weight: bold;\n",
       "font-family: monospace;\n",
       "margin-left: 1em;\n",
       "}\n",
       ".mono {\n",
       "font-family: monospace;\n",
       "display: block;\n",
       "}\n",
       ".err-msg {\n",
       "color: red;\n",
       "font-style: italic;\n",
       "font-family: monospace;\n",
       "white-space: pre;\n",
       "display: block;\n",
       "}\n",
       "#unshowable {\n",
       "color: red;\n",
       "font-weight: bold;\n",
       "}\n",
       ".err-msg.in.collapse {\n",
       "padding-top: 0.7em;\n",
       "}\n",
       ".highlight-code {\n",
       "white-space: pre;\n",
       "font-family: monospace;\n",
       "}\n",
       ".suggestion-warning { \n",
       "font-weight: bold;\n",
       "color: rgb(200, 130, 0);\n",
       "}\n",
       ".suggestion-error { \n",
       "font-weight: bold;\n",
       "color: red;\n",
       "}\n",
       ".suggestion-name {\n",
       "font-weight: bold;\n",
       "}\n",
       "</style><span class='get-type'>Maybe :: * -> *</span>"
      ],
      "text/plain": [
       "Maybe :: * -> *"
      ]
     },
     "metadata": {},
     "output_type": "display_data"
    }
   ],
   "source": [
    ":k Maybe"
   ]
  },
  {
   "cell_type": "markdown",
   "metadata": {},
   "source": [
    "The `Maybe` type constructor takes one concrete type (like `Int`) and then returns a concrete type like `Maybe Int`. And that's what this kind tells us."
   ]
  },
  {
   "cell_type": "code",
   "execution_count": 3,
   "metadata": {
    "ExecuteTime": {
     "end_time": "2019-02-26T19:44:07.882656Z",
     "start_time": "2019-02-26T19:44:07.772Z"
    }
   },
   "outputs": [
    {
     "data": {
      "text/html": [
       "<style>/* Styles used for the Hoogle display in the pager */\n",
       ".hoogle-doc {\n",
       "display: block;\n",
       "padding-bottom: 1.3em;\n",
       "padding-left: 0.4em;\n",
       "}\n",
       ".hoogle-code {\n",
       "display: block;\n",
       "font-family: monospace;\n",
       "white-space: pre;\n",
       "}\n",
       ".hoogle-text {\n",
       "display: block;\n",
       "}\n",
       ".hoogle-name {\n",
       "color: green;\n",
       "font-weight: bold;\n",
       "}\n",
       ".hoogle-head {\n",
       "font-weight: bold;\n",
       "}\n",
       ".hoogle-sub {\n",
       "display: block;\n",
       "margin-left: 0.4em;\n",
       "}\n",
       ".hoogle-package {\n",
       "font-weight: bold;\n",
       "font-style: italic;\n",
       "}\n",
       ".hoogle-module {\n",
       "font-weight: bold;\n",
       "}\n",
       ".hoogle-class {\n",
       "font-weight: bold;\n",
       "}\n",
       ".get-type {\n",
       "color: green;\n",
       "font-weight: bold;\n",
       "font-family: monospace;\n",
       "display: block;\n",
       "white-space: pre-wrap;\n",
       "}\n",
       ".show-type {\n",
       "color: green;\n",
       "font-weight: bold;\n",
       "font-family: monospace;\n",
       "margin-left: 1em;\n",
       "}\n",
       ".mono {\n",
       "font-family: monospace;\n",
       "display: block;\n",
       "}\n",
       ".err-msg {\n",
       "color: red;\n",
       "font-style: italic;\n",
       "font-family: monospace;\n",
       "white-space: pre;\n",
       "display: block;\n",
       "}\n",
       "#unshowable {\n",
       "color: red;\n",
       "font-weight: bold;\n",
       "}\n",
       ".err-msg.in.collapse {\n",
       "padding-top: 0.7em;\n",
       "}\n",
       ".highlight-code {\n",
       "white-space: pre;\n",
       "font-family: monospace;\n",
       "}\n",
       ".suggestion-warning { \n",
       "font-weight: bold;\n",
       "color: rgb(200, 130, 0);\n",
       "}\n",
       ".suggestion-error { \n",
       "font-weight: bold;\n",
       "color: red;\n",
       "}\n",
       ".suggestion-name {\n",
       "font-weight: bold;\n",
       "}\n",
       "</style><span class='get-type'>Maybe Int :: *</span>"
      ],
      "text/plain": [
       "Maybe Int :: *"
      ]
     },
     "metadata": {},
     "output_type": "display_data"
    }
   ],
   "source": [
    ":k Maybe Int"
   ]
  },
  {
   "cell_type": "markdown",
   "metadata": {},
   "source": [
    "We applied the type parameter to `Maybe` and got back a concrete type"
   ]
  },
  {
   "cell_type": "code",
   "execution_count": 4,
   "metadata": {
    "ExecuteTime": {
     "end_time": "2019-02-26T19:44:08.359001Z",
     "start_time": "2019-02-26T19:44:08.247Z"
    }
   },
   "outputs": [
    {
     "data": {
      "text/html": [
       "<style>/* Styles used for the Hoogle display in the pager */\n",
       ".hoogle-doc {\n",
       "display: block;\n",
       "padding-bottom: 1.3em;\n",
       "padding-left: 0.4em;\n",
       "}\n",
       ".hoogle-code {\n",
       "display: block;\n",
       "font-family: monospace;\n",
       "white-space: pre;\n",
       "}\n",
       ".hoogle-text {\n",
       "display: block;\n",
       "}\n",
       ".hoogle-name {\n",
       "color: green;\n",
       "font-weight: bold;\n",
       "}\n",
       ".hoogle-head {\n",
       "font-weight: bold;\n",
       "}\n",
       ".hoogle-sub {\n",
       "display: block;\n",
       "margin-left: 0.4em;\n",
       "}\n",
       ".hoogle-package {\n",
       "font-weight: bold;\n",
       "font-style: italic;\n",
       "}\n",
       ".hoogle-module {\n",
       "font-weight: bold;\n",
       "}\n",
       ".hoogle-class {\n",
       "font-weight: bold;\n",
       "}\n",
       ".get-type {\n",
       "color: green;\n",
       "font-weight: bold;\n",
       "font-family: monospace;\n",
       "display: block;\n",
       "white-space: pre-wrap;\n",
       "}\n",
       ".show-type {\n",
       "color: green;\n",
       "font-weight: bold;\n",
       "font-family: monospace;\n",
       "margin-left: 1em;\n",
       "}\n",
       ".mono {\n",
       "font-family: monospace;\n",
       "display: block;\n",
       "}\n",
       ".err-msg {\n",
       "color: red;\n",
       "font-style: italic;\n",
       "font-family: monospace;\n",
       "white-space: pre;\n",
       "display: block;\n",
       "}\n",
       "#unshowable {\n",
       "color: red;\n",
       "font-weight: bold;\n",
       "}\n",
       ".err-msg.in.collapse {\n",
       "padding-top: 0.7em;\n",
       "}\n",
       ".highlight-code {\n",
       "white-space: pre;\n",
       "font-family: monospace;\n",
       "}\n",
       ".suggestion-warning { \n",
       "font-weight: bold;\n",
       "color: rgb(200, 130, 0);\n",
       "}\n",
       ".suggestion-error { \n",
       "font-weight: bold;\n",
       "color: red;\n",
       "}\n",
       ".suggestion-name {\n",
       "font-weight: bold;\n",
       "}\n",
       "</style><span class='get-type'>Either :: * -> * -> *</span>"
      ],
      "text/plain": [
       "Either :: * -> * -> *"
      ]
     },
     "metadata": {},
     "output_type": "display_data"
    }
   ],
   "source": [
    ":k Either"
   ]
  },
  {
   "cell_type": "markdown",
   "metadata": {},
   "source": [
    "this tells us that `Either` takes two concrete types as type parameters to produce a concrete type. It also looks kind of like a type declaration of a function that takes two values and returns something. Type constructors are curried (just like functions), so we can partially apply them."
   ]
  },
  {
   "cell_type": "code",
   "execution_count": 5,
   "metadata": {
    "ExecuteTime": {
     "end_time": "2019-02-26T19:44:09.400914Z",
     "start_time": "2019-02-26T19:44:09.212Z"
    }
   },
   "outputs": [],
   "source": [
    "class Tofu t where  \n",
    "    tofu :: j a -> t a j"
   ]
  },
  {
   "cell_type": "code",
   "execution_count": 6,
   "metadata": {
    "ExecuteTime": {
     "end_time": "2019-02-26T19:44:09.891809Z",
     "start_time": "2019-02-26T19:44:09.781Z"
    }
   },
   "outputs": [
    {
     "data": {
      "text/html": [
       "<style>/* Styles used for the Hoogle display in the pager */\n",
       ".hoogle-doc {\n",
       "display: block;\n",
       "padding-bottom: 1.3em;\n",
       "padding-left: 0.4em;\n",
       "}\n",
       ".hoogle-code {\n",
       "display: block;\n",
       "font-family: monospace;\n",
       "white-space: pre;\n",
       "}\n",
       ".hoogle-text {\n",
       "display: block;\n",
       "}\n",
       ".hoogle-name {\n",
       "color: green;\n",
       "font-weight: bold;\n",
       "}\n",
       ".hoogle-head {\n",
       "font-weight: bold;\n",
       "}\n",
       ".hoogle-sub {\n",
       "display: block;\n",
       "margin-left: 0.4em;\n",
       "}\n",
       ".hoogle-package {\n",
       "font-weight: bold;\n",
       "font-style: italic;\n",
       "}\n",
       ".hoogle-module {\n",
       "font-weight: bold;\n",
       "}\n",
       ".hoogle-class {\n",
       "font-weight: bold;\n",
       "}\n",
       ".get-type {\n",
       "color: green;\n",
       "font-weight: bold;\n",
       "font-family: monospace;\n",
       "display: block;\n",
       "white-space: pre-wrap;\n",
       "}\n",
       ".show-type {\n",
       "color: green;\n",
       "font-weight: bold;\n",
       "font-family: monospace;\n",
       "margin-left: 1em;\n",
       "}\n",
       ".mono {\n",
       "font-family: monospace;\n",
       "display: block;\n",
       "}\n",
       ".err-msg {\n",
       "color: red;\n",
       "font-style: italic;\n",
       "font-family: monospace;\n",
       "white-space: pre;\n",
       "display: block;\n",
       "}\n",
       "#unshowable {\n",
       "color: red;\n",
       "font-weight: bold;\n",
       "}\n",
       ".err-msg.in.collapse {\n",
       "padding-top: 0.7em;\n",
       "}\n",
       ".highlight-code {\n",
       "white-space: pre;\n",
       "font-family: monospace;\n",
       "}\n",
       ".suggestion-warning { \n",
       "font-weight: bold;\n",
       "color: rgb(200, 130, 0);\n",
       "}\n",
       ".suggestion-error { \n",
       "font-weight: bold;\n",
       "color: red;\n",
       "}\n",
       ".suggestion-name {\n",
       "font-weight: bold;\n",
       "}\n",
       "</style><span class='get-type'>Tofu :: (* -> (* -> *) -> *) -> Constraint</span>"
      ],
      "text/plain": [
       "Tofu :: (* -> (* -> *) -> *) -> Constraint"
      ]
     },
     "metadata": {},
     "output_type": "display_data"
    }
   ],
   "source": [
    ":k Tofu"
   ]
  },
  {
   "cell_type": "markdown",
   "metadata": {},
   "source": [
    "`j a` is used as the type of a value that the `tofu` function takes as its parameter, `j a` has to have a kind of `*`. We assume `*` for `a` and so we can infer that `` has to have a kind of `* -> *`. We see that `t` has to produce a concrete value too and that it takes two types. And knowing that `a` has a kind of `*` and `j` has a kind of `* -> *`, we infer that t has to have a kind of `* -> (* -> *) -> *`. So it takes a concrete type `(a)`, a type constructor that takes one concrete type `(j)` and produces a concrete type. Wow."
   ]
  },
  {
   "cell_type": "code",
   "execution_count": 7,
   "metadata": {
    "ExecuteTime": {
     "end_time": "2019-02-26T19:44:11.157595Z",
     "start_time": "2019-02-26T19:44:11.020Z"
    }
   },
   "outputs": [
    {
     "data": {
      "text/html": [
       "<style>/* Styles used for the Hoogle display in the pager */\n",
       ".hoogle-doc {\n",
       "display: block;\n",
       "padding-bottom: 1.3em;\n",
       "padding-left: 0.4em;\n",
       "}\n",
       ".hoogle-code {\n",
       "display: block;\n",
       "font-family: monospace;\n",
       "white-space: pre;\n",
       "}\n",
       ".hoogle-text {\n",
       "display: block;\n",
       "}\n",
       ".hoogle-name {\n",
       "color: green;\n",
       "font-weight: bold;\n",
       "}\n",
       ".hoogle-head {\n",
       "font-weight: bold;\n",
       "}\n",
       ".hoogle-sub {\n",
       "display: block;\n",
       "margin-left: 0.4em;\n",
       "}\n",
       ".hoogle-package {\n",
       "font-weight: bold;\n",
       "font-style: italic;\n",
       "}\n",
       ".hoogle-module {\n",
       "font-weight: bold;\n",
       "}\n",
       ".hoogle-class {\n",
       "font-weight: bold;\n",
       "}\n",
       ".get-type {\n",
       "color: green;\n",
       "font-weight: bold;\n",
       "font-family: monospace;\n",
       "display: block;\n",
       "white-space: pre-wrap;\n",
       "}\n",
       ".show-type {\n",
       "color: green;\n",
       "font-weight: bold;\n",
       "font-family: monospace;\n",
       "margin-left: 1em;\n",
       "}\n",
       ".mono {\n",
       "font-family: monospace;\n",
       "display: block;\n",
       "}\n",
       ".err-msg {\n",
       "color: red;\n",
       "font-style: italic;\n",
       "font-family: monospace;\n",
       "white-space: pre;\n",
       "display: block;\n",
       "}\n",
       "#unshowable {\n",
       "color: red;\n",
       "font-weight: bold;\n",
       "}\n",
       ".err-msg.in.collapse {\n",
       "padding-top: 0.7em;\n",
       "}\n",
       ".highlight-code {\n",
       "white-space: pre;\n",
       "font-family: monospace;\n",
       "}\n",
       ".suggestion-warning { \n",
       "font-weight: bold;\n",
       "color: rgb(200, 130, 0);\n",
       "}\n",
       ".suggestion-error { \n",
       "font-weight: bold;\n",
       "color: red;\n",
       "}\n",
       ".suggestion-name {\n",
       "font-weight: bold;\n",
       "}\n",
       "</style><div class=\"suggestion-name\" style=\"clear:both;\">Use newtype instead of data</div><div class=\"suggestion-row\" style=\"float: left;\"><div class=\"suggestion-warning\">Found:</div><div class=\"highlight-code\" id=\"haskell\">data Frank a b = Frank{frankField :: b a}\n",
       "                   deriving (Show)</div></div><div class=\"suggestion-row\" style=\"float: left;\"><div class=\"suggestion-warning\">Why Not:</div><div class=\"highlight-code\" id=\"haskell\">newtype Frank a b = Frank{frankField :: b a}\n",
       "                      deriving (Show)</div></div>"
      ],
      "text/plain": [
       "Line 1: Use newtype instead of data\n",
       "Found:\n",
       "data Frank a b = Frank{frankField :: b a}\n",
       "                   deriving (Show)\n",
       "Why not:\n",
       "newtype Frank a b = Frank{frankField :: b a}\n",
       "                      deriving (Show)"
      ]
     },
     "metadata": {},
     "output_type": "display_data"
    }
   ],
   "source": [
    "-- let's make a type with a kind of * -> (* -> *) -> *. Here's one way of going about it.\n",
    "data Frank a b  = Frank {frankField :: b a} deriving (Show)  "
   ]
  },
  {
   "cell_type": "markdown",
   "metadata": {},
   "source": [
    "How do we know this type has a kind of `* -> (* -> *) - > *`? Well, fields in ADTs are made to hold values, so they must be of kind `*`, obviously. We assume `*` for `a`, which means that `b` takes one type parameter and so its kind is `* -> *`. Now we know the kinds of both `a` and `b` and because they're parameters for `Frank`, we see that `Frank` has a kind of `* -> (* -> *) -> *` The first `*` represents `a` and the `(* -> *)` represents `b`. Let's make some Frank values and check out their types."
   ]
  },
  {
   "cell_type": "code",
   "execution_count": 8,
   "metadata": {
    "ExecuteTime": {
     "end_time": "2019-02-26T19:44:22.394006Z",
     "start_time": "2019-02-26T19:44:22.283Z"
    }
   },
   "outputs": [
    {
     "data": {
      "text/html": [
       "<style>/* Styles used for the Hoogle display in the pager */\n",
       ".hoogle-doc {\n",
       "display: block;\n",
       "padding-bottom: 1.3em;\n",
       "padding-left: 0.4em;\n",
       "}\n",
       ".hoogle-code {\n",
       "display: block;\n",
       "font-family: monospace;\n",
       "white-space: pre;\n",
       "}\n",
       ".hoogle-text {\n",
       "display: block;\n",
       "}\n",
       ".hoogle-name {\n",
       "color: green;\n",
       "font-weight: bold;\n",
       "}\n",
       ".hoogle-head {\n",
       "font-weight: bold;\n",
       "}\n",
       ".hoogle-sub {\n",
       "display: block;\n",
       "margin-left: 0.4em;\n",
       "}\n",
       ".hoogle-package {\n",
       "font-weight: bold;\n",
       "font-style: italic;\n",
       "}\n",
       ".hoogle-module {\n",
       "font-weight: bold;\n",
       "}\n",
       ".hoogle-class {\n",
       "font-weight: bold;\n",
       "}\n",
       ".get-type {\n",
       "color: green;\n",
       "font-weight: bold;\n",
       "font-family: monospace;\n",
       "display: block;\n",
       "white-space: pre-wrap;\n",
       "}\n",
       ".show-type {\n",
       "color: green;\n",
       "font-weight: bold;\n",
       "font-family: monospace;\n",
       "margin-left: 1em;\n",
       "}\n",
       ".mono {\n",
       "font-family: monospace;\n",
       "display: block;\n",
       "}\n",
       ".err-msg {\n",
       "color: red;\n",
       "font-style: italic;\n",
       "font-family: monospace;\n",
       "white-space: pre;\n",
       "display: block;\n",
       "}\n",
       "#unshowable {\n",
       "color: red;\n",
       "font-weight: bold;\n",
       "}\n",
       ".err-msg.in.collapse {\n",
       "padding-top: 0.7em;\n",
       "}\n",
       ".highlight-code {\n",
       "white-space: pre;\n",
       "font-family: monospace;\n",
       "}\n",
       ".suggestion-warning { \n",
       "font-weight: bold;\n",
       "color: rgb(200, 130, 0);\n",
       "}\n",
       ".suggestion-error { \n",
       "font-weight: bold;\n",
       "color: red;\n",
       "}\n",
       ".suggestion-name {\n",
       "font-weight: bold;\n",
       "}\n",
       "</style><span class='get-type'>Frank {frankField = Just \"HAHA\"} :: Frank [Char] Maybe</span>"
      ],
      "text/plain": [
       "Frank {frankField = Just \"HAHA\"} :: Frank [Char] Maybe"
      ]
     },
     "metadata": {},
     "output_type": "display_data"
    }
   ],
   "source": [
    ":t Frank {frankField = Just \"HAHA\"}"
   ]
  },
  {
   "cell_type": "code",
   "execution_count": 9,
   "metadata": {
    "ExecuteTime": {
     "end_time": "2019-02-26T19:45:10.286427Z",
     "start_time": "2019-02-26T19:45:10.176Z"
    }
   },
   "outputs": [
    {
     "data": {
      "text/html": [
       "<style>/* Styles used for the Hoogle display in the pager */\n",
       ".hoogle-doc {\n",
       "display: block;\n",
       "padding-bottom: 1.3em;\n",
       "padding-left: 0.4em;\n",
       "}\n",
       ".hoogle-code {\n",
       "display: block;\n",
       "font-family: monospace;\n",
       "white-space: pre;\n",
       "}\n",
       ".hoogle-text {\n",
       "display: block;\n",
       "}\n",
       ".hoogle-name {\n",
       "color: green;\n",
       "font-weight: bold;\n",
       "}\n",
       ".hoogle-head {\n",
       "font-weight: bold;\n",
       "}\n",
       ".hoogle-sub {\n",
       "display: block;\n",
       "margin-left: 0.4em;\n",
       "}\n",
       ".hoogle-package {\n",
       "font-weight: bold;\n",
       "font-style: italic;\n",
       "}\n",
       ".hoogle-module {\n",
       "font-weight: bold;\n",
       "}\n",
       ".hoogle-class {\n",
       "font-weight: bold;\n",
       "}\n",
       ".get-type {\n",
       "color: green;\n",
       "font-weight: bold;\n",
       "font-family: monospace;\n",
       "display: block;\n",
       "white-space: pre-wrap;\n",
       "}\n",
       ".show-type {\n",
       "color: green;\n",
       "font-weight: bold;\n",
       "font-family: monospace;\n",
       "margin-left: 1em;\n",
       "}\n",
       ".mono {\n",
       "font-family: monospace;\n",
       "display: block;\n",
       "}\n",
       ".err-msg {\n",
       "color: red;\n",
       "font-style: italic;\n",
       "font-family: monospace;\n",
       "white-space: pre;\n",
       "display: block;\n",
       "}\n",
       "#unshowable {\n",
       "color: red;\n",
       "font-weight: bold;\n",
       "}\n",
       ".err-msg.in.collapse {\n",
       "padding-top: 0.7em;\n",
       "}\n",
       ".highlight-code {\n",
       "white-space: pre;\n",
       "font-family: monospace;\n",
       "}\n",
       ".suggestion-warning { \n",
       "font-weight: bold;\n",
       "color: rgb(200, 130, 0);\n",
       "}\n",
       ".suggestion-error { \n",
       "font-weight: bold;\n",
       "color: red;\n",
       "}\n",
       ".suggestion-name {\n",
       "font-weight: bold;\n",
       "}\n",
       "</style><span class='get-type'>Frank {frankField = \"YES\"} :: Frank Char []</span>"
      ],
      "text/plain": [
       "Frank {frankField = \"YES\"} :: Frank Char []"
      ]
     },
     "metadata": {},
     "output_type": "display_data"
    }
   ],
   "source": [
    ":t Frank {frankField = \"YES\"} "
   ]
  },
  {
   "cell_type": "markdown",
   "metadata": {},
   "source": [
    "Making `Frank` an instance of `Tofu` is pretty simple. We see that `tofu` takes a `j a` (so an example type of that form would be `Maybe Int`) and returns a `t a j`. So if we replace `Frank` with `j`, the result type would be `Frank Int Maybe`."
   ]
  },
  {
   "cell_type": "code",
   "execution_count": 12,
   "metadata": {
    "ExecuteTime": {
     "end_time": "2019-02-26T19:47:02.070568Z",
     "start_time": "2019-02-26T19:47:01.955Z"
    }
   },
   "outputs": [
    {
     "data": {
      "text/html": [
       "<style>/* Styles used for the Hoogle display in the pager */\n",
       ".hoogle-doc {\n",
       "display: block;\n",
       "padding-bottom: 1.3em;\n",
       "padding-left: 0.4em;\n",
       "}\n",
       ".hoogle-code {\n",
       "display: block;\n",
       "font-family: monospace;\n",
       "white-space: pre;\n",
       "}\n",
       ".hoogle-text {\n",
       "display: block;\n",
       "}\n",
       ".hoogle-name {\n",
       "color: green;\n",
       "font-weight: bold;\n",
       "}\n",
       ".hoogle-head {\n",
       "font-weight: bold;\n",
       "}\n",
       ".hoogle-sub {\n",
       "display: block;\n",
       "margin-left: 0.4em;\n",
       "}\n",
       ".hoogle-package {\n",
       "font-weight: bold;\n",
       "font-style: italic;\n",
       "}\n",
       ".hoogle-module {\n",
       "font-weight: bold;\n",
       "}\n",
       ".hoogle-class {\n",
       "font-weight: bold;\n",
       "}\n",
       ".get-type {\n",
       "color: green;\n",
       "font-weight: bold;\n",
       "font-family: monospace;\n",
       "display: block;\n",
       "white-space: pre-wrap;\n",
       "}\n",
       ".show-type {\n",
       "color: green;\n",
       "font-weight: bold;\n",
       "font-family: monospace;\n",
       "margin-left: 1em;\n",
       "}\n",
       ".mono {\n",
       "font-family: monospace;\n",
       "display: block;\n",
       "}\n",
       ".err-msg {\n",
       "color: red;\n",
       "font-style: italic;\n",
       "font-family: monospace;\n",
       "white-space: pre;\n",
       "display: block;\n",
       "}\n",
       "#unshowable {\n",
       "color: red;\n",
       "font-weight: bold;\n",
       "}\n",
       ".err-msg.in.collapse {\n",
       "padding-top: 0.7em;\n",
       "}\n",
       ".highlight-code {\n",
       "white-space: pre;\n",
       "font-family: monospace;\n",
       "}\n",
       ".suggestion-warning { \n",
       "font-weight: bold;\n",
       "color: rgb(200, 130, 0);\n",
       "}\n",
       ".suggestion-error { \n",
       "font-weight: bold;\n",
       "color: red;\n",
       "}\n",
       ".suggestion-name {\n",
       "font-weight: bold;\n",
       "}\n",
       "</style><div class=\"suggestion-name\" style=\"clear:both;\">Eta reduce</div><div class=\"suggestion-row\" style=\"float: left;\"><div class=\"suggestion-warning\">Found:</div><div class=\"highlight-code\" id=\"haskell\">tofu x = Frank x</div></div><div class=\"suggestion-row\" style=\"float: left;\"><div class=\"suggestion-warning\">Why Not:</div><div class=\"highlight-code\" id=\"haskell\">tofu = Frank</div></div>"
      ],
      "text/plain": [
       "Line 2: Eta reduce\n",
       "Found:\n",
       "tofu x = Frank x\n",
       "Why not:\n",
       "tofu = Frank"
      ]
     },
     "metadata": {},
     "output_type": "display_data"
    }
   ],
   "source": [
    "instance Tofu Frank where  \n",
    "    tofu x = Frank x "
   ]
  },
  {
   "cell_type": "code",
   "execution_count": 13,
   "metadata": {
    "ExecuteTime": {
     "end_time": "2019-02-26T19:47:02.776379Z",
     "start_time": "2019-02-26T19:47:02.556Z"
    }
   },
   "outputs": [
    {
     "data": {
      "text/plain": [
       "Frank {frankField = Just 'a'}"
      ]
     },
     "metadata": {},
     "output_type": "display_data"
    }
   ],
   "source": [
    "tofu (Just 'a') :: Frank Char Maybe  "
   ]
  },
  {
   "cell_type": "markdown",
   "metadata": {},
   "source": [
    "Let's do some more type-foo. We have this data type"
   ]
  },
  {
   "cell_type": "code",
   "execution_count": 14,
   "metadata": {
    "ExecuteTime": {
     "end_time": "2019-02-26T19:48:18.222847Z",
     "start_time": "2019-02-26T19:48:18.110Z"
    }
   },
   "outputs": [],
   "source": [
    "data Barry t k p = Barry { yabba :: p, dabba :: t k }"
   ]
  },
  {
   "cell_type": "markdown",
   "metadata": {},
   "source": [
    "And now we want to make it an instance of `Functor`. `Functor` wants types of kind `* -> *` but `Barry` doesn't look like it has that kind. What is the kind of `Barry`? Well, we see it takes three type parameters, so it's going to be `something -> something -> something -> *`. It's safe to say that `p` is a concrete type and thus has a kind of `*`. For `k`, we assume `*` and so by extension, `t` has a kind of `* -> *`. Now let's just replace those kinds with the somethings that we used as placeholders and we see it has a kind of `(* -> *) -> * -> * -> *`."
   ]
  },
  {
   "cell_type": "code",
   "execution_count": 16,
   "metadata": {
    "ExecuteTime": {
     "end_time": "2019-02-26T19:48:39.670570Z",
     "start_time": "2019-02-26T19:48:39.559Z"
    }
   },
   "outputs": [
    {
     "data": {
      "text/html": [
       "<style>/* Styles used for the Hoogle display in the pager */\n",
       ".hoogle-doc {\n",
       "display: block;\n",
       "padding-bottom: 1.3em;\n",
       "padding-left: 0.4em;\n",
       "}\n",
       ".hoogle-code {\n",
       "display: block;\n",
       "font-family: monospace;\n",
       "white-space: pre;\n",
       "}\n",
       ".hoogle-text {\n",
       "display: block;\n",
       "}\n",
       ".hoogle-name {\n",
       "color: green;\n",
       "font-weight: bold;\n",
       "}\n",
       ".hoogle-head {\n",
       "font-weight: bold;\n",
       "}\n",
       ".hoogle-sub {\n",
       "display: block;\n",
       "margin-left: 0.4em;\n",
       "}\n",
       ".hoogle-package {\n",
       "font-weight: bold;\n",
       "font-style: italic;\n",
       "}\n",
       ".hoogle-module {\n",
       "font-weight: bold;\n",
       "}\n",
       ".hoogle-class {\n",
       "font-weight: bold;\n",
       "}\n",
       ".get-type {\n",
       "color: green;\n",
       "font-weight: bold;\n",
       "font-family: monospace;\n",
       "display: block;\n",
       "white-space: pre-wrap;\n",
       "}\n",
       ".show-type {\n",
       "color: green;\n",
       "font-weight: bold;\n",
       "font-family: monospace;\n",
       "margin-left: 1em;\n",
       "}\n",
       ".mono {\n",
       "font-family: monospace;\n",
       "display: block;\n",
       "}\n",
       ".err-msg {\n",
       "color: red;\n",
       "font-style: italic;\n",
       "font-family: monospace;\n",
       "white-space: pre;\n",
       "display: block;\n",
       "}\n",
       "#unshowable {\n",
       "color: red;\n",
       "font-weight: bold;\n",
       "}\n",
       ".err-msg.in.collapse {\n",
       "padding-top: 0.7em;\n",
       "}\n",
       ".highlight-code {\n",
       "white-space: pre;\n",
       "font-family: monospace;\n",
       "}\n",
       ".suggestion-warning { \n",
       "font-weight: bold;\n",
       "color: rgb(200, 130, 0);\n",
       "}\n",
       ".suggestion-error { \n",
       "font-weight: bold;\n",
       "color: red;\n",
       "}\n",
       ".suggestion-name {\n",
       "font-weight: bold;\n",
       "}\n",
       "</style><span class='get-type'>Barry :: (* -> *) -> * -> * -> *</span>"
      ],
      "text/plain": [
       "Barry :: (* -> *) -> * -> * -> *"
      ]
     },
     "metadata": {},
     "output_type": "display_data"
    }
   ],
   "source": [
    ":k Barry"
   ]
  },
  {
   "cell_type": "markdown",
   "metadata": {},
   "source": [
    "Now, to make this type a part of `Functor` we have to partially apply the first two type parameters so that we're left with `* -> *`. That means that the start of the instance declaration will be: `instance Functor (Barry a b) where`. If we look at `fmap` as if it was made specifically for `Barry`, it would have a type of `fmap :: (a -> b) -> Barry c d a -> Barry c d b`, because we just replace the Functor's `f` with `Barry c d`. The third type parameter from `Barry` will have to change and we see that it's conviniently in its own field."
   ]
  },
  {
   "cell_type": "code",
   "execution_count": 19,
   "metadata": {
    "ExecuteTime": {
     "end_time": "2019-02-26T19:50:26.100223Z",
     "start_time": "2019-02-26T19:50:25.986Z"
    }
   },
   "outputs": [],
   "source": [
    "instance Functor (Barry a b) where  \n",
    "    fmap f Barry {yabba = x, dabba = y} = Barry {yabba = f x, dabba = y}  "
   ]
  },
  {
   "cell_type": "code",
   "execution_count": null,
   "metadata": {},
   "outputs": [],
   "source": []
  }
 ],
 "metadata": {
  "kernelspec": {
   "display_name": "Haskell",
   "language": "haskell",
   "name": "haskell"
  },
  "language_info": {
   "codemirror_mode": "ihaskell",
   "file_extension": ".hs",
   "name": "haskell",
   "pygments_lexer": "Haskell",
   "version": "8.6.3"
  },
  "nbTranslate": {
   "displayLangs": [
    "*"
   ],
   "hotkey": "alt-t",
   "langInMainMenu": true,
   "sourceLang": "en",
   "targetLang": "fr",
   "useGoogleTranslate": true
  },
  "toc": {
   "base_numbering": 1,
   "nav_menu": {},
   "number_sections": true,
   "sideBar": true,
   "skip_h1_title": true,
   "title_cell": "Table of Contents",
   "title_sidebar": "Contents",
   "toc_cell": true,
   "toc_position": {},
   "toc_section_display": true,
   "toc_window_display": false
  }
 },
 "nbformat": 4,
 "nbformat_minor": 2
}
