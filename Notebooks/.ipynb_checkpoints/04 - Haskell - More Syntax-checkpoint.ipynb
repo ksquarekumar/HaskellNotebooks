{
 "cells": [
  {
   "cell_type": "markdown",
   "metadata": {
    "ExecuteTime": {
     "end_time": "2019-02-25T07:46:37.724377Z",
     "start_time": "2019-02-25T07:46:37.458Z"
    }
   },
   "source": [
    "# Haskell - More Syntax"
   ]
  },
  {
   "cell_type": "markdown",
   "metadata": {
    "toc": true
   },
   "source": [
    "<h1>Table of Contents<span class=\"tocSkip\"></span></h1>\n",
    "<div class=\"toc\"><ul class=\"toc-item\"><li><span><a href=\"#A-bit-of-flashback\" data-toc-modified-id=\"A-bit-of-flashback-1\"><span class=\"toc-item-num\">1&nbsp;&nbsp;</span>A bit of flashback</a></span></li><li><span><a href=\"#Pattern-Matching\" data-toc-modified-id=\"Pattern-Matching-2\"><span class=\"toc-item-num\">2&nbsp;&nbsp;</span>Pattern Matching</a></span><ul class=\"toc-item\"><li><span><a href=\"#More-Pattern-Matching\" data-toc-modified-id=\"More-Pattern-Matching-2.1\"><span class=\"toc-item-num\">2.1&nbsp;&nbsp;</span>More Pattern Matching</a></span></li><li><span><a href=\"#Wildcard-in-Pattern-Matching\" data-toc-modified-id=\"Wildcard-in-Pattern-Matching-2.2\"><span class=\"toc-item-num\">2.2&nbsp;&nbsp;</span>Wildcard in Pattern Matching</a></span></li><li><span><a href=\"#Error-Handling\" data-toc-modified-id=\"Error-Handling-2.3\"><span class=\"toc-item-num\">2.3&nbsp;&nbsp;</span>Error Handling</a></span></li></ul></li><li><span><a href=\"#Guards\" data-toc-modified-id=\"Guards-3\"><span class=\"toc-item-num\">3&nbsp;&nbsp;</span>Guards</a></span><ul class=\"toc-item\"><li><span><a href=\"#where!?\" data-toc-modified-id=\"where!?-3.1\"><span class=\"toc-item-num\">3.1&nbsp;&nbsp;</span>where!?</a></span></li><li><span><a href=\"#let!?\" data-toc-modified-id=\"let!?-3.2\"><span class=\"toc-item-num\">3.2&nbsp;&nbsp;</span>let!?</a></span></li><li><span><a href=\"#case!?\" data-toc-modified-id=\"case!?-3.3\"><span class=\"toc-item-num\">3.3&nbsp;&nbsp;</span>case!?</a></span></li></ul></li><li><span><a href=\"#Variables\" data-toc-modified-id=\"Variables-4\"><span class=\"toc-item-num\">4&nbsp;&nbsp;</span>Variables</a></span></li><li><span><a href=\"#Whitespace\" data-toc-modified-id=\"Whitespace-5\"><span class=\"toc-item-num\">5&nbsp;&nbsp;</span>Whitespace</a></span></li></ul></div>"
   ]
  },
  {
   "cell_type": "markdown",
   "metadata": {},
   "source": [
    "## A bit of flashback\n",
    "---\n",
    "\n",
    "Everything in Haskell has a Type.\n",
    "```haskell\n",
    "head :: [a] -> a -- gets the first element of a list\n",
    "\n",
    "tail :: [a] -> [a] -- gets everything but the first element\n",
    "\n",
    "last :: [a] -> a -- gets the last element of a list\n",
    "\n",
    "init :: [a] -> [a] -- gets everything but the last element\n",
    "\n",
    "(++) :: [a] -> [a] -> [a] -- concatenates two lists together\n",
    "\n",
    "(:) :: a -> [a] -> [a] -- prepends an element to a list\n",
    "\n",
    "fst  :: (a,b) -> a -- gets the first element of a tuple\n",
    "\n",
    "snd  :: (a,b) -> b -- gets the second element of a tuple\n",
    "```"
   ]
  },
  {
   "cell_type": "markdown",
   "metadata": {},
   "source": [
    "## Pattern Matching\n",
    "---\n",
    "\n",
    "Just like overloading methods in other languages, we have Pattern Matching in Haskell\n",
    "\n",
    "```haskell\n",
    "guess :: Int -> [Char]\n",
    "guess 42 = \"correct!\"\n",
    "guess x  = \"wrong guess!\"\n",
    "```\n",
    "Some Rules regarding pattern matching in Haskell\n",
    "* Patterns are matched top-down.\n",
    "* All Patterns must have the same Type Declaration\n",
    "* Patterns **must exhaust the entire domain !** \n",
    "    * So when making patterns, we should always include a catch-all pattern so that our program doesn't crash if we get some unexpected input. \n",
    "\n",
    "```haskell\n",
    "-- an example of a violation\n",
    "-- rules for this function are written in bottoms-up manner, \n",
    "-- the last two patterns will never get evaluated\n",
    "fib :: Int -> Int\n",
    "fib n = fib(n-1) + fib(n-2)\n",
    "fib 0 = 1\n",
    "fib 1 = 1\n",
    "```"
   ]
  },
  {
   "cell_type": "markdown",
   "metadata": {
    "ExecuteTime": {
     "end_time": "2019-02-25T07:56:17.649093Z",
     "start_time": "2019-02-25T07:56:17.644Z"
    }
   },
   "source": [
    "### More Pattern Matching\n",
    "---\n",
    "\n",
    "You can even match lists using Construct\n",
    "\n",
    "```haskell\n",
    "head (firstItem : everythingElse) = firstItem\n",
    "tail (x:xs) = xs   \n",
    "```"
   ]
  },
  {
   "cell_type": "markdown",
   "metadata": {},
   "source": [
    "A palindrome function.."
   ]
  },
  {
   "cell_type": "code",
   "execution_count": 1,
   "metadata": {
    "ExecuteTime": {
     "end_time": "2019-02-25T19:10:36.064602Z",
     "start_time": "2019-02-25T19:10:35.638Z"
    }
   },
   "outputs": [
    {
     "data": {
      "text/plain": [
       "True"
      ]
     },
     "metadata": {},
     "output_type": "display_data"
    }
   ],
   "source": [
    "isPal :: Eq a => [a] -> Bool\n",
    "\n",
    "isPal [] = True\n",
    "isPal ls = all (==True) [ls == reverse ls]\n",
    "\n",
    "isPal [1,2,2,1]"
   ]
  },
  {
   "cell_type": "markdown",
   "metadata": {},
   "source": [
    "### Wildcard in Pattern Matching\n",
    "---\n",
    "* We can specify when a value is unused.\n",
    "    * Using a wildcard is optional. Use it for readability.\n",
    "* The \"_\" symbol is called a wildcard in Haskell.\n",
    "* This is how it's used:\n",
    "\n",
    "```haskell\n",
    "head (x:_)  = x\n",
    "tail (_:xs) = xs\n",
    "```"
   ]
  },
  {
   "cell_type": "markdown",
   "metadata": {
    "ExecuteTime": {
     "end_time": "2019-02-25T08:13:48.096665Z",
     "start_time": "2019-02-25T08:13:47.975Z"
    }
   },
   "source": [
    "rewriting `fst` with Pattern Matching"
   ]
  },
  {
   "cell_type": "code",
   "execution_count": 2,
   "metadata": {
    "ExecuteTime": {
     "end_time": "2019-02-25T19:10:40.929041Z",
     "start_time": "2019-02-25T19:10:40.704Z"
    }
   },
   "outputs": [
    {
     "data": {
      "text/plain": [
       "2"
      ]
     },
     "metadata": {},
     "output_type": "display_data"
    }
   ],
   "source": [
    "fst :: (a,b) -> a\n",
    "fst (x,y) = x\n",
    "fst (2, 3)"
   ]
  },
  {
   "cell_type": "markdown",
   "metadata": {},
   "source": [
    "We have `fst` and `snd` for tuple pairs, but what about triplets ?\n",
    " * We can use wildcards with pattern matching to make our own."
   ]
  },
  {
   "cell_type": "code",
   "execution_count": 4,
   "metadata": {
    "ExecuteTime": {
     "end_time": "2019-02-25T19:11:47.540005Z",
     "start_time": "2019-02-25T19:11:47.427Z"
    }
   },
   "outputs": [],
   "source": [
    "first :: (a, b, c) -> a  \n",
    "first (x, _, _) = x  \n",
    "      \n",
    "second :: (a, b, c) -> b  \n",
    "second (_, y, _) = y  \n",
    "      \n",
    "third :: (a, b, c) -> c  \n",
    "third (_, _, z) = z  "
   ]
  },
  {
   "cell_type": "markdown",
   "metadata": {},
   "source": [
    "Try defining `head` with pattern matching"
   ]
  },
  {
   "cell_type": "code",
   "execution_count": 3,
   "metadata": {
    "ExecuteTime": {
     "end_time": "2019-02-25T19:10:42.007215Z",
     "start_time": "2019-02-25T19:10:41.892Z"
    }
   },
   "outputs": [
    {
     "data": {
      "text/html": [
       "<style>/* Styles used for the Hoogle display in the pager */\n",
       ".hoogle-doc {\n",
       "display: block;\n",
       "padding-bottom: 1.3em;\n",
       "padding-left: 0.4em;\n",
       "}\n",
       ".hoogle-code {\n",
       "display: block;\n",
       "font-family: monospace;\n",
       "white-space: pre;\n",
       "}\n",
       ".hoogle-text {\n",
       "display: block;\n",
       "}\n",
       ".hoogle-name {\n",
       "color: green;\n",
       "font-weight: bold;\n",
       "}\n",
       ".hoogle-head {\n",
       "font-weight: bold;\n",
       "}\n",
       ".hoogle-sub {\n",
       "display: block;\n",
       "margin-left: 0.4em;\n",
       "}\n",
       ".hoogle-package {\n",
       "font-weight: bold;\n",
       "font-style: italic;\n",
       "}\n",
       ".hoogle-module {\n",
       "font-weight: bold;\n",
       "}\n",
       ".hoogle-class {\n",
       "font-weight: bold;\n",
       "}\n",
       ".get-type {\n",
       "color: green;\n",
       "font-weight: bold;\n",
       "font-family: monospace;\n",
       "display: block;\n",
       "white-space: pre-wrap;\n",
       "}\n",
       ".show-type {\n",
       "color: green;\n",
       "font-weight: bold;\n",
       "font-family: monospace;\n",
       "margin-left: 1em;\n",
       "}\n",
       ".mono {\n",
       "font-family: monospace;\n",
       "display: block;\n",
       "}\n",
       ".err-msg {\n",
       "color: red;\n",
       "font-style: italic;\n",
       "font-family: monospace;\n",
       "white-space: pre;\n",
       "display: block;\n",
       "}\n",
       "#unshowable {\n",
       "color: red;\n",
       "font-weight: bold;\n",
       "}\n",
       ".err-msg.in.collapse {\n",
       "padding-top: 0.7em;\n",
       "}\n",
       ".highlight-code {\n",
       "white-space: pre;\n",
       "font-family: monospace;\n",
       "}\n",
       ".suggestion-warning { \n",
       "font-weight: bold;\n",
       "color: rgb(200, 130, 0);\n",
       "}\n",
       ".suggestion-error { \n",
       "font-weight: bold;\n",
       "color: red;\n",
       "}\n",
       ".suggestion-name {\n",
       "font-weight: bold;\n",
       "}\n",
       "</style><span class='err-msg'>empty list!<br/>CallStack (from HasCallStack):<br/>  error, called at &lt;interactive&gt;:4:13 in interactive:IHaskell52</span>"
      ],
      "text/plain": [
       "empty list!\n",
       "CallStack (from HasCallStack):\n",
       "  error, called at <interactive>:4:13 in interactive:Ghci52"
      ]
     },
     "metadata": {},
     "output_type": "display_data"
    }
   ],
   "source": [
    "myhead :: [a] -> a\n",
    "myhead (x:xs) = x\n",
    "myhead [x] = x\n",
    "myhead [] = error \"empty list!\"\n",
    "\n",
    "myhead []"
   ]
  },
  {
   "cell_type": "markdown",
   "metadata": {},
   "source": [
    "The x:xs pattern is used a lot, especially with recursive functions. But patterns that have : in them only match against lists of length 1 or more."
   ]
  },
  {
   "cell_type": "markdown",
   "metadata": {},
   "source": [
    "### Error Handling\n",
    "---\n",
    "When GHCi is angry, it produces error messages through the error function.\n",
    "\n",
    "```haskell\n",
    "error :: [Char] -> a\n",
    "```\n",
    "\n",
    "the official implementation of `head`\n",
    "```haskell\n",
    "head             :: [a] -> a\n",
    "head (x:_)       =  x\n",
    "head []          =  error \"Prelude.head: empty list\"\n",
    "```"
   ]
  },
  {
   "cell_type": "markdown",
   "metadata": {},
   "source": [
    "## Guards\n",
    "---\n",
    "Guards are just pretty if-statements.\n",
    "* Guards are clean `if` statements.\n",
    "* Just like with pattern matching, order matters.\n",
    "* A guard is introduced by the `|` symbol.\n",
    "* And it's followed by a `Bool` expression.\n",
    "* Then followed by the function body\n",
    "\n",
    "```haskell\n",
    "guessMyNumber x\n",
    "            | x > 27    = \"Too high!\"\n",
    "            | x < 27    = \"Too low!\"\n",
    "            | otherwise = \"Correct!\"\n",
    "```\n",
    "\n",
    "Anything done with pattern matching can be done with guards.\n",
    "\n",
    "```haskell\n",
    "head' :: [a] -> a\n",
    "head' xs\n",
    "    | null xs   = error \"list is empty\"\n",
    "    | otherwise = xs !! 0\n",
    "```\n",
    "\n",
    "`!!` is used to retrieve elements by index"
   ]
  },
  {
   "cell_type": "markdown",
   "metadata": {},
   "source": [
    "### where!?\n",
    "---\n",
    "* Where bindings are a syntactic construct that let you bind to variables at the end of a function and the whole function can see them, including all the guards."
   ]
  },
  {
   "cell_type": "code",
   "execution_count": 6,
   "metadata": {
    "ExecuteTime": {
     "end_time": "2019-02-25T19:16:44.555627Z",
     "start_time": "2019-02-25T19:16:44.330Z"
    }
   },
   "outputs": [
    {
     "data": {
      "text/plain": [
       "\"You're underweight, you emo, you!\""
      ]
     },
     "metadata": {},
     "output_type": "display_data"
    }
   ],
   "source": [
    "-- notice the calculation being repeated across expressions, that's not a good thing.\n",
    "badbmiTell :: (RealFloat a) => a -> a -> String  \n",
    "badbmiTell weight height  \n",
    "    | weight / height ^ 2 <= 18.5 = \"You're underweight, you emo, you!\"  \n",
    "    | weight / height ^ 2 <= 25.0 = \"You're supposedly normal. Pffft, I bet you're ugly!\"  \n",
    "    | weight / height ^ 2 <= 30.0 = \"You're fat! Lose some weight, fatty!\"  \n",
    "    | otherwise                   = \"You're a whale, congratulations!\"\n",
    "    \n",
    "badbmiTell 99 30.0"
   ]
  },
  {
   "cell_type": "code",
   "execution_count": 7,
   "metadata": {
    "ExecuteTime": {
     "end_time": "2019-02-25T19:17:13.244009Z",
     "start_time": "2019-02-25T19:17:13.018Z"
    }
   },
   "outputs": [
    {
     "data": {
      "text/plain": [
       "\"You're underweight, you emo, you!\""
      ]
     },
     "metadata": {},
     "output_type": "display_data"
    }
   ],
   "source": [
    "-- this is better\n",
    "betterbmiTell :: (RealFloat a) => a -> a -> String  \n",
    "betterbmiTell weight height  \n",
    "    | bmi <= 18.5 = \"You're underweight, you emo, you!\"  \n",
    "    | bmi <= 25.0 = \"You're supposedly normal. Pffft, I bet you're ugly!\"  \n",
    "    | bmi <= 30.0 = \"You're fat! Lose some weight, fatty!\"  \n",
    "    | otherwise   = \"You're a whale, congratulations!\"  \n",
    "    where bmi = weight / height ^ 2 \n",
    "betterbmiTell 99 30.0"
   ]
  },
  {
   "cell_type": "markdown",
   "metadata": {},
   "source": [
    "We put the keyword `where` after the guards (usually it's best to indent it as much as the pipes are indented) and then we define several names or functions. These names are visible across the guards and give us the advantage of not having to repeat ourselves. If we decide that we want to calculate `BMI` a bit differently, we only have to change it once. It also improves readability by giving names to things and can make our programs faster since stuff like our `bmi` variable here is calculated only once.\n",
    "\n",
    "The names we define in the `where` section of a function are only visible to that function, so we don't have to worry about them polluting the namespace of other functions. *Notice that all the names are **aligned at a single column**. If we don't align them nice and proper, Haskell gets confused because then it doesn't know they're all part of the same block.*"
   ]
  },
  {
   "cell_type": "code",
   "execution_count": 14,
   "metadata": {
    "ExecuteTime": {
     "end_time": "2019-02-25T19:22:24.466167Z",
     "start_time": "2019-02-25T19:22:24.241Z"
    }
   },
   "outputs": [
    {
     "data": {
      "text/plain": [
       "\"You're underweight, you emo, you!\""
      ]
     },
     "metadata": {},
     "output_type": "display_data"
    }
   ],
   "source": [
    "goodbmiTell :: (RealFloat a) => a -> a -> String  \n",
    "goodbmiTell weight height  \n",
    "    | bmi <= skinny = \"You're underweight, you emo, you!\"  \n",
    "    | bmi <= normal = \"You're supposedly normal. Pffft, I bet you're ugly!\"  \n",
    "    | bmi <= fat    = \"You're fat! Lose some weight, fatty!\"  \n",
    "    | otherwise     = \"You're a whale, congratulations!\"  \n",
    "    where bmi = weight / height ^ 2\n",
    "          skinny = 18.5  \n",
    "          normal = 25.0  \n",
    "          fat = 30.0\n",
    "          \n",
    "goodbmiTell 99 30.0"
   ]
  },
  {
   "cell_type": "code",
   "execution_count": 16,
   "metadata": {
    "ExecuteTime": {
     "end_time": "2019-02-25T19:22:58.699620Z",
     "start_time": "2019-02-25T19:22:58.470Z"
    }
   },
   "outputs": [
    {
     "data": {
      "text/plain": [
       "\"You're underweight, you emo, you!\""
      ]
     },
     "metadata": {},
     "output_type": "display_data"
    }
   ],
   "source": [
    "-- You can also use where bindings to pattern match! \n",
    "bestbmiTell :: (RealFloat a) => a -> a -> String  \n",
    "bestbmiTell weight height  \n",
    "    | bmi <= skinny = \"You're underweight, you emo, you!\"  \n",
    "    | bmi <= normal = \"You're supposedly normal. Pffft, I bet you're ugly!\"  \n",
    "    | bmi <= fat    = \"You're fat! Lose some weight, fatty!\"  \n",
    "    | otherwise     = \"You're a whale, congratulations!\"  \n",
    "    where bmi = weight / height ^ 2\n",
    "          (skinny, normal, fat) = (18.5, 25.0, 30.0) \n",
    "          \n",
    "bestbmiTell 99 30.0"
   ]
  },
  {
   "cell_type": "markdown",
   "metadata": {},
   "source": [
    "### let!?\n",
    "---\n",
    "* Like `where`, `Let` bindings let you bind to variables anywhere but are also expressions in and of themselves, while being very local, so they don't span across guards.\n",
    "* The form is let `<bindings> in <expression>`. The names that you define in the `let` part are accessible to the expression **after** the `in` part."
   ]
  },
  {
   "cell_type": "code",
   "execution_count": 17,
   "metadata": {
    "ExecuteTime": {
     "end_time": "2019-02-25T19:26:16.215845Z",
     "start_time": "2019-02-25T19:26:15.990Z"
    }
   },
   "outputs": [
    {
     "data": {
      "text/plain": [
       "42"
      ]
     },
     "metadata": {},
     "output_type": "display_data"
    }
   ],
   "source": [
    "4 * (let a = 9 in a + 1) + 2"
   ]
  },
  {
   "cell_type": "code",
   "execution_count": 20,
   "metadata": {
    "ExecuteTime": {
     "end_time": "2019-02-25T19:27:00.053787Z",
     "start_time": "2019-02-25T19:26:59.807Z"
    }
   },
   "outputs": [
    {
     "data": {
      "text/plain": [
       "[(25,9,4)]"
      ]
     },
     "metadata": {},
     "output_type": "display_data"
    }
   ],
   "source": [
    "-- useful for adding functions that are meant to exist in local scopes only\n",
    "[let square x = x * x in (square 5, square 3, square 2)]"
   ]
  },
  {
   "cell_type": "markdown",
   "metadata": {},
   "source": [
    "The names defined in a let inside a list comprehension are visible to the output function (the part before the |) and all predicates and sections that come after of the binding. So we could make our function return only the BMIs of fat people"
   ]
  },
  {
   "cell_type": "code",
   "execution_count": 35,
   "metadata": {
    "ExecuteTime": {
     "end_time": "2019-02-25T19:31:31.657234Z",
     "start_time": "2019-02-25T19:31:31.428Z"
    }
   },
   "outputs": [
    {
     "data": {
      "text/plain": [
       "[49.0]"
      ]
     },
     "metadata": {},
     "output_type": "display_data"
    }
   ],
   "source": [
    "calcBmis :: (RealFloat a) => [(a, a)] -> [a]  \n",
    "calcBmis xs = [bmi | (w, h) <- xs, let bmi = w / h ^ 2, bmi >= 25.0]  \n",
    "\n",
    "calcBmis [(24, 1), (49, 2), (49, 1)]"
   ]
  },
  {
   "cell_type": "markdown",
   "metadata": {},
   "source": [
    "### case!?\n",
    "---\n",
    "* `case` expressions are, well, expressions, much like if else expressions and let bindings. Not only can we evaluate expressions based on the possible cases of the value of a variable, we can also do pattern matching.\n",
    "\n",
    "the syntax goes like this\n",
    "\n",
    "```haskell\n",
    "    case expression of pattern -> result  \n",
    "                       pattern -> result  \n",
    "                       pattern -> result  \n",
    "                       ...  \n",
    "```"
   ]
  },
  {
   "cell_type": "code",
   "execution_count": 40,
   "metadata": {
    "ExecuteTime": {
     "end_time": "2019-02-25T19:36:00.500359Z",
     "start_time": "2019-02-25T19:36:00.278Z"
    }
   },
   "outputs": [
    {
     "data": {
      "text/plain": [
       "\"The list is a singleton list.\""
      ]
     },
     "metadata": {},
     "output_type": "display_data"
    }
   ],
   "source": [
    "describeList :: [a] -> String  \n",
    "describeList xs = \"The list is \" ++ what xs  \n",
    "    where what [] = \"empty.\"  \n",
    "          what [x] = \"a singleton list.\"  \n",
    "          what xs = \"a longer list.\"\n",
    "          \n",
    "describeList [1]"
   ]
  },
  {
   "cell_type": "markdown",
   "metadata": {
    "ExecuteTime": {
     "end_time": "2019-02-25T09:16:14.590114Z",
     "start_time": "2019-02-25T09:16:14.586Z"
    }
   },
   "source": [
    "## Variables\n",
    "---\n",
    "Variables in Haskell are immutable, once defined they can't be changed.\n",
    "* Haskell sticks close to mathematical principles, so\n",
    "```haskell\n",
    "x = 1\n",
    "x = 2\n",
    "```\n",
    "would be equivalent to saying `1=2` by the transitive property. which is preposterous!\n",
    "\n",
    "![preposterous!][pic]\n",
    "\n",
    "[pic]: http://www.shuklan.com/haskell/L04_files/noway.gif \"preposterous!\"\n",
    "\n",
    "They can be used with the `let` keyword or with the `where` keyword.\n",
    "\n",
    "```haskell\n",
    "-- using let\n",
    "slope (x1,y1) (x2,y2) = let dy = y2-y1\n",
    "                            dx = x2-x1\n",
    "                        in dy/dx\n",
    "```\n",
    "\n",
    "```haskell\n",
    "-- using where\n",
    "slope (x1,y1) (x2,y2) = dy/dx\n",
    "                        where dy = y2-y1\n",
    "                              dx = x2-x1\n",
    "```"
   ]
  },
  {
   "cell_type": "markdown",
   "metadata": {},
   "source": [
    "## Whitespace\n",
    "---\n",
    "\n",
    "Indentation matters in Haskell, in general the rule to follow is:\n",
    "> *Code which is part of some expression should be indented further in than the beginning of that expression.*\n",
    "\n",
    "```haskell\n",
    "Level-1\n",
    "    Level-2\n",
    "              Level-3\n",
    "              Level-3\n",
    "              Level-3\n",
    "    Level-2\n",
    "     Level-3\n",
    "     Level-3\n",
    "\n",
    "Level-1\n",
    " Level-2\n",
    " Level-2\n",
    "\n",
    "Level-1\n",
    "```"
   ]
  },
  {
   "cell_type": "markdown",
   "metadata": {
    "run_control": {
     "marked": true
    }
   },
   "source": [
    "Convert between metric and imperial.\n",
    "\n",
    "`convert :: (Double, [Char]) -> (Double, [Char])`\n",
    "\n",
    "* m ↔ yd\n",
    "* L ↔ gal\n",
    "* kg ↔ lb"
   ]
  },
  {
   "cell_type": "code",
   "execution_count": 41,
   "metadata": {
    "ExecuteTime": {
     "end_time": "2019-02-25T19:36:39.505409Z",
     "start_time": "2019-02-25T19:36:39.277Z"
    }
   },
   "outputs": [
    {
     "data": {
      "text/plain": [
       "(2.20462,\"lb\")"
      ]
     },
     "metadata": {},
     "output_type": "display_data"
    }
   ],
   "source": [
    "convert :: (Double, [Char]) -> (Double, [Char])\n",
    "\n",
    "convert (qt, k)\n",
    "        | k == \"m\" = (qt * 1.09361, \"yd\")\n",
    "        | k == \"L\" = (qt * 0.264172, \"gal\")\n",
    "        | k == \"kg\" = (qt * 2.20462, \"lb\")\n",
    "        | otherwise = error \"non-existant unit specified, use m, L or kg !\"\n",
    "        \n",
    "convert (1, \"kg\")"
   ]
  }
 ],
 "metadata": {
  "kernelspec": {
   "display_name": "Haskell",
   "language": "haskell",
   "name": "haskell"
  },
  "language_info": {
   "codemirror_mode": "ihaskell",
   "file_extension": ".hs",
   "name": "haskell",
   "pygments_lexer": "Haskell",
   "version": "8.6.3"
  },
  "nbTranslate": {
   "displayLangs": [
    "*"
   ],
   "hotkey": "alt-t",
   "langInMainMenu": true,
   "sourceLang": "en",
   "targetLang": "fr",
   "useGoogleTranslate": true
  },
  "toc": {
   "base_numbering": 1,
   "nav_menu": {},
   "number_sections": true,
   "sideBar": true,
   "skip_h1_title": true,
   "title_cell": "Table of Contents",
   "title_sidebar": "Contents",
   "toc_cell": true,
   "toc_position": {},
   "toc_section_display": true,
   "toc_window_display": false
  }
 },
 "nbformat": 4,
 "nbformat_minor": 2
}
