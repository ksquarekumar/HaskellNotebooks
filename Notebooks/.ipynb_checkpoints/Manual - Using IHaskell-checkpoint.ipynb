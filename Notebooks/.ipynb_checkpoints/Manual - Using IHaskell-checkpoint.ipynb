{
 "cells": [
  {
   "cell_type": "markdown",
   "metadata": {
    "toc": true
   },
   "source": [
    "<h1>Table of Contents<span class=\"tocSkip\"></span></h1>\n",
    "<div class=\"toc\"><ul class=\"toc-item\"><li><span><a href=\"#IPython\" data-toc-modified-id=\"IPython-1\"><span class=\"toc-item-num\">1&nbsp;&nbsp;</span>IPython</a></span></li><li><span><a href=\"#Directories\" data-toc-modified-id=\"Directories-2\"><span class=\"toc-item-num\">2&nbsp;&nbsp;</span>Directories</a></span></li><li><span><a href=\"#Shelling-Out\" data-toc-modified-id=\"Shelling-Out-3\"><span class=\"toc-item-num\">3&nbsp;&nbsp;</span>Shelling Out</a></span></li><li><span><a href=\"#IHaskell-Directives\" data-toc-modified-id=\"IHaskell-Directives-4\"><span class=\"toc-item-num\">4&nbsp;&nbsp;</span>IHaskell Directives</a></span></li><li><span><a href=\"#Enable/disable-GHC-extensions\" data-toc-modified-id=\"Enable/disable-GHC-extensions-5\"><span class=\"toc-item-num\">5&nbsp;&nbsp;</span>Enable/disable GHC extensions</a></span><ul class=\"toc-item\"><li><span><a href=\"#Set-Dynamic-flags\" data-toc-modified-id=\"Set-Dynamic-flags-5.1\"><span class=\"toc-item-num\">5.1&nbsp;&nbsp;</span>Set Dynamic flags</a></span><ul class=\"toc-item\"><li><span><a href=\"#:opt-[no-]show-types\" data-toc-modified-id=\":opt-[no-]show-types-5.1.1\"><span class=\"toc-item-num\">5.1.1&nbsp;&nbsp;</span>:opt [no-]show-types</a></span></li><li><span><a href=\"#:opt-[no-]lint\" data-toc-modified-id=\":opt-[no-]lint-5.1.2\"><span class=\"toc-item-num\">5.1.2&nbsp;&nbsp;</span>:opt [no-]lint</a></span></li><li><span><a href=\"#:opt-[no-]svg\" data-toc-modified-id=\":opt-[no-]svg-5.1.3\"><span class=\"toc-item-num\">5.1.3&nbsp;&nbsp;</span>:opt [no-]svg</a></span></li><li><span><a href=\"#:opt-[no-]show-errors\" data-toc-modified-id=\":opt-[no-]show-errors-5.1.4\"><span class=\"toc-item-num\">5.1.4&nbsp;&nbsp;</span>:opt [no-]show-errors</a></span></li><li><span><a href=\"#:opt-[no-]pager\" data-toc-modified-id=\":opt-[no-]pager-5.1.5\"><span class=\"toc-item-num\">5.1.5&nbsp;&nbsp;</span>:opt [no-]pager</a></span></li></ul></li></ul></li></ul></div>"
   ]
  },
  {
   "cell_type": "markdown",
   "metadata": {},
   "source": [
    "## IPython\n",
    "---\n",
    "\n",
    "`IHaskell` is based upon the `IPython` architecture and `frontend`, so learning about that will help. You can write your own extensions using the `IPython javascript API`, for instance. Use h to learn more about the modal interface `IHaskell`/`IPython` provides.\n",
    "\n",
    "`IHaskell` adds a few features on top of the `IPython` frontends, such as `automatic character concealing` (typing `->` yields an arrow) and `input cell folding` (via the left and right arrow keys, or the buttons). If input cell folding isn't showing up, you can explicitly enable it via the `\"Cell Toolbar\" (select 'Hiding')`."
   ]
  },
  {
   "cell_type": "markdown",
   "metadata": {},
   "source": [
    "## Directories\n",
    "---\n",
    "IHaskell looks for notebook files (with the extension .`ipynb`) in `~/.ihaskell/notebooks` by default. You can change that via `ihaskell notebook --serve=directory` or equivalent `ihaskell notebook -s directory`.\n",
    "\n",
    "The working directory of the scripts defaults to wherever you're running the `ipython` instance from. You can change that via `:!cd my_new_dir`."
   ]
  },
  {
   "cell_type": "markdown",
   "metadata": {},
   "source": [
    "## Shelling Out\n",
    "---\n",
    "You can run simple shell commands with `:!cmd`, for example `:!cd /`. The shell is **persistent** (ie. *if you cd somewhere in one cell, and ls in the next, it will be in the directory you went to*).\n",
    "\n",
    "If you want to include values from Haskell, you can use a quasiquoter (via `:set -XQuasiQuotes`). For instance, using `System.ShQQ`, you could write something like\n",
    "\n",
    "```haskell\n",
    "let x = \"foo bar\" in [sh| cat $x |]\n",
    "```"
   ]
  },
  {
   "cell_type": "markdown",
   "metadata": {
    "ExecuteTime": {
     "end_time": "2019-02-24T10:03:20.543058Z",
     "start_time": "2019-02-24T10:03:20.539Z"
    }
   },
   "source": [
    "## IHaskell Directives\n",
    "---\n",
    "\n",
    "Many of the directives are shared with `GHCi` for the sake of convenience, though they do not necessarily behave in the exact same ways.\n",
    "`:set`, `:ext`, `:opt`\n",
    "\n",
    "Use :`set` to set flags (like GHCi set) and `:ext` to enable or disable extensions. (See below for more detail). `:opt` can be used to set `IHaskell`-specific options, such as :set no-pager.\n",
    "\n",
    "**:type**\n",
    "\n",
    "`:type` or `:t` is similar to that in GHCi, and shows the type of an expression.\n",
    "\n",
    "**:kind**\n",
    "\n",
    "`:kind` or `:k` is similar to that in GHCi, and shows the kind of a type. However, `:kind!` is not available at the moment; file an issue if that is important to you."
   ]
  },
  {
   "cell_type": "markdown",
   "metadata": {
    "ExecuteTime": {
     "end_time": "2019-02-24T10:06:18.378188Z",
     "start_time": "2019-02-24T10:06:18.372Z"
    }
   },
   "source": [
    "## Enable/disable GHC extensions\n",
    "---\n",
    "\n",
    "Example: `:extension DataKinds NoExtendedDefaultRules` Alternative: `:set -XDataKinds -XNoExtendedDefaultRules`\n",
    "\n",
    "### Set Dynamic flags\n",
    "\n",
    "You can use `:set` in a similar manner to `GHCi`, e.g., `set -XDataKinds`.\n",
    "\n",
    "#### :opt [no-]show-types\n",
    "\n",
    "Default **off**. Shows types of return values (similar to `:set +t` in `GHCi`).\n",
    "\n",
    "#### :opt [no-]lint\n",
    "\n",
    "Default **on**. Uses `HLint` to show suggestions for improvements.\n",
    "\n",
    "#### :opt [no-]svg\n",
    "\n",
    "Default **on**. Images from supporting libraries (such as Chart and Diagrams) are shown as `SVG` in the notebook. `SVG` images cannot at the moment be resized by the user clicking an dragging on a handle. When `no-svg` is set, displays use `PNG` instead, which can be resized in the notebook.\n",
    "\n",
    "#### :opt [no-]show-errors\n",
    "\n",
    "Default **off**. By default, errors due to evaluating expressions that don't have a Show instance are displayed as an `unshowable` button: When clicked, it displays the whole `Show` error message.\n",
    "\n",
    "To disable this and just show the error message by default (no button), use `:opt show-errors.`\n",
    "\n",
    "#### :opt [no-]pager\n",
    "\n",
    "Default **on**. By default, things such as `:info` and `:doc` go to the IPython pager. However, if you'd like them to persist, you can instead direct them into the output area of the cell via `:opt no-pager`."
   ]
  },
  {
   "cell_type": "code",
   "execution_count": null,
   "metadata": {},
   "outputs": [],
   "source": []
  }
 ],
 "metadata": {
  "kernelspec": {
   "display_name": "Haskell",
   "language": "haskell",
   "name": "haskell"
  },
  "language_info": {
   "codemirror_mode": "ihaskell",
   "file_extension": ".hs",
   "name": "haskell",
   "pygments_lexer": "Haskell",
   "version": "8.6.3"
  },
  "nbTranslate": {
   "displayLangs": [
    "*"
   ],
   "hotkey": "alt-t",
   "langInMainMenu": true,
   "sourceLang": "en",
   "targetLang": "fr",
   "useGoogleTranslate": true
  },
  "toc": {
   "base_numbering": 1,
   "nav_menu": {},
   "number_sections": true,
   "sideBar": true,
   "skip_h1_title": true,
   "title_cell": "Table of Contents",
   "title_sidebar": "Contents",
   "toc_cell": true,
   "toc_position": {},
   "toc_section_display": true,
   "toc_window_display": false
  }
 },
 "nbformat": 4,
 "nbformat_minor": 2
}
