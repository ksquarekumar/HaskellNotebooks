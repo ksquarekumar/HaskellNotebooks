{
 "cells": [
  {
   "cell_type": "markdown",
   "metadata": {
    "ExecuteTime": {
     "end_time": "2019-02-25T13:19:00.438050Z",
     "start_time": "2019-02-25T13:19:00.433Z"
    }
   },
   "source": [
    "# High Order Functions"
   ]
  },
  {
   "cell_type": "markdown",
   "metadata": {
    "toc": true
   },
   "source": [
    "<h1>Table of Contents<span class=\"tocSkip\"></span></h1>\n",
    "<div class=\"toc\"><ul class=\"toc-item\"><li><span><a href=\"#Higher-Order-Functions-?\" data-toc-modified-id=\"Higher-Order-Functions-?-1\"><span class=\"toc-item-num\">1&nbsp;&nbsp;</span>Higher Order Functions ?</a></span><ul class=\"toc-item\"><li><span><a href=\"#Maps\" data-toc-modified-id=\"Maps-1.1\"><span class=\"toc-item-num\">1.1&nbsp;&nbsp;</span>Maps</a></span></li><li><span><a href=\"#Filters\" data-toc-modified-id=\"Filters-1.2\"><span class=\"toc-item-num\">1.2&nbsp;&nbsp;</span>Filters</a></span></li><li><span><a href=\"#Anonymous-Function-/-Lambdas\" data-toc-modified-id=\"Anonymous-Function-/-Lambdas-1.3\"><span class=\"toc-item-num\">1.3&nbsp;&nbsp;</span>Anonymous Function / Lambdas</a></span></li><li><span><a href=\"#Folds\" data-toc-modified-id=\"Folds-1.4\"><span class=\"toc-item-num\">1.4&nbsp;&nbsp;</span>Folds</a></span></li><li><span><a href=\"#Scans\" data-toc-modified-id=\"Scans-1.5\"><span class=\"toc-item-num\">1.5&nbsp;&nbsp;</span>Scans</a></span></li></ul></li><li><span><a href=\"#Function-Application-($)\" data-toc-modified-id=\"Function-Application-($)-2\"><span class=\"toc-item-num\">2&nbsp;&nbsp;</span>Function Application <code>($)</code></a></span></li><li><span><a href=\"#The-.-function\" data-toc-modified-id=\"The-.-function-3\"><span class=\"toc-item-num\">3&nbsp;&nbsp;</span>The <code>.</code> function</a></span><ul class=\"toc-item\"><li><span><a href=\"#The-pandora's-box\" data-toc-modified-id=\"The-pandora's-box-3.1\"><span class=\"toc-item-num\">3.1&nbsp;&nbsp;</span>The pandora's box</a></span></li></ul></li></ul></div>"
   ]
  },
  {
   "cell_type": "markdown",
   "metadata": {},
   "source": [
    "## Higher Order Functions ?\n",
    "---\n",
    "\n",
    "Functions can take functions as arguments\n",
    "\n",
    "![deeper](http://www.shuklan.com/haskell/L06_files/inception.png \"must go deeper!\")"
   ]
  },
  {
   "cell_type": "markdown",
   "metadata": {},
   "source": [
    "### Maps\n",
    "---\n",
    "* `map` applies a function to each element of a list\n",
    "\n",
    "```haskell\n",
    "Prelude> map even [1..10]\n",
    "[False,True,False,True,False,True,False,True,False,True]\n",
    "\n",
    "Prelude> map (+5) [1..10]\n",
    "[6,7,8,9,10,11,12,13,14,15]\n",
    "```\n",
    "\n",
    "**Defining Map**\n",
    "\n",
    "Type Signature:\n",
    "```haskell\n",
    "map :: (a -> b) -> [a] -> [b]\n",
    "```\n",
    "\n",
    "Possible Implementations\n",
    "```haskell\n",
    "map f [] = []\n",
    "map f (x:xs) = (f x):(map f xs)\n",
    "```"
   ]
  },
  {
   "cell_type": "markdown",
   "metadata": {
    "ExecuteTime": {
     "end_time": "2019-02-25T13:24:27.885664Z",
     "start_time": "2019-02-25T13:24:27.606Z"
    }
   },
   "source": [
    "Example: Estimating π(PI)\n",
    "\n",
    "![pi](http://www.shuklan.com/haskell/L06_files/pi.png \"pi\")"
   ]
  },
  {
   "cell_type": "code",
   "execution_count": 1,
   "metadata": {
    "ExecuteTime": {
     "end_time": "2019-02-25T13:33:01.215237Z",
     "start_time": "2019-02-25T13:32:57.823Z"
    }
   },
   "outputs": [
    {
     "data": {
      "text/plain": [
       "3.1415916535897743"
      ]
     },
     "metadata": {},
     "output_type": "display_data"
    }
   ],
   "source": [
    "piGuess :: Int -> Double\n",
    "piGuess n = sum (map f [1..n])\n",
    "\n",
    "f :: Int -> Double\n",
    "f x = 4*(-1)^(x+1) / (2.0 * k - 1)\n",
    "    where k = fromIntegral x\n",
    "    \n",
    "piGuess 1000000"
   ]
  },
  {
   "cell_type": "markdown",
   "metadata": {},
   "source": [
    "### Filters\n",
    "---\n",
    "* filter refines a list using a predicate\n",
    "\n",
    "```haskell\n",
    "Prelude> filter even [1..10]\n",
    "[2,4,6,8,10]\n",
    "\n",
    "Prelude> filter (>5) [1..10]\n",
    "[6,7,8,9,10]\n",
    "```\n",
    "\n",
    "**Defining `Filter`**\n",
    "\n",
    "Type signature\n",
    "```haskell\n",
    "filter :: (a -> Bool) -> [a] -> [a]\n",
    "```\n",
    "Possible Implementation\n",
    "```haskell\n",
    "filter p []                 = []\n",
    "filter p (x:xs) | p x       = x : filter p xs\n",
    "                | otherwise = filter p xs\n",
    "```"
   ]
  },
  {
   "cell_type": "markdown",
   "metadata": {},
   "source": [
    "### Anonymous Function / Lambdas\n",
    "---\n",
    "Using λ-calculus to define a function from: notation $λx.(x*x)$\n",
    "\n",
    "* Lambdas are basically anonymous functions that are used because we need some functions only once. Normally, *we make a lambda with the sole purpose of passing it to a higher-order function*. To make a lambda, we write a `\\` and then we write the parameters, separated by spaces. After that comes a `->` and then the function body. We usually surround them by parentheses, because otherwise they extend all the way to the right.\n",
    "\n",
    "`(\\` `<parameters>` `->` `<functionbody>` `)`\n",
    "\n",
    "```haskell\n",
    "Prelude> map (\\x -> x*x) [1..10]\n",
    "[1,4,9,16,25,36,49,64,81,100]\n",
    "```\n",
    "\n",
    "Example:\n",
    "```haskell\n",
    "Prelude> data Gender = Male | Female deriving (Show, Eq)\n",
    "\n",
    "Prelude> let people = [(Male, \"Mal\"),   (Female, \"Zoe\"), \n",
    "                       (Male, \"Wash\"),  (Female, \"Inara\"), \n",
    "                       (Male, \"Jayne\"), (Female, \"Kaylee\")\n",
    "                       (Male, \"Simon\"), (Female, \"River\")]\n",
    "\n",
    "Prelude> filter (\\(a,b) -> a==Female) people\n",
    "[ (Female,\"Zoe\"), (Female,\"Inara\"), \n",
    "  (Female,\"Kaylee\"), (Female,\"River\") ]\n",
    "```"
   ]
  },
  {
   "cell_type": "code",
   "execution_count": 23,
   "metadata": {
    "ExecuteTime": {
     "end_time": "2019-02-25T19:47:59.115865Z",
     "start_time": "2019-02-25T19:47:58.886Z"
    }
   },
   "outputs": [
    {
     "data": {
      "text/plain": [
       "[153.0,61.5,31.0,15.75,6.6]"
      ]
     },
     "metadata": {},
     "output_type": "display_data"
    }
   ],
   "source": [
    "zipWith (\\a b -> (a * 30 + 3) / b) [5,4,3,2,1] [1,2,3,4,5]  "
   ]
  },
  {
   "cell_type": "code",
   "execution_count": 24,
   "metadata": {
    "ExecuteTime": {
     "end_time": "2019-02-25T19:50:06.230347Z",
     "start_time": "2019-02-25T19:50:06.006Z"
    }
   },
   "outputs": [
    {
     "data": {
      "text/html": [
       "<style>/* Styles used for the Hoogle display in the pager */\n",
       ".hoogle-doc {\n",
       "display: block;\n",
       "padding-bottom: 1.3em;\n",
       "padding-left: 0.4em;\n",
       "}\n",
       ".hoogle-code {\n",
       "display: block;\n",
       "font-family: monospace;\n",
       "white-space: pre;\n",
       "}\n",
       ".hoogle-text {\n",
       "display: block;\n",
       "}\n",
       ".hoogle-name {\n",
       "color: green;\n",
       "font-weight: bold;\n",
       "}\n",
       ".hoogle-head {\n",
       "font-weight: bold;\n",
       "}\n",
       ".hoogle-sub {\n",
       "display: block;\n",
       "margin-left: 0.4em;\n",
       "}\n",
       ".hoogle-package {\n",
       "font-weight: bold;\n",
       "font-style: italic;\n",
       "}\n",
       ".hoogle-module {\n",
       "font-weight: bold;\n",
       "}\n",
       ".hoogle-class {\n",
       "font-weight: bold;\n",
       "}\n",
       ".get-type {\n",
       "color: green;\n",
       "font-weight: bold;\n",
       "font-family: monospace;\n",
       "display: block;\n",
       "white-space: pre-wrap;\n",
       "}\n",
       ".show-type {\n",
       "color: green;\n",
       "font-weight: bold;\n",
       "font-family: monospace;\n",
       "margin-left: 1em;\n",
       "}\n",
       ".mono {\n",
       "font-family: monospace;\n",
       "display: block;\n",
       "}\n",
       ".err-msg {\n",
       "color: red;\n",
       "font-style: italic;\n",
       "font-family: monospace;\n",
       "white-space: pre;\n",
       "display: block;\n",
       "}\n",
       "#unshowable {\n",
       "color: red;\n",
       "font-weight: bold;\n",
       "}\n",
       ".err-msg.in.collapse {\n",
       "padding-top: 0.7em;\n",
       "}\n",
       ".highlight-code {\n",
       "white-space: pre;\n",
       "font-family: monospace;\n",
       "}\n",
       ".suggestion-warning { \n",
       "font-weight: bold;\n",
       "color: rgb(200, 130, 0);\n",
       "}\n",
       ".suggestion-error { \n",
       "font-weight: bold;\n",
       "color: red;\n",
       "}\n",
       ".suggestion-name {\n",
       "font-weight: bold;\n",
       "}\n",
       "</style><div class=\"suggestion-name\" style=\"clear:both;\">Use uncurry</div><div class=\"suggestion-row\" style=\"float: left;\"><div class=\"suggestion-warning\">Found:</div><div class=\"highlight-code\" id=\"haskell\">\\ (a, b) -> a + b</div></div><div class=\"suggestion-row\" style=\"float: left;\"><div class=\"suggestion-warning\">Why Not:</div><div class=\"highlight-code\" id=\"haskell\">uncurry (+)</div></div>"
      ],
      "text/plain": [
       "Line 1: Use uncurry\n",
       "Found:\n",
       "\\ (a, b) -> a + b\n",
       "Why not:\n",
       "uncurry (+)"
      ]
     },
     "metadata": {},
     "output_type": "display_data"
    },
    {
     "data": {
      "text/plain": [
       "[3,8,9,8,7]"
      ]
     },
     "metadata": {},
     "output_type": "display_data"
    }
   ],
   "source": [
    "map (\\(a,b) -> a + b) [(1,2),(3,5),(6,3),(2,6),(2,5)]"
   ]
  },
  {
   "cell_type": "markdown",
   "metadata": {},
   "source": [
    "### Folds\n",
    "---\n",
    "A `fold` scans an entire list to return a result\n",
    "\n",
    "Syntax is\n",
    "\n",
    "`foldl` `op` `default` `iterable` \n",
    "\n",
    "```haskell\n",
    "-- sum up all elements of a list\n",
    "Prelude> foldl (+) 0 [1, 2, 3]\n",
    "6\n",
    "\n",
    "-- count the number of vowels in a String\n",
    "\n",
    "Prelude> foldl (\\acc x -> if x `elem` \"aeiou\" \n",
    "                          then acc+1 \n",
    "                          else acc)  0 \"hello world\"\n",
    "2\n",
    "```\n",
    "\n",
    "* `fold` comes in quite a few variants, namely `foldl` or left fold, `foldr` or right fold, `foldl1` and `foldr1` that are like `foldl` and `foldr`, but without default values."
   ]
  },
  {
   "cell_type": "markdown",
   "metadata": {},
   "source": [
    "### Scans\n",
    "---\n",
    "A `scan` shows the intermediate values of a fold, the syntax is exactly like `fold`\n",
    "\n",
    "```haskell\n",
    "-- sum up all elements of a list\n",
    "\n",
    "Prelude> scanl (+) 0 [1, 2, 3]\n",
    "[0,1,3,6]\n",
    "\n",
    "\n",
    "-- count the number of vowels in a String\n",
    "\n",
    "Prelude> scanl (\\acc x -> if x `elem` \"aeiou\"\n",
    "                          then acc+1\n",
    "                          else acc)  0 \"hello world\"\n",
    "[0,0,1,1,1,2,2,2,3,3,3,3]\n",
    "```"
   ]
  },
  {
   "cell_type": "markdown",
   "metadata": {},
   "source": [
    "## Function Application `($)`\n",
    "---\n",
    "the operator `($)` makes function right associative, and allows jumping operator precedence.  imagine a `$` being sort of the equivalent of writing an opening parentheses and then writing a closing one on the far right side of the expression.\n",
    "\n",
    "```haskell\n",
    "Prelude> not odd 4\n",
    "ERROR!\n",
    "\n",
    "Prelude> not (odd 4)\n",
    "True\n",
    "\n",
    "Prelude> not $ odd 4\n",
    "True\n",
    "```"
   ]
  },
  {
   "cell_type": "code",
   "execution_count": 29,
   "metadata": {
    "ExecuteTime": {
     "end_time": "2019-02-25T19:58:04.044766Z",
     "start_time": "2019-02-25T19:58:03.824Z"
    }
   },
   "outputs": [
    {
     "data": {
      "text/plain": [
       "14.732050807568877"
      ]
     },
     "metadata": {},
     "output_type": "display_data"
    }
   ],
   "source": [
    "-- adds together 9, 4 and the square root of 3\n",
    "-- If we want get the square root of 3 + 4 + 9, we'd have to write sqrt (3 + 4 + 9)\n",
    "sqrt 3 + 4 + 9"
   ]
  },
  {
   "cell_type": "code",
   "execution_count": 30,
   "metadata": {
    "ExecuteTime": {
     "end_time": "2019-02-25T19:58:04.674615Z",
     "start_time": "2019-02-25T19:58:04.451Z"
    }
   },
   "outputs": [
    {
     "data": {
      "text/plain": [
       "4.0"
      ]
     },
     "metadata": {},
     "output_type": "display_data"
    }
   ],
   "source": [
    "sqrt $ 3 + 4 + 9"
   ]
  },
  {
   "cell_type": "markdown",
   "metadata": {},
   "source": [
    "## The `.` function\n",
    "---\n",
    "helps compose functions in a readable manner\n",
    "\n",
    "* `f(g(h(k(x))))` is *ugly*\n",
    "\n",
    "* `(f.g.h.k)(x)` is *pretty*"
   ]
  },
  {
   "cell_type": "markdown",
   "metadata": {},
   "source": [
    "### The pandora's box\n",
    "---\n",
    "\n",
    "Apart from the ones above Haskell comes with a ton of additional function libraries.\n",
    "\n",
    "Some of them are:\n",
    "\n",
    "* `Data.List`\n",
    "    ```haskell\n",
    "    Prelude Data.List> concat [\"under\",\"stand\",\"able\"]\n",
    "    \"understandable\"\n",
    "\n",
    "    Prelude Data.List> any (==0) [1,1,1,1,1,0,1]\n",
    "    True\n",
    "\n",
    "    Prelude Data.List> sort \"hello\"\n",
    "    \"ehllo\"\n",
    "    ```\n",
    "    \n",
    "* `Data.Char`\n",
    "    ```haskell\n",
    "    Prelude Data.Char> isNumber 'h'\n",
    "        False\n",
    "\n",
    "    Prelude Data.Char> toUpper 't'\n",
    "    'T'\n",
    "\n",
    "    Prelude Data.Char> map ord ['A'..'F']\n",
    "    [65,66,67,68,69,70] \n",
    "    ```\n",
    "    \n",
    "* `Data.Map`\n",
    "    ```haskell\n",
    "    let m = fromList [(\"CS\", \"Computer Science\"), \n",
    "                                        (\"PHIL\", \"Philosophy\")\n",
    "                                        (\"ASTR\", \"Astronomy\")]\n",
    "    Prelude Data.Map> keys m\n",
    "    [\"CS\",\"PHIL\",\"ASTR\"]\n",
    "    \n",
    "    Prelude Data.Map> Data.Map.lookup \"CS\" m\n",
    "    Just \"Computer Science\"\n",
    "    ```\n",
    "    \n",
    "* `Data.Set`\n",
    "    ```haskell\n",
    "    Prelude Data.Set> let a = fromList [1..58]\n",
    "    Prelude Data.Set> let b = fromList [53..100]\n",
    "\n",
    "    Prelude Data.Set> intersection a b\n",
    "    fromList [53,54,55,56,57,58]\n",
    "\n",
    "    Prelude Data.Set> findMax $ union a b\n",
    "    100\n",
    "    ```"
   ]
  },
  {
   "cell_type": "markdown",
   "metadata": {},
   "source": [
    "Exercise: Create a password strength checker\n",
    "\n",
    "* A strong password has\n",
    "\n",
    "    * at least 15 characters\n",
    "    * uppercase letters\n",
    "    * lowercase letters\n",
    "    * numbers"
   ]
  },
  {
   "cell_type": "code",
   "execution_count": 2,
   "metadata": {
    "ExecuteTime": {
     "end_time": "2019-02-26T19:59:50.440826Z",
     "start_time": "2019-02-26T19:59:50.216Z"
    }
   },
   "outputs": [
    {
     "data": {
      "text/plain": [
       "(False,False,True)"
      ]
     },
     "metadata": {},
     "output_type": "display_data"
    }
   ],
   "source": [
    "import Data.Char\n",
    "\n",
    "strong :: String -> Bool\n",
    "strong [] = False\n",
    "strong str = length str > 14 && all (>0) [hasUpper, hasLower, hasANums]\n",
    "             where hasUpper = length [ s | s <- str, isAsciiUpper s]\n",
    "                   hasLower = length [ s | s <- str, isAsciiLower s]\n",
    "                   hasANums = length [ s | s <- str, isNumber s]\n",
    "                   \n",
    "(strong \"blitZkreig99\", strong \"blitzkreig99\", strong \"blitzkreiGSTER99\")"
   ]
  },
  {
   "cell_type": "code",
   "execution_count": null,
   "metadata": {},
   "outputs": [],
   "source": []
  }
 ],
 "metadata": {
  "kernelspec": {
   "display_name": "Haskell",
   "language": "haskell",
   "name": "haskell"
  },
  "language_info": {
   "codemirror_mode": "ihaskell",
   "file_extension": ".hs",
   "name": "haskell",
   "pygments_lexer": "Haskell",
   "version": "8.6.3"
  },
  "nbTranslate": {
   "displayLangs": [
    "*"
   ],
   "hotkey": "alt-t",
   "langInMainMenu": true,
   "sourceLang": "en",
   "targetLang": "fr",
   "useGoogleTranslate": true
  },
  "toc": {
   "base_numbering": 1,
   "nav_menu": {},
   "number_sections": true,
   "sideBar": true,
   "skip_h1_title": true,
   "title_cell": "Table of Contents",
   "title_sidebar": "Contents",
   "toc_cell": true,
   "toc_position": {},
   "toc_section_display": true,
   "toc_window_display": false
  }
 },
 "nbformat": 4,
 "nbformat_minor": 2
}
