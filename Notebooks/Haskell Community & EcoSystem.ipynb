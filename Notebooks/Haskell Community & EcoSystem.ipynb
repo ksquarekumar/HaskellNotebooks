{
 "cells": [
  {
   "cell_type": "markdown",
   "metadata": {},
   "source": [
    "# Haskelling"
   ]
  },
  {
   "cell_type": "markdown",
   "metadata": {
    "toc": true
   },
   "source": [
    "<h1>Table of Contents<span class=\"tocSkip\"></span></h1>\n",
    "<div class=\"toc\"><ul class=\"toc-item\"><li><span><a href=\"#Communities\" data-toc-modified-id=\"Communities-1\"><span class=\"toc-item-num\">1&nbsp;&nbsp;</span>Communities</a></span><ul class=\"toc-item\"><li><span><a href=\"#Haskell-Wiki\" data-toc-modified-id=\"Haskell-Wiki-1.1\"><span class=\"toc-item-num\">1.1&nbsp;&nbsp;</span><a href=\"https://wiki.haskell.org/Haskell\" target=\"_blank\">Haskell Wiki</a></a></span></li><li><span><a href=\"#StackOverflow\" data-toc-modified-id=\"StackOverflow-1.2\"><span class=\"toc-item-num\">1.2&nbsp;&nbsp;</span><a href=\"http://stackoverflow.com/questions/tagged?tagnames=haskell\" target=\"_blank\">StackOverflow</a></a></span></li><li><span><a href=\"#IRC\" data-toc-modified-id=\"IRC-1.3\"><span class=\"toc-item-num\">1.3&nbsp;&nbsp;</span><a href=\"irc.freenode.net\" target=\"_blank\">IRC</a></a></span></li><li><span><a href=\"#Reddit\" data-toc-modified-id=\"Reddit-1.4\"><span class=\"toc-item-num\">1.4&nbsp;&nbsp;</span><a href=\"http://www.reddit.com/r/haskell/\" target=\"_blank\">Reddit</a></a></span></li></ul></li><li><span><a href=\"#Packages\" data-toc-modified-id=\"Packages-2\"><span class=\"toc-item-num\">2&nbsp;&nbsp;</span>Packages</a></span><ul class=\"toc-item\"><li><span><a href=\"#Hackage\" data-toc-modified-id=\"Hackage-2.1\"><span class=\"toc-item-num\">2.1&nbsp;&nbsp;</span><a href=\"http://hackage.haskell.org/packages/archive/pkg-list.html\" target=\"_blank\">Hackage</a></a></span></li><li><span><a href=\"#Cabal\" data-toc-modified-id=\"Cabal-2.2\"><span class=\"toc-item-num\">2.2&nbsp;&nbsp;</span><a href=\"http://www.haskell.org/haskellwiki/Cabal/How_to_install_a_Cabal_package\" target=\"_blank\">Cabal</a></a></span></li><li><span><a href=\"#Stack\" data-toc-modified-id=\"Stack-2.3\"><span class=\"toc-item-num\">2.3&nbsp;&nbsp;</span><a href=\"https://docs.haskellstack.org/en/stable/README/\" target=\"_blank\">Stack</a></a></span></li></ul></li></ul></div>"
   ]
  },
  {
   "cell_type": "markdown",
   "metadata": {
    "ExecuteTime": {
     "end_time": "2019-02-26T20:11:01.365178Z",
     "start_time": "2019-02-26T20:11:01.361Z"
    }
   },
   "source": [
    "## Communities\n",
    "---\n",
    "### [Haskell Wiki](https://wiki.haskell.org/Haskell)\n",
    "* [Tutorials](http://www.haskell.org/haskellwiki/Category:Tutorials)\n",
    "* [Articles on Mathematics](http://www.haskell.org/haskellwiki/Category:Mathematics)\n",
    "* [FAQ](http://www.haskell.org/haskellwiki/Category:FAQ)s\n",
    "* [Community Articles](http://www.haskell.org/haskellwiki/Category:Community)\n",
    "---\n",
    "![StackOverflow](https://upload.wikimedia.org/wikipedia/commons/thumb/f/f7/Stack_Overflow_logo.png/800px-Stack_Overflow_logo.png \"StackOverflow\")\n",
    "### [StackOverflow](http://stackoverflow.com/questions/tagged?tagnames=haskell)\n",
    "---\n",
    "### [IRC](irc.freenode.net)\n",
    "* Channel: #haskell\n",
    "![IRCstats](http://www.shuklan.com/haskell/L07_files/irc.png \"Haskell\")\n",
    "---\n",
    "### [Reddit](http://www.reddit.com/r/haskell/)"
   ]
  },
  {
   "cell_type": "markdown",
   "metadata": {},
   "source": [
    "## Packages\n",
    "---\n",
    "\n",
    "### [Hackage](http://hackage.haskell.org/packages/archive/pkg-list.html) \n",
    "\n",
    "### [Cabal](http://www.haskell.org/haskellwiki/Cabal/How_to_install_a_Cabal_package)\n",
    "\n",
    "* acronym for ***C***ommon ***A***rchitecture for ***B***uilding ***A***pplications and ***L***ibraries\n",
    "* command-line tool that installs packages and their dependencies\n",
    "    * fetches\n",
    "    * configures\n",
    "    * compiles\n",
    "    * installs\n",
    "\n",
    "usage:\n",
    "```console\n",
    "cabal install HTTP\n",
    "cabal update\n",
    "```"
   ]
  },
  {
   "cell_type": "markdown",
   "metadata": {},
   "source": [
    "### [Stack](https://docs.haskellstack.org/en/stable/README/)\n",
    "---\n",
    "Stack is a cross-platform program for developing Haskell projects.\n",
    "* Installing GHC automatically, in an isolated location.\n",
    "* Installing packages needed for your project.\n",
    "* Building your project.\n",
    "* Testing your project.\n",
    "* Benchmarking your project.\n",
    "\n",
    "to start a new project\n",
    "```console\n",
    "stack new my-project\n",
    "cd my-project\n",
    "stack setup\n",
    "stack build\n",
    "stack exec my-project-exe\n",
    "```\n",
    "\n",
    "to launch REPL\n",
    "\n",
    "```\n",
    "stack ghci\n",
    "```"
   ]
  }
 ],
 "metadata": {
  "kernelspec": {
   "display_name": "Haskell",
   "language": "haskell",
   "name": "haskell"
  },
  "language_info": {
   "codemirror_mode": "ihaskell",
   "file_extension": ".hs",
   "name": "haskell",
   "pygments_lexer": "Haskell",
   "version": "8.6.3"
  },
  "nbTranslate": {
   "displayLangs": [
    "*"
   ],
   "hotkey": "alt-t",
   "langInMainMenu": true,
   "sourceLang": "en",
   "targetLang": "fr",
   "useGoogleTranslate": true
  },
  "toc": {
   "base_numbering": 1,
   "nav_menu": {},
   "number_sections": true,
   "sideBar": true,
   "skip_h1_title": true,
   "title_cell": "Table of Contents",
   "title_sidebar": "Contents",
   "toc_cell": true,
   "toc_position": {},
   "toc_section_display": true,
   "toc_window_display": false
  }
 },
 "nbformat": 4,
 "nbformat_minor": 2
}
